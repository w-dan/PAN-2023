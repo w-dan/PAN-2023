{
 "cells": [
  {
   "cell_type": "markdown",
   "metadata": {
    "id": "oR8Nk3bughbG"
   },
   "source": [
    "# PAN 2020 Authorship Verification\n",
    "\n",
    "Authors:\n",
    "- David García Guillén\n",
    "- Daniel García Algora"
   ]
  },
  {
   "cell_type": "markdown",
   "metadata": {
    "id": "4FHZCPKkghbL"
   },
   "source": [
    "## Library and environment setup"
   ]
  },
  {
   "cell_type": "code",
   "execution_count": 1,
   "metadata": {
    "colab": {
     "base_uri": "https://localhost:8080/"
    },
    "id": "2SfH3ulB-08b",
    "outputId": "00fe4a67-cd12-4249-c6ba-864f28e0a9a0"
   },
   "outputs": [
    {
     "name": "stdout",
     "output_type": "stream",
     "text": [
      "\u001b[?25l     \u001b[90m━━━━━━━━━━━━━━━━━━━━━━━━━━━━━━━━━━━━━━━━\u001b[0m \u001b[32m0.0/86.0 kB\u001b[0m \u001b[31m?\u001b[0m eta \u001b[36m-:--:--\u001b[0m\r",
      "\u001b[2K     \u001b[91m━━━━━━━━━━━━━━━━━━━\u001b[0m\u001b[90m╺\u001b[0m\u001b[90m━━━━━━━━━━━━━━━━━━━━\u001b[0m \u001b[32m41.0/86.0 kB\u001b[0m \u001b[31m1.0 MB/s\u001b[0m eta \u001b[36m0:00:01\u001b[0m\r",
      "\u001b[2K     \u001b[90m━━━━━━━━━━━━━━━━━━━━━━━━━━━━━━━━━━━━━━━━\u001b[0m \u001b[32m86.0/86.0 kB\u001b[0m \u001b[31m1.5 MB/s\u001b[0m eta \u001b[36m0:00:00\u001b[0m\n",
      "\u001b[?25h  Preparing metadata (setup.py) ... \u001b[?25l\u001b[?25hdone\n",
      "\u001b[2K     \u001b[90m━━━━━━━━━━━━━━━━━━━━━━━━━━━━━━━━━━━━━━━━\u001b[0m \u001b[32m1.3/1.3 MB\u001b[0m \u001b[31m9.4 MB/s\u001b[0m eta \u001b[36m0:00:00\u001b[0m\n",
      "\u001b[?25h  Building wheel for sentence-transformers (setup.py) ... \u001b[?25l\u001b[?25hdone\n",
      "Requirement already satisfied: scikit-learn in /usr/local/lib/python3.10/dist-packages (1.2.2)\n",
      "Collecting scikit-learn\n",
      "  Downloading scikit_learn-1.3.2-cp310-cp310-manylinux_2_17_x86_64.manylinux2014_x86_64.whl (10.8 MB)\n",
      "\u001b[2K     \u001b[90m━━━━━━━━━━━━━━━━━━━━━━━━━━━━━━━━━━━━━━━━\u001b[0m \u001b[32m10.8/10.8 MB\u001b[0m \u001b[31m26.6 MB/s\u001b[0m eta \u001b[36m0:00:00\u001b[0m\n",
      "\u001b[?25hRequirement already satisfied: numpy<2.0,>=1.17.3 in /usr/local/lib/python3.10/dist-packages (from scikit-learn) (1.23.5)\n",
      "Requirement already satisfied: scipy>=1.5.0 in /usr/local/lib/python3.10/dist-packages (from scikit-learn) (1.11.4)\n",
      "Requirement already satisfied: joblib>=1.1.1 in /usr/local/lib/python3.10/dist-packages (from scikit-learn) (1.3.2)\n",
      "Requirement already satisfied: threadpoolctl>=2.0.0 in /usr/local/lib/python3.10/dist-packages (from scikit-learn) (3.2.0)\n",
      "Installing collected packages: scikit-learn\n",
      "  Attempting uninstall: scikit-learn\n",
      "    Found existing installation: scikit-learn 1.2.2\n",
      "    Uninstalling scikit-learn-1.2.2:\n",
      "      Successfully uninstalled scikit-learn-1.2.2\n",
      "Successfully installed scikit-learn-1.3.2\n"
     ]
    }
   ],
   "source": [
    "%pip install -q torch transformers numpy pandas sentence-transformers\n",
    "%pip install -U scikit-learn"
   ]
  },
  {
   "cell_type": "code",
   "execution_count": 2,
   "metadata": {
    "colab": {
     "base_uri": "https://localhost:8080/"
    },
    "id": "4ACU_WZv_C08",
    "outputId": "c856ec26-9666-4c11-ccec-ba48241156c4"
   },
   "outputs": [
    {
     "name": "stdout",
     "output_type": "stream",
     "text": [
      "Mounted at /content/drive\n"
     ]
    }
   ],
   "source": [
    "from google.colab import drive\n",
    "drive.mount('/content/drive')"
   ]
  },
  {
   "cell_type": "code",
   "execution_count": 3,
   "metadata": {
    "id": "cB0eaIQi-08g"
   },
   "outputs": [],
   "source": [
    "import os\n",
    "import json\n",
    "import pandas as pd\n",
    "from typing import List"
   ]
  },
  {
   "cell_type": "code",
   "execution_count": 4,
   "metadata": {
    "id": "q9tsRbi5-08h"
   },
   "outputs": [],
   "source": [
    "import torch\n",
    "import numpy as np\n",
    "import torch.nn as nn\n",
    "import torch.optim as optim\n",
    "from torch.utils.data import DataLoader, Dataset\n",
    "from transformers import AutoModel, AutoTokenizer\n",
    "from sklearn.model_selection import train_test_split"
   ]
  },
  {
   "cell_type": "markdown",
   "metadata": {
    "id": "YnMiysJ8ghbR"
   },
   "source": [
    "Some of the lines are commented in order to access the data in different ways, since we tried several different runtime environments.\n",
    "We created the `get_dataframe_from_file` function in order to transform .jsonl files directly to pandas dataframes, and then merged values and their corresponding ground truths into a single dataframe."
   ]
  },
  {
   "cell_type": "code",
   "execution_count": 7,
   "metadata": {
    "id": "AJxuSOS2-08i"
   },
   "outputs": [],
   "source": [
    "PARENT_FOLDER = \"PAN2020-authorship-verification\"\n",
    "DATASET_TRUTH_TRAIN = f\"{PARENT_FOLDER}/pan20-authorship-verification-training-small/pan20-authorship-verification-training-small-truth.jsonl\"\n",
    "DATASET_TRAIN = f\"{PARENT_FOLDER}/pan20-authorship-verification-training-small/pan20-authorship-verification-training-small.jsonl\""
   ]
  },
  {
   "cell_type": "code",
   "execution_count": 6,
   "metadata": {
    "id": "oUlVNT1T-08i"
   },
   "outputs": [],
   "source": [
    "def get_dataframe_from_file (file_path : str) -> List:\n",
    "    data = []\n",
    "\n",
    "    with open(file_path, 'r') as file:\n",
    "        for line in file:\n",
    "            try:\n",
    "                parsed_data = json.loads(line)\n",
    "                data.append(parsed_data)\n",
    "            except json.JSONDecodeError as e:\n",
    "                print(f\"Error parsing JSON: {e}\")\n",
    "\n",
    "    return pd.DataFrame(data)"
   ]
  },
  {
   "cell_type": "code",
   "execution_count": 8,
   "metadata": {
    "colab": {
     "base_uri": "https://localhost:8080/"
    },
    "id": "1D8SFaeL-08i",
    "outputId": "fd668475-47a7-476c-d15b-0a0e5b67648f"
   },
   "outputs": [
    {
     "name": "stdout",
     "output_type": "stream",
     "text": [
      "52623\n"
     ]
    }
   ],
   "source": [
    "df_ground_truth = get_dataframe_from_file(DATASET_TRUTH_TRAIN)\n",
    "df_inputs = get_dataframe_from_file(DATASET_TRAIN)\n",
    "\n",
    "df_combined = pd.merge(df_ground_truth, df_inputs, on='id')\n",
    "\n",
    "print(len(df_combined))"
   ]
  },
  {
   "cell_type": "code",
   "execution_count": null,
   "metadata": {
    "colab": {
     "base_uri": "https://localhost:8080/",
     "height": 206
    },
    "id": "XWgWu8d9-08j",
    "outputId": "8a0d3911-2257-4077-d780-423e176e0c58"
   },
   "outputs": [
    {
     "data": {
      "text/html": [
       "<div>\n",
       "<style scoped>\n",
       "    .dataframe tbody tr th:only-of-type {\n",
       "        vertical-align: middle;\n",
       "    }\n",
       "\n",
       "    .dataframe tbody tr th {\n",
       "        vertical-align: top;\n",
       "    }\n",
       "\n",
       "    .dataframe thead th {\n",
       "        text-align: right;\n",
       "    }\n",
       "</style>\n",
       "<table border=\"1\" class=\"dataframe\">\n",
       "  <thead>\n",
       "    <tr style=\"text-align: right;\">\n",
       "      <th></th>\n",
       "      <th>id</th>\n",
       "      <th>same</th>\n",
       "      <th>authors</th>\n",
       "    </tr>\n",
       "  </thead>\n",
       "  <tbody>\n",
       "    <tr>\n",
       "      <th>0</th>\n",
       "      <td>6cced668-6e51-5212-873c-717f2bc91ce6</td>\n",
       "      <td>True</td>\n",
       "      <td>[1446633, 1446633]</td>\n",
       "    </tr>\n",
       "    <tr>\n",
       "      <th>1</th>\n",
       "      <td>3c6c188a-db28-59aa-8c09-3d0f799ff579</td>\n",
       "      <td>True</td>\n",
       "      <td>[1446633, 1446633]</td>\n",
       "    </tr>\n",
       "    <tr>\n",
       "      <th>2</th>\n",
       "      <td>b0cfa94f-c9ec-5aa5-8331-a5a249b664cf</td>\n",
       "      <td>True</td>\n",
       "      <td>[1446633, 1446633]</td>\n",
       "    </tr>\n",
       "    <tr>\n",
       "      <th>3</th>\n",
       "      <td>e6e86e73-9a7b-58f2-a652-a17b4a1bcabf</td>\n",
       "      <td>True</td>\n",
       "      <td>[1446633, 1446633]</td>\n",
       "    </tr>\n",
       "    <tr>\n",
       "      <th>4</th>\n",
       "      <td>4fe541af-912e-5a86-81a5-94c6d3891509</td>\n",
       "      <td>True</td>\n",
       "      <td>[1446633, 1446633]</td>\n",
       "    </tr>\n",
       "  </tbody>\n",
       "</table>\n",
       "</div>"
      ],
      "text/plain": [
       "                                     id  same             authors\n",
       "0  6cced668-6e51-5212-873c-717f2bc91ce6  True  [1446633, 1446633]\n",
       "1  3c6c188a-db28-59aa-8c09-3d0f799ff579  True  [1446633, 1446633]\n",
       "2  b0cfa94f-c9ec-5aa5-8331-a5a249b664cf  True  [1446633, 1446633]\n",
       "3  e6e86e73-9a7b-58f2-a652-a17b4a1bcabf  True  [1446633, 1446633]\n",
       "4  4fe541af-912e-5a86-81a5-94c6d3891509  True  [1446633, 1446633]"
      ]
     },
     "execution_count": 9,
     "metadata": {},
     "output_type": "execute_result"
    }
   ],
   "source": [
    "df_ground_truth.head()"
   ]
  },
  {
   "cell_type": "code",
   "execution_count": null,
   "metadata": {
    "colab": {
     "base_uri": "https://localhost:8080/"
    },
    "id": "xxj8KkwL-08j",
    "outputId": "80535c4e-5457-48e9-f5b2-424f8c6fdf81"
   },
   "outputs": [
    {
     "data": {
      "text/plain": [
       "52601"
      ]
     },
     "execution_count": 10,
     "metadata": {},
     "output_type": "execute_result"
    }
   ],
   "source": [
    "len(df_ground_truth)"
   ]
  },
  {
   "cell_type": "code",
   "execution_count": null,
   "metadata": {
    "id": "GlXZyaAn-08k"
   },
   "outputs": [],
   "source": [
    "def check_not_nulls(df: pd.DataFrame) -> None:\n",
    "    print(df.isnull().sum())"
   ]
  },
  {
   "cell_type": "code",
   "execution_count": null,
   "metadata": {
    "id": "t08Nbf9U-08k"
   },
   "outputs": [],
   "source": [
    "def count_duplicate_ids(df: pd.DataFrame) -> pd.Series:\n",
    "    # Find duplicate IDs\n",
    "    duplicate_ids = df[df.duplicated(subset=['id'], keep=False)]\n",
    "\n",
    "    # Calculate the sum of repetitions\n",
    "    sum_repetitions = len(duplicate_ids)\n",
    "\n",
    "    return sum_repetitions"
   ]
  },
  {
   "cell_type": "code",
   "execution_count": null,
   "metadata": {
    "colab": {
     "base_uri": "https://localhost:8080/"
    },
    "id": "2qC-r8ng-08l",
    "outputId": "aee2f099-3751-4162-d5c6-ebabe2c1f077"
   },
   "outputs": [
    {
     "name": "stdout",
     "output_type": "stream",
     "text": [
      "id         0\n",
      "same       0\n",
      "authors    0\n",
      "dtype: int64\n"
     ]
    }
   ],
   "source": [
    "check_not_nulls(df_ground_truth)"
   ]
  },
  {
   "cell_type": "code",
   "execution_count": null,
   "metadata": {
    "colab": {
     "base_uri": "https://localhost:8080/"
    },
    "id": "ihT9xtTV-08l",
    "outputId": "c3236182-86c7-4984-cc8e-51454223a2d4"
   },
   "outputs": [
    {
     "name": "stdout",
     "output_type": "stream",
     "text": [
      "id         0\n",
      "fandoms    0\n",
      "pair       0\n",
      "dtype: int64\n"
     ]
    }
   ],
   "source": [
    "check_not_nulls(df_inputs)"
   ]
  },
  {
   "cell_type": "markdown",
   "metadata": {
    "id": "3Aeirwcp-08l"
   },
   "source": [
    "Only on training data"
   ]
  },
  {
   "cell_type": "markdown",
   "metadata": {
    "id": "cpSJOm2R-08m"
   },
   "source": [
    "## Dataset generation\n",
    "\n",
    "In order to create a robust dataset, we decided to separate pairs and their respective fandoms, utilizing the fandom information to generate a new dataset of pairs.\n"
   ]
  },
  {
   "cell_type": "code",
   "execution_count": null,
   "metadata": {
    "id": "sp0xjiCL-08m"
   },
   "outputs": [],
   "source": [
    "assert count_duplicate_ids(df_ground_truth) == count_duplicate_ids(df_inputs)"
   ]
  },
  {
   "cell_type": "markdown",
   "metadata": {
    "id": "cXe8he-L-08n"
   },
   "source": [
    "Column 'same' is removed as it doesn't provide relevant information for model training. This is because it's a comparison between two IDs that are outputs of the model."
   ]
  },
  {
   "cell_type": "code",
   "execution_count": null,
   "metadata": {
    "id": "wV4WhhPg-08n"
   },
   "outputs": [],
   "source": [
    "df_combined = df_combined.drop(\"authors\", axis=1).drop(\"fandoms\", axis=1)"
   ]
  },
  {
   "cell_type": "markdown",
   "metadata": {
    "id": "53SVfcQV-08n"
   },
   "source": [
    "Rename \"authors\" to \"y\""
   ]
  },
  {
   "cell_type": "code",
   "execution_count": null,
   "metadata": {
    "id": "yE0B3Vxf-08n"
   },
   "outputs": [],
   "source": [
    "df_combined = df_combined.rename(columns={'same': 'y'})"
   ]
  },
  {
   "cell_type": "code",
   "execution_count": null,
   "metadata": {
    "colab": {
     "base_uri": "https://localhost:8080/",
     "height": 206
    },
    "id": "nWEViDAc-08n",
    "outputId": "b2a9c910-7d2e-425b-a2ed-5d4a5784bfc1"
   },
   "outputs": [
    {
     "data": {
      "text/html": [
       "<div>\n",
       "<style scoped>\n",
       "    .dataframe tbody tr th:only-of-type {\n",
       "        vertical-align: middle;\n",
       "    }\n",
       "\n",
       "    .dataframe tbody tr th {\n",
       "        vertical-align: top;\n",
       "    }\n",
       "\n",
       "    .dataframe thead th {\n",
       "        text-align: right;\n",
       "    }\n",
       "</style>\n",
       "<table border=\"1\" class=\"dataframe\">\n",
       "  <thead>\n",
       "    <tr style=\"text-align: right;\">\n",
       "      <th></th>\n",
       "      <th>id</th>\n",
       "      <th>y</th>\n",
       "      <th>pair</th>\n",
       "    </tr>\n",
       "  </thead>\n",
       "  <tbody>\n",
       "    <tr>\n",
       "      <th>0</th>\n",
       "      <td>6cced668-6e51-5212-873c-717f2bc91ce6</td>\n",
       "      <td>True</td>\n",
       "      <td>[I shift a bit, warily letting my eyes dart fr...</td>\n",
       "    </tr>\n",
       "    <tr>\n",
       "      <th>1</th>\n",
       "      <td>3c6c188a-db28-59aa-8c09-3d0f799ff579</td>\n",
       "      <td>True</td>\n",
       "      <td>[I shift a bit, warily letting my eyes dart fr...</td>\n",
       "    </tr>\n",
       "    <tr>\n",
       "      <th>2</th>\n",
       "      <td>b0cfa94f-c9ec-5aa5-8331-a5a249b664cf</td>\n",
       "      <td>True</td>\n",
       "      <td>[A single tear escaped me as I left. I did hav...</td>\n",
       "    </tr>\n",
       "    <tr>\n",
       "      <th>3</th>\n",
       "      <td>e6e86e73-9a7b-58f2-a652-a17b4a1bcabf</td>\n",
       "      <td>True</td>\n",
       "      <td>[\"Ja.\" Ludwig kept his gaze upon her, solidly....</td>\n",
       "    </tr>\n",
       "    <tr>\n",
       "      <th>4</th>\n",
       "      <td>4fe541af-912e-5a86-81a5-94c6d3891509</td>\n",
       "      <td>True</td>\n",
       "      <td>[And he did. Slowly, hesitantly...but coming f...</td>\n",
       "    </tr>\n",
       "  </tbody>\n",
       "</table>\n",
       "</div>"
      ],
      "text/plain": [
       "                                     id     y  \\\n",
       "0  6cced668-6e51-5212-873c-717f2bc91ce6  True   \n",
       "1  3c6c188a-db28-59aa-8c09-3d0f799ff579  True   \n",
       "2  b0cfa94f-c9ec-5aa5-8331-a5a249b664cf  True   \n",
       "3  e6e86e73-9a7b-58f2-a652-a17b4a1bcabf  True   \n",
       "4  4fe541af-912e-5a86-81a5-94c6d3891509  True   \n",
       "\n",
       "                                                pair  \n",
       "0  [I shift a bit, warily letting my eyes dart fr...  \n",
       "1  [I shift a bit, warily letting my eyes dart fr...  \n",
       "2  [A single tear escaped me as I left. I did hav...  \n",
       "3  [\"Ja.\" Ludwig kept his gaze upon her, solidly....  \n",
       "4  [And he did. Slowly, hesitantly...but coming f...  "
      ]
     },
     "execution_count": 19,
     "metadata": {},
     "output_type": "execute_result"
    }
   ],
   "source": [
    "df_combined.head()"
   ]
  },
  {
   "cell_type": "code",
   "execution_count": null,
   "metadata": {
    "colab": {
     "base_uri": "https://localhost:8080/"
    },
    "id": "ehU88Okz-08o",
    "outputId": "0930fea0-860c-4cd8-c28d-09d3f8f9925d"
   },
   "outputs": [
    {
     "data": {
      "text/plain": [
       "id                   6cced668-6e51-5212-873c-717f2bc91ce6\n",
       "y                                                    True\n",
       "pair    [I shift a bit, warily letting my eyes dart fr...\n",
       "Name: 0, dtype: object"
      ]
     },
     "execution_count": 20,
     "metadata": {},
     "output_type": "execute_result"
    }
   ],
   "source": [
    "df_combined.iloc[0]"
   ]
  },
  {
   "cell_type": "code",
   "execution_count": null,
   "metadata": {
    "id": "O8CUxhel-08o"
   },
   "outputs": [],
   "source": [
    "df_combined[['text1', 'text2']] = df_combined['pair'].apply(pd.Series)\n",
    "df_combined = df_combined.drop(\"pair\", axis=1)"
   ]
  },
  {
   "cell_type": "code",
   "execution_count": null,
   "metadata": {
    "colab": {
     "base_uri": "https://localhost:8080/",
     "height": 206
    },
    "id": "Vv565kCg-08o",
    "outputId": "55c23f29-4a7c-4895-bfc5-56aa8b5f27de"
   },
   "outputs": [
    {
     "data": {
      "text/html": [
       "<div>\n",
       "<style scoped>\n",
       "    .dataframe tbody tr th:only-of-type {\n",
       "        vertical-align: middle;\n",
       "    }\n",
       "\n",
       "    .dataframe tbody tr th {\n",
       "        vertical-align: top;\n",
       "    }\n",
       "\n",
       "    .dataframe thead th {\n",
       "        text-align: right;\n",
       "    }\n",
       "</style>\n",
       "<table border=\"1\" class=\"dataframe\">\n",
       "  <thead>\n",
       "    <tr style=\"text-align: right;\">\n",
       "      <th></th>\n",
       "      <th>id</th>\n",
       "      <th>y</th>\n",
       "      <th>text1</th>\n",
       "      <th>text2</th>\n",
       "    </tr>\n",
       "  </thead>\n",
       "  <tbody>\n",
       "    <tr>\n",
       "      <th>0</th>\n",
       "      <td>6cced668-6e51-5212-873c-717f2bc91ce6</td>\n",
       "      <td>True</td>\n",
       "      <td>I shift a bit, warily letting my eyes dart fro...</td>\n",
       "      <td>\"All will become one with Russia,\" he said, al...</td>\n",
       "    </tr>\n",
       "    <tr>\n",
       "      <th>1</th>\n",
       "      <td>3c6c188a-db28-59aa-8c09-3d0f799ff579</td>\n",
       "      <td>True</td>\n",
       "      <td>I shift a bit, warily letting my eyes dart fro...</td>\n",
       "      <td>Suddenly, a piece of ice falls into the pit of...</td>\n",
       "    </tr>\n",
       "    <tr>\n",
       "      <th>2</th>\n",
       "      <td>b0cfa94f-c9ec-5aa5-8331-a5a249b664cf</td>\n",
       "      <td>True</td>\n",
       "      <td>A single tear escaped me as I left. I did have...</td>\n",
       "      <td>got the Yang yoyo.\" Kimiko pulled the other ha...</td>\n",
       "    </tr>\n",
       "    <tr>\n",
       "      <th>3</th>\n",
       "      <td>e6e86e73-9a7b-58f2-a652-a17b4a1bcabf</td>\n",
       "      <td>True</td>\n",
       "      <td>\"Ja.\" Ludwig kept his gaze upon her, solidly. ...</td>\n",
       "      <td>SilverGray lll...YellowRagged llll...GrayMilli...</td>\n",
       "    </tr>\n",
       "    <tr>\n",
       "      <th>4</th>\n",
       "      <td>4fe541af-912e-5a86-81a5-94c6d3891509</td>\n",
       "      <td>True</td>\n",
       "      <td>And he did. Slowly, hesitantly...but coming fr...</td>\n",
       "      <td>\"Let\"s go,\" Raimondo said and then started in ...</td>\n",
       "    </tr>\n",
       "  </tbody>\n",
       "</table>\n",
       "</div>"
      ],
      "text/plain": [
       "                                     id     y  \\\n",
       "0  6cced668-6e51-5212-873c-717f2bc91ce6  True   \n",
       "1  3c6c188a-db28-59aa-8c09-3d0f799ff579  True   \n",
       "2  b0cfa94f-c9ec-5aa5-8331-a5a249b664cf  True   \n",
       "3  e6e86e73-9a7b-58f2-a652-a17b4a1bcabf  True   \n",
       "4  4fe541af-912e-5a86-81a5-94c6d3891509  True   \n",
       "\n",
       "                                               text1  \\\n",
       "0  I shift a bit, warily letting my eyes dart fro...   \n",
       "1  I shift a bit, warily letting my eyes dart fro...   \n",
       "2  A single tear escaped me as I left. I did have...   \n",
       "3  \"Ja.\" Ludwig kept his gaze upon her, solidly. ...   \n",
       "4  And he did. Slowly, hesitantly...but coming fr...   \n",
       "\n",
       "                                               text2  \n",
       "0  \"All will become one with Russia,\" he said, al...  \n",
       "1  Suddenly, a piece of ice falls into the pit of...  \n",
       "2  got the Yang yoyo.\" Kimiko pulled the other ha...  \n",
       "3  SilverGray lll...YellowRagged llll...GrayMilli...  \n",
       "4  \"Let\"s go,\" Raimondo said and then started in ...  "
      ]
     },
     "execution_count": 22,
     "metadata": {},
     "output_type": "execute_result"
    }
   ],
   "source": [
    "df_combined.head()"
   ]
  },
  {
   "cell_type": "code",
   "execution_count": null,
   "metadata": {
    "colab": {
     "base_uri": "https://localhost:8080/"
    },
    "id": "U-PrpWAb-08o",
    "outputId": "8995ee5c-5416-4f15-8b47-d87211aa3d63"
   },
   "outputs": [
    {
     "data": {
      "text/plain": [
       "True"
      ]
     },
     "execution_count": 23,
     "metadata": {},
     "output_type": "execute_result"
    }
   ],
   "source": [
    "df_combined.iloc[1, 1]"
   ]
  },
  {
   "cell_type": "code",
   "execution_count": null,
   "metadata": {
    "colab": {
     "base_uri": "https://localhost:8080/"
    },
    "id": "LuoWVIM--08o",
    "outputId": "0de76af4-d998-4687-ff24-eb2f0f3c069a"
   },
   "outputs": [
    {
     "data": {
      "text/plain": [
       "21441"
      ]
     },
     "execution_count": 24,
     "metadata": {},
     "output_type": "execute_result"
    }
   ],
   "source": [
    "mean_length = 0\n",
    "for i in range(len(df_combined)):\n",
    "    mean_length += len(df_combined.iloc[i, 2]) + len(df_combined.iloc[i, 3])\n",
    "\n",
    "mean_length /= len(df_combined) * 2\n",
    "mean_length = int(mean_length)\n",
    "mean_length"
   ]
  },
  {
   "cell_type": "markdown",
   "metadata": {
    "id": "wMfPplmIghbd"
   },
   "source": [
    "For extra scalability we created the `CustomDataset` class, which  tokenizes a dataframe's text data using a specified model, and provides individual encoded texts along with their targets."
   ]
  },
  {
   "cell_type": "code",
   "execution_count": 9,
   "metadata": {
    "id": "4_FoSaGF-08o"
   },
   "outputs": [],
   "source": [
    "class CustomDataset(Dataset):\n",
    "    def __init__(self, df, model_name, max_len=512):\n",
    "        self.tokenizer = AutoTokenizer.from_pretrained(model_name)\n",
    "        self.data = df\n",
    "        self.max_len = max_len\n",
    "\n",
    "    def __len__(self):\n",
    "        return len(self.data)\n",
    "\n",
    "    def __getitem__(self, index):\n",
    "        encoded_input_text1 = self.tokenizer(self.data.iloc[index, 2], max_length=self.max_len, padding=True, truncation=True, return_tensors='pt')\n",
    "        encoded_input_text2 = self.tokenizer(self.data.iloc[index, 3], max_length=self.max_len, padding=True, truncation=True, return_tensors='pt')\n",
    "\n",
    "        return {\n",
    "            \"encoded_input_text1\": encoded_input_text1,\n",
    "            \"encoded_input_text2\": encoded_input_text2,\n",
    "            \"targets\": torch.tensor(int(self.data.iloc[index, 1]), dtype=torch.float)\n",
    "        }"
   ]
  },
  {
   "cell_type": "markdown",
   "metadata": {
    "id": "ZzZLm5MY-08p"
   },
   "source": [
    "# Model\n",
    "\n",
    "The Transformer requires 2 dimensions, yet the tokenizer yields 3: batch, 1, and text length. To retain the batch (enabling the capture of all batches and their respective text), an additional dimension is inserted in the second place, signifying what the Transformer would receive if the batch weren't used."
   ]
  },
  {
   "cell_type": "code",
   "execution_count": 10,
   "metadata": {
    "id": "WjXHJTIv-08p"
   },
   "outputs": [],
   "source": [
    "class TransformerModel(nn.Module):\n",
    "    def __init__(self, model_name, freeze_transformer):\n",
    "        super(TransformerModel, self).__init__()\n",
    "        self.transformer = AutoModel.from_pretrained(model_name)\n",
    "\n",
    "        if freeze_transformer:\n",
    "            for param in self.transformer.parameters():\n",
    "                param.requires_grad = False\n",
    "\n",
    "        self.dense1 = nn.Linear(768, 512)\n",
    "        self.dropout = nn.Dropout(0.4)\n",
    "        self.cosine = nn.CosineSimilarity(dim=1)\n",
    "        self.dense = nn.Linear(1, 1)\n",
    "        self.gelu = nn.GELU()\n",
    "        self.sigmoid = nn.Sigmoid()\n",
    "\n",
    "    def forward(self, encoded_input_text1, encoded_input_text2):\n",
    "        input_ids_text1 = encoded_input_text1['input_ids']\n",
    "        attention_mask_text1 = encoded_input_text1['attention_mask']\n",
    "\n",
    "        input_ids_text2 = encoded_input_text2['input_ids']\n",
    "        attention_mask_text2 = encoded_input_text2['attention_mask']\n",
    "\n",
    "        # Move tensors to GPU\n",
    "        if torch.cuda.is_available():\n",
    "            input_ids_text1 = input_ids_text1.cuda()\n",
    "            attention_mask_text1 = attention_mask_text1.cuda()\n",
    "            input_ids_text2 = input_ids_text2.cuda()\n",
    "            attention_mask_text2 = attention_mask_text2.cuda()\n",
    "\n",
    "        model_output_text1 = self.transformer(\n",
    "            input_ids=input_ids_text1[:, 0, :],\n",
    "            attention_mask=attention_mask_text1[:, 0, :],\n",
    "        ).last_hidden_state[:, 0]\n",
    "        model_output_text2 = self.transformer(\n",
    "            input_ids=input_ids_text2[:, 0, :],\n",
    "            attention_mask=attention_mask_text2[:, 0, :],\n",
    "        ).last_hidden_state[:, 0]\n",
    "\n",
    "        x_a, x_b = self.dense1(model_output_text1), self.dense1(model_output_text2)\n",
    "        x_a, x_b = self.gelu(self.dropout(x_a)), self.gelu(self.dropout(x_b))\n",
    "        sem_sim = self.cosine(x_a, x_b)\n",
    "\n",
    "        return self.sigmoid(sem_sim)"
   ]
  },
  {
   "cell_type": "markdown",
   "metadata": {
    "id": "XLeEkXGm-08p"
   },
   "source": [
    "# Training model\n",
    "\n",
    "In order to train the model, we defined the `evaluate` function, which assess the model's performance by computing the loss and accuracy metrics based on predictions and actual targets from a given data loader, and the `training_step` function, which performs a single training iteration by predicting outputs, computing loss, backpropagating, and updating model weights using the provided optimizer and loss function, returning the computed loss value.\n",
    "\n",
    "Since we are working on comparing styles or embeddings, the `AnnaWegmann/Style-Embedding` model might yield good results, as it's trained to capture aspects of style in text."
   ]
  },
  {
   "cell_type": "code",
   "execution_count": 11,
   "metadata": {
    "id": "ari5VarFELn0"
   },
   "outputs": [],
   "source": [
    "model_name = 'AnnaWegmann/Style-Embedding' # chosen pretrained model"
   ]
  },
  {
   "cell_type": "code",
   "execution_count": null,
   "metadata": {
    "id": "jSfr1678ENZ8"
   },
   "outputs": [],
   "source": [
    "train_df, val_df = train_test_split(df_combined, test_size=0.2, random_state=42)\n",
    "train_dataset = CustomDataset(train_df, model_name, max_len=mean_length)\n",
    "train_data_loader = DataLoader(train_dataset, batch_size=1, pin_memory=True, shuffle=True)"
   ]
  },
  {
   "cell_type": "code",
   "execution_count": 12,
   "metadata": {
    "id": "-M16X-p_JJFE"
   },
   "outputs": [],
   "source": [
    "def evaluate(model, data_loader, criterion):\n",
    "    model.eval()\n",
    "    total_loss = 0\n",
    "    correct_predictions = 0\n",
    "    total_samples = 0\n",
    "\n",
    "    with torch.no_grad():\n",
    "        for batch in data_loader:\n",
    "            encoded_input_text1 = batch['encoded_input_text1']\n",
    "            encoded_input_text2 = batch['encoded_input_text2']\n",
    "            targets = batch['targets']\n",
    "\n",
    "            y_pred = model.forward(encoded_input_text1, encoded_input_text2)\n",
    "\n",
    "            if torch.cuda.is_available():\n",
    "                targets = targets.cuda()\n",
    "\n",
    "            # Calculate loss\n",
    "            loss = criterion(y_pred, targets)\n",
    "            total_loss += loss.item()\n",
    "\n",
    "            # Calculate accuracy\n",
    "            predictions = (y_pred > 0.5).float()  # Assuming a binary classification task\n",
    "            correct_predictions += (predictions == targets).sum().item()\n",
    "            total_samples += targets.size(0)\n",
    "\n",
    "    accuracy = correct_predictions / total_samples\n",
    "    average_loss = total_loss / len(data_loader)\n",
    "\n",
    "    return average_loss, accuracy"
   ]
  },
  {
   "cell_type": "code",
   "execution_count": 13,
   "metadata": {
    "id": "svJU6mZkJN2f"
   },
   "outputs": [],
   "source": [
    "def training_step(encoded_input_text1, encoded_input_text2, targets, model, optimizer, criterion):\n",
    "    # forward pass\n",
    "    y_pred = model.forward(encoded_input_text1, encoded_input_text2)\n",
    "\n",
    "    if torch.cuda.is_available():\n",
    "        targets = targets.cuda()\n",
    "\n",
    "    loss = criterion(y_pred, targets)\n",
    "\n",
    "    # baccpropagate\n",
    "    optimizer.zero_grad()\n",
    "    loss.backward()\n",
    "    optimizer.step()\n",
    "\n",
    "    return loss.item()"
   ]
  },
  {
   "cell_type": "markdown",
   "metadata": {
    "id": "C_8arbqvghb1"
   },
   "source": [
    "In the next cell, we define a training loop for a given batch size and epoch quantity, printing the progress for our loss and accuracy, saving the model once its training is complete."
   ]
  },
  {
   "cell_type": "code",
   "execution_count": null,
   "metadata": {
    "colab": {
     "base_uri": "https://localhost:8080/",
     "height": 688,
     "referenced_widgets": [
      "4fceacbb3b4b4c61b6e0684fef202f35",
      "c79e4635494a43bfab405a478bd29bb2",
      "ed14ca7515f84a8295238d93f7e9184b",
      "2749ecaac2a2493ea6f61097aa7232a1",
      "25eeba9e236b415f8fb7621c1e066009",
      "cbf5394841d24848a6a1b354eb86ce96",
      "ce8eac8879cf4384b444e23b8481815c",
      "464ba2e0733d43bfb69775d865c3878e",
      "890d8a4328a7420f84ed669d33094c31",
      "1bec431c168240dd80d0223cd53695a6",
      "0611954103d64033a3b50c18eb0db35d",
      "2fdc8fbf684d43c0be7cfc46b5887d4f",
      "09f9511159cd4fe0a0c3e890a4d63b66",
      "6a59bff3ec07496db367f0e695aa80c7",
      "c343e14b063d4e88a85db5f176139c01",
      "8aab7aca85054efaaa2b02d60fd1ff43",
      "e5e1c05a8f934b4fae87a23dacb0d3a3",
      "29b26e1001ce4a539b85f21fb161c228",
      "ff06ee90355b41208c603bc0cbb126cd",
      "31d2143bb75e4b358e53476569cc14a2",
      "652f52ab829b45798ae4c05be857a637",
      "9b96579cf9054c62bb8894317e546f6d"
     ]
    },
    "id": "eaOTFqoa-08q",
    "outputId": "ccca25c5-e253-4211-e397-06cf1c470886"
   },
   "outputs": [
    {
     "name": "stdout",
     "output_type": "stream",
     "text": [
      "Epoch [1/10], Step [100/1316], Loss: 0.6702577978372574\n",
      "Epoch [1/10], Step [200/1316], Loss: 0.669662925004959\n",
      "Epoch [1/10], Step [300/1316], Loss: 0.6717429214715958\n",
      "Epoch [1/10], Step [400/1316], Loss: 0.6716173785924912\n",
      "Epoch [1/10], Step [500/1316], Loss: 0.6701306539773941\n",
      "Epoch [1/10], Step [600/1316], Loss: 0.6685152971744537\n",
      "Epoch [1/10], Step [700/1316], Loss: 0.6625740367174149\n",
      "Epoch [1/10], Step [800/1316], Loss: 0.6663932853937149\n",
      "Epoch [1/10], Step [900/1316], Loss: 0.6653453743457795\n",
      "Epoch [1/10], Step [1000/1316], Loss: 0.6729839885234833\n",
      "Epoch [1/10], Step [1100/1316], Loss: 0.6659513080120086\n",
      "Epoch [1/10], Step [1200/1316], Loss: 0.66863156914711\n",
      "Epoch [1/10], Step [1300/1316], Loss: 0.6662837010622025\n",
      "Epoch [1/10], Validation Loss: 0.6644689328402371, Accuracy: 0.5383372921615202\n",
      "Epoch [2/10], Step [100/1316], Loss: 0.6622751587629319\n",
      "Epoch [2/10], Step [200/1316], Loss: 0.6659164321422577\n",
      "Epoch [2/10], Step [300/1316], Loss: 0.6680008327960968\n",
      "Epoch [2/10], Step [400/1316], Loss: 0.6619800806045533\n",
      "Epoch [2/10], Step [500/1316], Loss: 0.6650866854190827\n",
      "Epoch [2/10], Step [600/1316], Loss: 0.667438337802887\n",
      "Epoch [2/10], Step [700/1316], Loss: 0.6638111174106598\n",
      "Epoch [2/10], Step [800/1316], Loss: 0.6666559457778931\n",
      "Epoch [2/10], Step [900/1316], Loss: 0.6628654116392135\n",
      "Epoch [2/10], Step [1000/1316], Loss: 0.6647784972190857\n",
      "Epoch [2/10], Step [1100/1316], Loss: 0.6620242536067963\n",
      "Epoch [2/10], Step [1200/1316], Loss: 0.6643959629535675\n",
      "Epoch [2/10], Step [1300/1316], Loss: 0.6644790023565292\n",
      "Epoch [2/10], Validation Loss: 0.6662617651887215, Accuracy: 0.5385273159144893\n",
      "Epoch [3/10], Step [100/1316], Loss: 0.6686459684371948\n",
      "Epoch [3/10], Step [200/1316], Loss: 0.6622586953639984\n",
      "Epoch [3/10], Step [400/1316], Loss: 0.6635320168733597\n",
      "Epoch [3/10], Step [500/1316], Loss: 0.6610862505435944\n",
      "Epoch [3/10], Step [600/1316], Loss: 0.6589750242233277\n",
      "Epoch [3/10], Step [700/1316], Loss: 0.6618379426002502\n",
      "Epoch [3/10], Step [800/1316], Loss: 0.6659810173511506\n",
      "Epoch [3/10], Step [900/1316], Loss: 0.6572280985116958\n",
      "Epoch [3/10], Step [1000/1316], Loss: 0.6632812285423278\n",
      "Epoch [3/10], Step [1100/1316], Loss: 0.6629815131425858\n",
      "Epoch [3/10], Step [1200/1316], Loss: 0.6668572783470154\n",
      "Epoch [3/10], Step [1300/1316], Loss: 0.6622375702857971\n",
      "Epoch [3/10], Validation Loss: 0.6629945808812115, Accuracy: 0.5437529691211401\n",
      "Epoch [4/10], Step [100/1316], Loss: 0.6630780869722366\n",
      "Epoch [4/10], Step [200/1316], Loss: 0.6631621718406677\n",
      "Epoch [4/10], Step [300/1316], Loss: 0.6656399393081665\n",
      "Epoch [4/10], Step [400/1316], Loss: 0.66581203520298\n",
      "Epoch [4/10], Step [500/1316], Loss: 0.665410748720169\n",
      "Epoch [4/10], Step [600/1316], Loss: 0.6631212818622589\n",
      "Epoch [4/10], Step [700/1316], Loss: 0.6614985382556915\n",
      "Epoch [4/10], Step [800/1316], Loss: 0.6590105402469635\n",
      "Epoch [4/10], Step [900/1316], Loss: 0.6602093988656997\n",
      "Epoch [4/10], Step [1000/1316], Loss: 0.6604278767108918\n",
      "Epoch [4/10], Step [1100/1316], Loss: 0.6647672170400619\n",
      "Epoch [4/10], Step [1200/1316], Loss: 0.6579154026508331\n",
      "Epoch [4/10], Step [1300/1316], Loss: 0.6621954065561294\n",
      "Epoch [4/10], Validation Loss: 0.6618301839451659, Accuracy: 0.5447030878859858\n",
      "Epoch [5/10], Step [100/1316], Loss: 0.6657710492610931\n",
      "Epoch [5/10], Step [200/1316], Loss: 0.6618465173244477\n",
      "Epoch [5/10], Step [300/1316], Loss: 0.6626096737384796\n",
      "Epoch [5/10], Step [400/1316], Loss: 0.6618277144432068\n",
      "Epoch [5/10], Step [500/1316], Loss: 0.6599183124303818\n",
      "Epoch [5/10], Step [600/1316], Loss: 0.6626450443267822\n",
      "Epoch [5/10], Step [700/1316], Loss: 0.663811166882515\n",
      "Epoch [5/10], Step [800/1316], Loss: 0.6622688752412796\n",
      "Epoch [5/10], Step [900/1316], Loss: 0.6574855411052704\n",
      "Epoch [5/10], Step [1000/1316], Loss: 0.6584913194179535\n",
      "Epoch [5/10], Step [1100/1316], Loss: 0.658602203130722\n",
      "Epoch [5/10], Step [1200/1316], Loss: 0.6600202649831772\n",
      "Epoch [5/10], Step [1300/1316], Loss: 0.6627143085002899\n",
      "Epoch [5/10], Validation Loss: 0.6595041329737492, Accuracy: 0.5447030878859858\n",
      "Epoch [6/10], Step [100/1316], Loss: 0.6625342458486557\n",
      "Epoch [6/10], Step [200/1316], Loss: 0.6635294497013092\n",
      "Epoch [6/10], Step [300/1316], Loss: 0.6584426438808442\n",
      "Epoch [6/10], Step [400/1316], Loss: 0.6542949867248535\n",
      "Epoch [6/10], Step [500/1316], Loss: 0.6670769256353378\n",
      "Epoch [6/10], Step [600/1316], Loss: 0.6601268035173417\n",
      "Epoch [6/10], Step [700/1316], Loss: 0.6639809423685074\n",
      "Epoch [6/10], Step [800/1316], Loss: 0.6627426987886429\n",
      "Epoch [6/10], Step [900/1316], Loss: 0.6595110481977463\n",
      "Epoch [6/10], Step [1000/1316], Loss: 0.6649722063541412\n",
      "Epoch [6/10], Step [1100/1316], Loss: 0.6594351196289062\n",
      "Epoch [6/10], Step [1200/1316], Loss: 0.6571097975969314\n",
      "Epoch [6/10], Step [1300/1316], Loss: 0.6620921593904495\n",
      "Epoch [6/10], Validation Loss: 0.6626403730328685, Accuracy: 0.5408076009501188\n",
      "Epoch [7/10], Step [100/1316], Loss: 0.6642479032278061\n",
      "Epoch [7/10], Step [200/1316], Loss: 0.6615735846757889\n",
      "Epoch [7/10], Step [300/1316], Loss: 0.6535322839021682\n",
      "Epoch [7/10], Step [400/1316], Loss: 0.6640988498926162\n",
      "Epoch [7/10], Step [500/1316], Loss: 0.6653436052799225\n",
      "Epoch [7/10], Step [600/1316], Loss: 0.6626443135738372\n",
      "Epoch [7/10], Step [700/1316], Loss: 0.666001603603363\n",
      "Epoch [7/10], Step [800/1316], Loss: 0.6587116944789887\n",
      "Epoch [7/10], Step [900/1316], Loss: 0.6607550698518753\n",
      "Epoch [7/10], Step [1000/1316], Loss: 0.6590388739109039\n",
      "Epoch [7/10], Step [1100/1316], Loss: 0.6626833659410477\n",
      "Epoch [7/10], Step [1200/1316], Loss: 0.6557163482904435\n",
      "Epoch [7/10], Step [1300/1316], Loss: 0.6623707765340805\n",
      "Epoch [7/10], Validation Loss: 0.6606237277796203, Accuracy: 0.5432779097387174\n",
      "Epoch [8/10], Step [100/1316], Loss: 0.6579401350021362\n",
      "Epoch [8/10], Step [200/1316], Loss: 0.6569479393959046\n",
      "Epoch [8/10], Step [300/1316], Loss: 0.6579328161478043\n",
      "Epoch [8/10], Step [400/1316], Loss: 0.6620672130584717\n",
      "Epoch [8/10], Step [500/1316], Loss: 0.6584548628330231\n",
      "Epoch [8/10], Step [600/1316], Loss: 0.6627366131544113\n",
      "Epoch [8/10], Step [700/1316], Loss: 0.6603507632017136\n",
      "Epoch [8/10], Step [800/1316], Loss: 0.6602691119909286\n",
      "Epoch [8/10], Step [900/1316], Loss: 0.6636016088724136\n",
      "Epoch [8/10], Step [1000/1316], Loss: 0.6632130795717239\n",
      "Epoch [8/10], Step [1100/1316], Loss: 0.6601381856203079\n",
      "Epoch [8/10], Step [1200/1316], Loss: 0.6603177046775818\n",
      "Epoch [8/10], Step [1300/1316], Loss: 0.6632602339982987\n",
      "Epoch [8/10], Validation Loss: 0.6583553626906908, Accuracy: 0.5359619952494061\n",
      "Epoch [9/10], Step [100/1316], Loss: 0.658454732298851\n",
      "Epoch [9/10], Step [200/1316], Loss: 0.6605100977420807\n",
      "Epoch [9/10], Step [300/1316], Loss: 0.6588935416936874\n",
      "Epoch [9/10], Step [400/1316], Loss: 0.6644451171159744\n",
      "Epoch [9/10], Step [500/1316], Loss: 0.6600931823253632\n",
      "Epoch [9/10], Step [600/1316], Loss: 0.6604552465677261\n",
      "Epoch [9/10], Step [700/1316], Loss: 0.65869737803936\n",
      "Epoch [9/10], Step [800/1316], Loss: 0.659943574666977\n",
      "Epoch [9/10], Step [900/1316], Loss: 0.664062967300415\n",
      "Epoch [9/10], Step [1000/1316], Loss: 0.6636050510406494\n",
      "Epoch [9/10], Step [1100/1316], Loss: 0.6602811014652252\n",
      "Epoch [9/10], Step [1200/1316], Loss: 0.6536979293823242\n",
      "Epoch [9/10], Step [1300/1316], Loss: 0.656103982925415\n",
      "Epoch [9/10], Validation Loss: 0.6611702137805046, Accuracy: 0.5390023752969121\n",
      "Epoch [10/10], Step [100/1316], Loss: 0.6598749756813049\n",
      "Epoch [10/10], Step [200/1316], Loss: 0.6578705257177353\n",
      "Epoch [10/10], Step [300/1316], Loss: 0.6597406554222107\n",
      "Epoch [10/10], Step [400/1316], Loss: 0.658390479683876\n",
      "Epoch [10/10], Step [500/1316], Loss: 0.6616711503267289\n",
      "Epoch [10/10], Step [600/1316], Loss: 0.6635488104820252\n",
      "Epoch [10/10], Step [700/1316], Loss: 0.6593962442874909\n",
      "Epoch [10/10], Step [800/1316], Loss: 0.660350466966629\n",
      "Epoch [10/10], Step [900/1316], Loss: 0.6594093602895736\n",
      "Epoch [10/10], Step [1000/1316], Loss: 0.6608820557594299\n",
      "Epoch [10/10], Step [1100/1316], Loss: 0.6546594452857971\n",
      "Epoch [10/10], Step [1200/1316], Loss: 0.6597897058725357\n",
      "Epoch [10/10], Step [1300/1316], Loss: 0.6565999621152878\n",
      "Saving model \"model_epoch_10\"\n",
      "Epoch [10/10], Validation Loss: 0.6615394348431504, Accuracy: 0.5460332541567696\n",
      "Saving model after training\n",
      "Finished Training\n"
     ]
    }
   ],
   "source": [
    "model = TransformerModel(model_name=model_name, freeze_transformer=True)\n",
    "\n",
    "if torch.cuda.is_available():\n",
    "    model.cuda()\n",
    "\n",
    "# loss function\n",
    "criterion = nn.BCELoss()\n",
    "\n",
    "# Define optimizer (e.g., Adam)\n",
    "optimizer = optim.Adam(model.parameters(), lr=0.001)\n",
    "\n",
    "# training and validation sets\n",
    "train_df, val_df = train_test_split(df_combined, test_size=0.2, random_state=42)\n",
    "\n",
    "# Training loop\n",
    "NUM_EPOCHS = 10\n",
    "BATCH_SIZE = 32\n",
    "\n",
    "train_dataset = CustomDataset(train_df, model_name)\n",
    "validate_dataset = CustomDataset(val_df, model_name)\n",
    "\n",
    "train_data_loader = DataLoader(train_dataset, batch_size=BATCH_SIZE, shuffle=True)\n",
    "val_data_loader = DataLoader(validate_dataset, batch_size=BATCH_SIZE, shuffle=True)\n",
    "\n",
    "i = 0\n",
    "\n",
    "for epoch in range(NUM_EPOCHS):\n",
    "    model.train()\n",
    "    running_loss = 0.0\n",
    "\n",
    "    for i, batch in enumerate(train_data_loader):\n",
    "        input_text1 = batch['encoded_input_text1']\n",
    "        input_text2 = batch['encoded_input_text2']\n",
    "        targets = batch['targets']\n",
    "\n",
    "        loss = training_step(input_text1, input_text2, targets, model, optimizer, criterion)\n",
    "        running_loss += loss\n",
    "\n",
    "        if i % 100 == 99:  # Print every 100 mini-batches\n",
    "            print(f\"Epoch [{epoch + 1}/{NUM_EPOCHS}], \"\n",
    "                  f\"Step [{i + 1}/{len(train_data_loader)}], \"\n",
    "                  f\"Loss: {running_loss / 100}\")\n",
    "            running_loss = 0.0\n",
    "\n",
    "    # Save the model weights after each epoch\n",
    "    if epoch == 9:\n",
    "        print(f'Saving model \"model_epoch_{epoch + 1}\"')\n",
    "        checkpoint_path = f\"model_epoch_{epoch + 1}.pt\"\n",
    "        torch.save(model.state_dict(), checkpoint_path)\n",
    "\n",
    "    # The model is validated on the validation set after each epoch\n",
    "    val_loss, val_accuracy = evaluate(model, val_data_loader)\n",
    "    print(f'Epoch [{epoch + 1}/{NUM_EPOCHS}], Validation Loss: {val_loss}, Accuracy: {val_accuracy}')\n",
    "\n",
    "print(\"Saving model after training\")\n",
    "checkpoint_path = \"finish_training_model.pt\"\n",
    "torch.save(model.state_dict(), checkpoint_path)\n",
    "print('Finished Training')"
   ]
  },
  {
   "cell_type": "markdown",
   "metadata": {},
   "source": [
    "The model consistently maintaining an accuracy around 0.54 suggests a consistent but modest performance, possibly due to the briefness of the training (only 10 epochs) or slight underfitting."
   ]
  },
  {
   "cell_type": "markdown",
   "metadata": {
    "id": "fKqIhBTs-08q"
   },
   "source": [
    "## Testing the model\n",
    "\n",
    "\n",
    "We will now repeat the process with the provided test dataset:"
   ]
  },
  {
   "cell_type": "code",
   "execution_count": 14,
   "metadata": {
    "id": "8BotYRHh-08q"
   },
   "outputs": [],
   "source": [
    "# FOLDER = f\"{PARENT_FOLDER}/pan20-authorship-verification-test/pan20-authorship-verification-test\"\n",
    "VALUES_FILE = f\"{PARENT_FOLDER}/pan20-authorship-verification-test/pan20-authorship-verification-test/pan20-authorship-verification-test\"\n",
    "GROUND_TRUTH = f\"{PARENT_FOLDER}/pan20-authorship-verification-test/pan20-authorship-verification-test/pan20-authorship-verification-test-truth.jsonl\""
   ]
  },
  {
   "cell_type": "code",
   "execution_count": 16,
   "metadata": {
    "id": "Peb9jbiL-08w"
   },
   "outputs": [],
   "source": [
    "df_ground_truth = get_dataframe_from_file(f\"{GROUND_TRUTH}\")\n",
    "df_inputs = get_dataframe_from_file(f\"{VALUES_FILE}\")\n",
    "\n",
    "df_combined_val = pd.merge(df_ground_truth, df_inputs, on='id')"
   ]
  },
  {
   "cell_type": "code",
   "execution_count": 17,
   "metadata": {
    "colab": {
     "base_uri": "https://localhost:8080/",
     "height": 206
    },
    "id": "NtYBVHtYghb3",
    "outputId": "295a6040-6bf6-44b3-c349-fe7e60c7f639"
   },
   "outputs": [
    {
     "data": {
      "text/html": [
       "\n",
       "  <div id=\"df-0a2fa92d-6c20-4fb0-8e64-5ae1e8535c8c\" class=\"colab-df-container\">\n",
       "    <div>\n",
       "<style scoped>\n",
       "    .dataframe tbody tr th:only-of-type {\n",
       "        vertical-align: middle;\n",
       "    }\n",
       "\n",
       "    .dataframe tbody tr th {\n",
       "        vertical-align: top;\n",
       "    }\n",
       "\n",
       "    .dataframe thead th {\n",
       "        text-align: right;\n",
       "    }\n",
       "</style>\n",
       "<table border=\"1\" class=\"dataframe\">\n",
       "  <thead>\n",
       "    <tr style=\"text-align: right;\">\n",
       "      <th></th>\n",
       "      <th>id</th>\n",
       "      <th>same</th>\n",
       "      <th>authors</th>\n",
       "      <th>fandoms</th>\n",
       "      <th>pair</th>\n",
       "    </tr>\n",
       "  </thead>\n",
       "  <tbody>\n",
       "    <tr>\n",
       "      <th>0</th>\n",
       "      <td>c04fdf1e-ddf5-5542-96e7-13ce18cae176</td>\n",
       "      <td>True</td>\n",
       "      <td>[1555420, 1555420]</td>\n",
       "      <td>[CSI: New York, Four Brothers]</td>\n",
       "      <td>[\"Calm down, Nicolas. You don\"t wanna do somet...</td>\n",
       "    </tr>\n",
       "    <tr>\n",
       "      <th>1</th>\n",
       "      <td>49dc4cae-3d32-5b4d-b240-a080a1dbb659</td>\n",
       "      <td>False</td>\n",
       "      <td>[301516, 98554]</td>\n",
       "      <td>[Final Fantasy VIII, Escaflowne]</td>\n",
       "      <td>[\"Squall!?\" Zell was panicking. Squall was mov...</td>\n",
       "    </tr>\n",
       "    <tr>\n",
       "      <th>2</th>\n",
       "      <td>f326fe7c-fc10-566f-a70f-0f36e3f92399</td>\n",
       "      <td>False</td>\n",
       "      <td>[3374404, 632668]</td>\n",
       "      <td>[Pretty Little Liars, Sonic the Hedgehog]</td>\n",
       "      <td>[\"Just talk to the first girl you bump into an...</td>\n",
       "    </tr>\n",
       "    <tr>\n",
       "      <th>3</th>\n",
       "      <td>16daa0d1-61b8-5650-b7ee-5e265bd40910</td>\n",
       "      <td>True</td>\n",
       "      <td>[2639199, 2639199]</td>\n",
       "      <td>[Hetalia - Axis Powers, Kuroko no Basuke/黒子のバスケ]</td>\n",
       "      <td>[\"I\"ll be fine,\" Alfred said, his grin not wav...</td>\n",
       "    </tr>\n",
       "    <tr>\n",
       "      <th>4</th>\n",
       "      <td>08b536a8-4fed-5f62-97bb-e57f79e841d2</td>\n",
       "      <td>False</td>\n",
       "      <td>[1437540, 4527525]</td>\n",
       "      <td>[Evangelion, Transformers/Beast Wars]</td>\n",
       "      <td>[dominated by a huge desk. Behind the desk, an...</td>\n",
       "    </tr>\n",
       "  </tbody>\n",
       "</table>\n",
       "</div>\n",
       "    <div class=\"colab-df-buttons\">\n",
       "\n",
       "  <div class=\"colab-df-container\">\n",
       "    <button class=\"colab-df-convert\" onclick=\"convertToInteractive('df-0a2fa92d-6c20-4fb0-8e64-5ae1e8535c8c')\"\n",
       "            title=\"Convert this dataframe to an interactive table.\"\n",
       "            style=\"display:none;\">\n",
       "\n",
       "  <svg xmlns=\"http://www.w3.org/2000/svg\" height=\"24px\" viewBox=\"0 -960 960 960\">\n",
       "    <path d=\"M120-120v-720h720v720H120Zm60-500h600v-160H180v160Zm220 220h160v-160H400v160Zm0 220h160v-160H400v160ZM180-400h160v-160H180v160Zm440 0h160v-160H620v160ZM180-180h160v-160H180v160Zm440 0h160v-160H620v160Z\"/>\n",
       "  </svg>\n",
       "    </button>\n",
       "\n",
       "  <style>\n",
       "    .colab-df-container {\n",
       "      display:flex;\n",
       "      gap: 12px;\n",
       "    }\n",
       "\n",
       "    .colab-df-convert {\n",
       "      background-color: #E8F0FE;\n",
       "      border: none;\n",
       "      border-radius: 50%;\n",
       "      cursor: pointer;\n",
       "      display: none;\n",
       "      fill: #1967D2;\n",
       "      height: 32px;\n",
       "      padding: 0 0 0 0;\n",
       "      width: 32px;\n",
       "    }\n",
       "\n",
       "    .colab-df-convert:hover {\n",
       "      background-color: #E2EBFA;\n",
       "      box-shadow: 0px 1px 2px rgba(60, 64, 67, 0.3), 0px 1px 3px 1px rgba(60, 64, 67, 0.15);\n",
       "      fill: #174EA6;\n",
       "    }\n",
       "\n",
       "    .colab-df-buttons div {\n",
       "      margin-bottom: 4px;\n",
       "    }\n",
       "\n",
       "    [theme=dark] .colab-df-convert {\n",
       "      background-color: #3B4455;\n",
       "      fill: #D2E3FC;\n",
       "    }\n",
       "\n",
       "    [theme=dark] .colab-df-convert:hover {\n",
       "      background-color: #434B5C;\n",
       "      box-shadow: 0px 1px 3px 1px rgba(0, 0, 0, 0.15);\n",
       "      filter: drop-shadow(0px 1px 2px rgba(0, 0, 0, 0.3));\n",
       "      fill: #FFFFFF;\n",
       "    }\n",
       "  </style>\n",
       "\n",
       "    <script>\n",
       "      const buttonEl =\n",
       "        document.querySelector('#df-0a2fa92d-6c20-4fb0-8e64-5ae1e8535c8c button.colab-df-convert');\n",
       "      buttonEl.style.display =\n",
       "        google.colab.kernel.accessAllowed ? 'block' : 'none';\n",
       "\n",
       "      async function convertToInteractive(key) {\n",
       "        const element = document.querySelector('#df-0a2fa92d-6c20-4fb0-8e64-5ae1e8535c8c');\n",
       "        const dataTable =\n",
       "          await google.colab.kernel.invokeFunction('convertToInteractive',\n",
       "                                                    [key], {});\n",
       "        if (!dataTable) return;\n",
       "\n",
       "        const docLinkHtml = 'Like what you see? Visit the ' +\n",
       "          '<a target=\"_blank\" href=https://colab.research.google.com/notebooks/data_table.ipynb>data table notebook</a>'\n",
       "          + ' to learn more about interactive tables.';\n",
       "        element.innerHTML = '';\n",
       "        dataTable['output_type'] = 'display_data';\n",
       "        await google.colab.output.renderOutput(dataTable, element);\n",
       "        const docLink = document.createElement('div');\n",
       "        docLink.innerHTML = docLinkHtml;\n",
       "        element.appendChild(docLink);\n",
       "      }\n",
       "    </script>\n",
       "  </div>\n",
       "\n",
       "\n",
       "<div id=\"df-315d0fcb-27be-4e0e-8430-26d408734b84\">\n",
       "  <button class=\"colab-df-quickchart\" onclick=\"quickchart('df-315d0fcb-27be-4e0e-8430-26d408734b84')\"\n",
       "            title=\"Suggest charts\"\n",
       "            style=\"display:none;\">\n",
       "\n",
       "<svg xmlns=\"http://www.w3.org/2000/svg\" height=\"24px\"viewBox=\"0 0 24 24\"\n",
       "     width=\"24px\">\n",
       "    <g>\n",
       "        <path d=\"M19 3H5c-1.1 0-2 .9-2 2v14c0 1.1.9 2 2 2h14c1.1 0 2-.9 2-2V5c0-1.1-.9-2-2-2zM9 17H7v-7h2v7zm4 0h-2V7h2v10zm4 0h-2v-4h2v4z\"/>\n",
       "    </g>\n",
       "</svg>\n",
       "  </button>\n",
       "\n",
       "<style>\n",
       "  .colab-df-quickchart {\n",
       "      --bg-color: #E8F0FE;\n",
       "      --fill-color: #1967D2;\n",
       "      --hover-bg-color: #E2EBFA;\n",
       "      --hover-fill-color: #174EA6;\n",
       "      --disabled-fill-color: #AAA;\n",
       "      --disabled-bg-color: #DDD;\n",
       "  }\n",
       "\n",
       "  [theme=dark] .colab-df-quickchart {\n",
       "      --bg-color: #3B4455;\n",
       "      --fill-color: #D2E3FC;\n",
       "      --hover-bg-color: #434B5C;\n",
       "      --hover-fill-color: #FFFFFF;\n",
       "      --disabled-bg-color: #3B4455;\n",
       "      --disabled-fill-color: #666;\n",
       "  }\n",
       "\n",
       "  .colab-df-quickchart {\n",
       "    background-color: var(--bg-color);\n",
       "    border: none;\n",
       "    border-radius: 50%;\n",
       "    cursor: pointer;\n",
       "    display: none;\n",
       "    fill: var(--fill-color);\n",
       "    height: 32px;\n",
       "    padding: 0;\n",
       "    width: 32px;\n",
       "  }\n",
       "\n",
       "  .colab-df-quickchart:hover {\n",
       "    background-color: var(--hover-bg-color);\n",
       "    box-shadow: 0 1px 2px rgba(60, 64, 67, 0.3), 0 1px 3px 1px rgba(60, 64, 67, 0.15);\n",
       "    fill: var(--button-hover-fill-color);\n",
       "  }\n",
       "\n",
       "  .colab-df-quickchart-complete:disabled,\n",
       "  .colab-df-quickchart-complete:disabled:hover {\n",
       "    background-color: var(--disabled-bg-color);\n",
       "    fill: var(--disabled-fill-color);\n",
       "    box-shadow: none;\n",
       "  }\n",
       "\n",
       "  .colab-df-spinner {\n",
       "    border: 2px solid var(--fill-color);\n",
       "    border-color: transparent;\n",
       "    border-bottom-color: var(--fill-color);\n",
       "    animation:\n",
       "      spin 1s steps(1) infinite;\n",
       "  }\n",
       "\n",
       "  @keyframes spin {\n",
       "    0% {\n",
       "      border-color: transparent;\n",
       "      border-bottom-color: var(--fill-color);\n",
       "      border-left-color: var(--fill-color);\n",
       "    }\n",
       "    20% {\n",
       "      border-color: transparent;\n",
       "      border-left-color: var(--fill-color);\n",
       "      border-top-color: var(--fill-color);\n",
       "    }\n",
       "    30% {\n",
       "      border-color: transparent;\n",
       "      border-left-color: var(--fill-color);\n",
       "      border-top-color: var(--fill-color);\n",
       "      border-right-color: var(--fill-color);\n",
       "    }\n",
       "    40% {\n",
       "      border-color: transparent;\n",
       "      border-right-color: var(--fill-color);\n",
       "      border-top-color: var(--fill-color);\n",
       "    }\n",
       "    60% {\n",
       "      border-color: transparent;\n",
       "      border-right-color: var(--fill-color);\n",
       "    }\n",
       "    80% {\n",
       "      border-color: transparent;\n",
       "      border-right-color: var(--fill-color);\n",
       "      border-bottom-color: var(--fill-color);\n",
       "    }\n",
       "    90% {\n",
       "      border-color: transparent;\n",
       "      border-bottom-color: var(--fill-color);\n",
       "    }\n",
       "  }\n",
       "</style>\n",
       "\n",
       "  <script>\n",
       "    async function quickchart(key) {\n",
       "      const quickchartButtonEl =\n",
       "        document.querySelector('#' + key + ' button');\n",
       "      quickchartButtonEl.disabled = true;  // To prevent multiple clicks.\n",
       "      quickchartButtonEl.classList.add('colab-df-spinner');\n",
       "      try {\n",
       "        const charts = await google.colab.kernel.invokeFunction(\n",
       "            'suggestCharts', [key], {});\n",
       "      } catch (error) {\n",
       "        console.error('Error during call to suggestCharts:', error);\n",
       "      }\n",
       "      quickchartButtonEl.classList.remove('colab-df-spinner');\n",
       "      quickchartButtonEl.classList.add('colab-df-quickchart-complete');\n",
       "    }\n",
       "    (() => {\n",
       "      let quickchartButtonEl =\n",
       "        document.querySelector('#df-315d0fcb-27be-4e0e-8430-26d408734b84 button');\n",
       "      quickchartButtonEl.style.display =\n",
       "        google.colab.kernel.accessAllowed ? 'block' : 'none';\n",
       "    })();\n",
       "  </script>\n",
       "</div>\n",
       "    </div>\n",
       "  </div>\n"
      ],
      "text/plain": [
       "                                     id   same             authors  \\\n",
       "0  c04fdf1e-ddf5-5542-96e7-13ce18cae176   True  [1555420, 1555420]   \n",
       "1  49dc4cae-3d32-5b4d-b240-a080a1dbb659  False     [301516, 98554]   \n",
       "2  f326fe7c-fc10-566f-a70f-0f36e3f92399  False   [3374404, 632668]   \n",
       "3  16daa0d1-61b8-5650-b7ee-5e265bd40910   True  [2639199, 2639199]   \n",
       "4  08b536a8-4fed-5f62-97bb-e57f79e841d2  False  [1437540, 4527525]   \n",
       "\n",
       "                                            fandoms  \\\n",
       "0                    [CSI: New York, Four Brothers]   \n",
       "1                  [Final Fantasy VIII, Escaflowne]   \n",
       "2         [Pretty Little Liars, Sonic the Hedgehog]   \n",
       "3  [Hetalia - Axis Powers, Kuroko no Basuke/黒子のバスケ]   \n",
       "4             [Evangelion, Transformers/Beast Wars]   \n",
       "\n",
       "                                                pair  \n",
       "0  [\"Calm down, Nicolas. You don\"t wanna do somet...  \n",
       "1  [\"Squall!?\" Zell was panicking. Squall was mov...  \n",
       "2  [\"Just talk to the first girl you bump into an...  \n",
       "3  [\"I\"ll be fine,\" Alfred said, his grin not wav...  \n",
       "4  [dominated by a huge desk. Behind the desk, an...  "
      ]
     },
     "execution_count": 17,
     "metadata": {},
     "output_type": "execute_result"
    }
   ],
   "source": [
    "df_combined_val.head()"
   ]
  },
  {
   "cell_type": "code",
   "execution_count": 18,
   "metadata": {
    "id": "j92ZUBCi-08w"
   },
   "outputs": [],
   "source": [
    "df_combined_val = df_combined_val.drop(\"authors\", axis=1)\n",
    "df_combined_val = df_combined_val.drop(\"fandoms\", axis=1)\n",
    "df_combined_val = df_combined_val.rename(columns={'same': 'y'})"
   ]
  },
  {
   "cell_type": "code",
   "execution_count": 19,
   "metadata": {
    "colab": {
     "base_uri": "https://localhost:8080/",
     "height": 206
    },
    "id": "dRadeYu3-08x",
    "outputId": "b5367d4a-245b-466d-c565-bd4613a89116"
   },
   "outputs": [
    {
     "data": {
      "text/html": [
       "\n",
       "  <div id=\"df-477cd25a-2431-428b-a024-3dcaab474fe5\" class=\"colab-df-container\">\n",
       "    <div>\n",
       "<style scoped>\n",
       "    .dataframe tbody tr th:only-of-type {\n",
       "        vertical-align: middle;\n",
       "    }\n",
       "\n",
       "    .dataframe tbody tr th {\n",
       "        vertical-align: top;\n",
       "    }\n",
       "\n",
       "    .dataframe thead th {\n",
       "        text-align: right;\n",
       "    }\n",
       "</style>\n",
       "<table border=\"1\" class=\"dataframe\">\n",
       "  <thead>\n",
       "    <tr style=\"text-align: right;\">\n",
       "      <th></th>\n",
       "      <th>id</th>\n",
       "      <th>y</th>\n",
       "      <th>pair</th>\n",
       "    </tr>\n",
       "  </thead>\n",
       "  <tbody>\n",
       "    <tr>\n",
       "      <th>0</th>\n",
       "      <td>c04fdf1e-ddf5-5542-96e7-13ce18cae176</td>\n",
       "      <td>True</td>\n",
       "      <td>[\"Calm down, Nicolas. You don\"t wanna do somet...</td>\n",
       "    </tr>\n",
       "    <tr>\n",
       "      <th>1</th>\n",
       "      <td>49dc4cae-3d32-5b4d-b240-a080a1dbb659</td>\n",
       "      <td>False</td>\n",
       "      <td>[\"Squall!?\" Zell was panicking. Squall was mov...</td>\n",
       "    </tr>\n",
       "    <tr>\n",
       "      <th>2</th>\n",
       "      <td>f326fe7c-fc10-566f-a70f-0f36e3f92399</td>\n",
       "      <td>False</td>\n",
       "      <td>[\"Just talk to the first girl you bump into an...</td>\n",
       "    </tr>\n",
       "    <tr>\n",
       "      <th>3</th>\n",
       "      <td>16daa0d1-61b8-5650-b7ee-5e265bd40910</td>\n",
       "      <td>True</td>\n",
       "      <td>[\"I\"ll be fine,\" Alfred said, his grin not wav...</td>\n",
       "    </tr>\n",
       "    <tr>\n",
       "      <th>4</th>\n",
       "      <td>08b536a8-4fed-5f62-97bb-e57f79e841d2</td>\n",
       "      <td>False</td>\n",
       "      <td>[dominated by a huge desk. Behind the desk, an...</td>\n",
       "    </tr>\n",
       "  </tbody>\n",
       "</table>\n",
       "</div>\n",
       "    <div class=\"colab-df-buttons\">\n",
       "\n",
       "  <div class=\"colab-df-container\">\n",
       "    <button class=\"colab-df-convert\" onclick=\"convertToInteractive('df-477cd25a-2431-428b-a024-3dcaab474fe5')\"\n",
       "            title=\"Convert this dataframe to an interactive table.\"\n",
       "            style=\"display:none;\">\n",
       "\n",
       "  <svg xmlns=\"http://www.w3.org/2000/svg\" height=\"24px\" viewBox=\"0 -960 960 960\">\n",
       "    <path d=\"M120-120v-720h720v720H120Zm60-500h600v-160H180v160Zm220 220h160v-160H400v160Zm0 220h160v-160H400v160ZM180-400h160v-160H180v160Zm440 0h160v-160H620v160ZM180-180h160v-160H180v160Zm440 0h160v-160H620v160Z\"/>\n",
       "  </svg>\n",
       "    </button>\n",
       "\n",
       "  <style>\n",
       "    .colab-df-container {\n",
       "      display:flex;\n",
       "      gap: 12px;\n",
       "    }\n",
       "\n",
       "    .colab-df-convert {\n",
       "      background-color: #E8F0FE;\n",
       "      border: none;\n",
       "      border-radius: 50%;\n",
       "      cursor: pointer;\n",
       "      display: none;\n",
       "      fill: #1967D2;\n",
       "      height: 32px;\n",
       "      padding: 0 0 0 0;\n",
       "      width: 32px;\n",
       "    }\n",
       "\n",
       "    .colab-df-convert:hover {\n",
       "      background-color: #E2EBFA;\n",
       "      box-shadow: 0px 1px 2px rgba(60, 64, 67, 0.3), 0px 1px 3px 1px rgba(60, 64, 67, 0.15);\n",
       "      fill: #174EA6;\n",
       "    }\n",
       "\n",
       "    .colab-df-buttons div {\n",
       "      margin-bottom: 4px;\n",
       "    }\n",
       "\n",
       "    [theme=dark] .colab-df-convert {\n",
       "      background-color: #3B4455;\n",
       "      fill: #D2E3FC;\n",
       "    }\n",
       "\n",
       "    [theme=dark] .colab-df-convert:hover {\n",
       "      background-color: #434B5C;\n",
       "      box-shadow: 0px 1px 3px 1px rgba(0, 0, 0, 0.15);\n",
       "      filter: drop-shadow(0px 1px 2px rgba(0, 0, 0, 0.3));\n",
       "      fill: #FFFFFF;\n",
       "    }\n",
       "  </style>\n",
       "\n",
       "    <script>\n",
       "      const buttonEl =\n",
       "        document.querySelector('#df-477cd25a-2431-428b-a024-3dcaab474fe5 button.colab-df-convert');\n",
       "      buttonEl.style.display =\n",
       "        google.colab.kernel.accessAllowed ? 'block' : 'none';\n",
       "\n",
       "      async function convertToInteractive(key) {\n",
       "        const element = document.querySelector('#df-477cd25a-2431-428b-a024-3dcaab474fe5');\n",
       "        const dataTable =\n",
       "          await google.colab.kernel.invokeFunction('convertToInteractive',\n",
       "                                                    [key], {});\n",
       "        if (!dataTable) return;\n",
       "\n",
       "        const docLinkHtml = 'Like what you see? Visit the ' +\n",
       "          '<a target=\"_blank\" href=https://colab.research.google.com/notebooks/data_table.ipynb>data table notebook</a>'\n",
       "          + ' to learn more about interactive tables.';\n",
       "        element.innerHTML = '';\n",
       "        dataTable['output_type'] = 'display_data';\n",
       "        await google.colab.output.renderOutput(dataTable, element);\n",
       "        const docLink = document.createElement('div');\n",
       "        docLink.innerHTML = docLinkHtml;\n",
       "        element.appendChild(docLink);\n",
       "      }\n",
       "    </script>\n",
       "  </div>\n",
       "\n",
       "\n",
       "<div id=\"df-2b48cd39-7ad3-4aae-8bbd-7fc0dcf84b49\">\n",
       "  <button class=\"colab-df-quickchart\" onclick=\"quickchart('df-2b48cd39-7ad3-4aae-8bbd-7fc0dcf84b49')\"\n",
       "            title=\"Suggest charts\"\n",
       "            style=\"display:none;\">\n",
       "\n",
       "<svg xmlns=\"http://www.w3.org/2000/svg\" height=\"24px\"viewBox=\"0 0 24 24\"\n",
       "     width=\"24px\">\n",
       "    <g>\n",
       "        <path d=\"M19 3H5c-1.1 0-2 .9-2 2v14c0 1.1.9 2 2 2h14c1.1 0 2-.9 2-2V5c0-1.1-.9-2-2-2zM9 17H7v-7h2v7zm4 0h-2V7h2v10zm4 0h-2v-4h2v4z\"/>\n",
       "    </g>\n",
       "</svg>\n",
       "  </button>\n",
       "\n",
       "<style>\n",
       "  .colab-df-quickchart {\n",
       "      --bg-color: #E8F0FE;\n",
       "      --fill-color: #1967D2;\n",
       "      --hover-bg-color: #E2EBFA;\n",
       "      --hover-fill-color: #174EA6;\n",
       "      --disabled-fill-color: #AAA;\n",
       "      --disabled-bg-color: #DDD;\n",
       "  }\n",
       "\n",
       "  [theme=dark] .colab-df-quickchart {\n",
       "      --bg-color: #3B4455;\n",
       "      --fill-color: #D2E3FC;\n",
       "      --hover-bg-color: #434B5C;\n",
       "      --hover-fill-color: #FFFFFF;\n",
       "      --disabled-bg-color: #3B4455;\n",
       "      --disabled-fill-color: #666;\n",
       "  }\n",
       "\n",
       "  .colab-df-quickchart {\n",
       "    background-color: var(--bg-color);\n",
       "    border: none;\n",
       "    border-radius: 50%;\n",
       "    cursor: pointer;\n",
       "    display: none;\n",
       "    fill: var(--fill-color);\n",
       "    height: 32px;\n",
       "    padding: 0;\n",
       "    width: 32px;\n",
       "  }\n",
       "\n",
       "  .colab-df-quickchart:hover {\n",
       "    background-color: var(--hover-bg-color);\n",
       "    box-shadow: 0 1px 2px rgba(60, 64, 67, 0.3), 0 1px 3px 1px rgba(60, 64, 67, 0.15);\n",
       "    fill: var(--button-hover-fill-color);\n",
       "  }\n",
       "\n",
       "  .colab-df-quickchart-complete:disabled,\n",
       "  .colab-df-quickchart-complete:disabled:hover {\n",
       "    background-color: var(--disabled-bg-color);\n",
       "    fill: var(--disabled-fill-color);\n",
       "    box-shadow: none;\n",
       "  }\n",
       "\n",
       "  .colab-df-spinner {\n",
       "    border: 2px solid var(--fill-color);\n",
       "    border-color: transparent;\n",
       "    border-bottom-color: var(--fill-color);\n",
       "    animation:\n",
       "      spin 1s steps(1) infinite;\n",
       "  }\n",
       "\n",
       "  @keyframes spin {\n",
       "    0% {\n",
       "      border-color: transparent;\n",
       "      border-bottom-color: var(--fill-color);\n",
       "      border-left-color: var(--fill-color);\n",
       "    }\n",
       "    20% {\n",
       "      border-color: transparent;\n",
       "      border-left-color: var(--fill-color);\n",
       "      border-top-color: var(--fill-color);\n",
       "    }\n",
       "    30% {\n",
       "      border-color: transparent;\n",
       "      border-left-color: var(--fill-color);\n",
       "      border-top-color: var(--fill-color);\n",
       "      border-right-color: var(--fill-color);\n",
       "    }\n",
       "    40% {\n",
       "      border-color: transparent;\n",
       "      border-right-color: var(--fill-color);\n",
       "      border-top-color: var(--fill-color);\n",
       "    }\n",
       "    60% {\n",
       "      border-color: transparent;\n",
       "      border-right-color: var(--fill-color);\n",
       "    }\n",
       "    80% {\n",
       "      border-color: transparent;\n",
       "      border-right-color: var(--fill-color);\n",
       "      border-bottom-color: var(--fill-color);\n",
       "    }\n",
       "    90% {\n",
       "      border-color: transparent;\n",
       "      border-bottom-color: var(--fill-color);\n",
       "    }\n",
       "  }\n",
       "</style>\n",
       "\n",
       "  <script>\n",
       "    async function quickchart(key) {\n",
       "      const quickchartButtonEl =\n",
       "        document.querySelector('#' + key + ' button');\n",
       "      quickchartButtonEl.disabled = true;  // To prevent multiple clicks.\n",
       "      quickchartButtonEl.classList.add('colab-df-spinner');\n",
       "      try {\n",
       "        const charts = await google.colab.kernel.invokeFunction(\n",
       "            'suggestCharts', [key], {});\n",
       "      } catch (error) {\n",
       "        console.error('Error during call to suggestCharts:', error);\n",
       "      }\n",
       "      quickchartButtonEl.classList.remove('colab-df-spinner');\n",
       "      quickchartButtonEl.classList.add('colab-df-quickchart-complete');\n",
       "    }\n",
       "    (() => {\n",
       "      let quickchartButtonEl =\n",
       "        document.querySelector('#df-2b48cd39-7ad3-4aae-8bbd-7fc0dcf84b49 button');\n",
       "      quickchartButtonEl.style.display =\n",
       "        google.colab.kernel.accessAllowed ? 'block' : 'none';\n",
       "    })();\n",
       "  </script>\n",
       "</div>\n",
       "    </div>\n",
       "  </div>\n"
      ],
      "text/plain": [
       "                                     id      y  \\\n",
       "0  c04fdf1e-ddf5-5542-96e7-13ce18cae176   True   \n",
       "1  49dc4cae-3d32-5b4d-b240-a080a1dbb659  False   \n",
       "2  f326fe7c-fc10-566f-a70f-0f36e3f92399  False   \n",
       "3  16daa0d1-61b8-5650-b7ee-5e265bd40910   True   \n",
       "4  08b536a8-4fed-5f62-97bb-e57f79e841d2  False   \n",
       "\n",
       "                                                pair  \n",
       "0  [\"Calm down, Nicolas. You don\"t wanna do somet...  \n",
       "1  [\"Squall!?\" Zell was panicking. Squall was mov...  \n",
       "2  [\"Just talk to the first girl you bump into an...  \n",
       "3  [\"I\"ll be fine,\" Alfred said, his grin not wav...  \n",
       "4  [dominated by a huge desk. Behind the desk, an...  "
      ]
     },
     "execution_count": 19,
     "metadata": {},
     "output_type": "execute_result"
    }
   ],
   "source": [
    "df_combined_val.head()"
   ]
  },
  {
   "cell_type": "code",
   "execution_count": 20,
   "metadata": {
    "colab": {
     "base_uri": "https://localhost:8080/"
    },
    "id": "xaBOcxIs-08x",
    "outputId": "c3346572-1b77-457d-a0bb-814264929921"
   },
   "outputs": [
    {
     "data": {
      "text/plain": [
       "id                   c04fdf1e-ddf5-5542-96e7-13ce18cae176\n",
       "y                                                    True\n",
       "pair    [\"Calm down, Nicolas. You don\"t wanna do somet...\n",
       "Name: 0, dtype: object"
      ]
     },
     "execution_count": 20,
     "metadata": {},
     "output_type": "execute_result"
    }
   ],
   "source": [
    "df_combined_val.iloc[0]"
   ]
  },
  {
   "cell_type": "code",
   "execution_count": 21,
   "metadata": {
    "id": "B3ODA9sY-08x"
   },
   "outputs": [],
   "source": [
    "df_combined_val[['text1', 'text2']] = df_combined_val['pair'].apply(pd.Series)\n",
    "df_combined_val = df_combined_val.drop(\"pair\", axis=1)"
   ]
  },
  {
   "cell_type": "code",
   "execution_count": 30,
   "metadata": {
    "colab": {
     "base_uri": "https://localhost:8080/"
    },
    "id": "ufOp9b9x-08y",
    "outputId": "97a239c0-babe-4acd-ede0-ac3c12093fe2"
   },
   "outputs": [
    {
     "name": "stdout",
     "output_type": "stream",
     "text": [
      "Test Accuracy: 2.60%\n"
     ]
    }
   ],
   "source": [
    "model = TransformerModel(model_name=model_name, freeze_transformer=True)\n",
    "model.load_state_dict(torch.load(\"./drive/MyDrive/NLP/finish_training_model.pt\"))\n",
    "model.eval()\n",
    "\n",
    "if torch.cuda.is_available():\n",
    "    model.cuda()\n",
    "\n",
    "correct = 0\n",
    "total = 0\n",
    "BATCH_SIZE = 32\n",
    "\n",
    "validate_dataset = CustomDataset(df_combined_val, model_name)\n",
    "val_data_loader = DataLoader(validate_dataset, batch_size=BATCH_SIZE, shuffle=True)\n",
    "\n",
    "with torch.no_grad():\n",
    "    for i, batch in enumerate(val_data_loader):\n",
    "        input_text1 = batch['encoded_input_text1']\n",
    "        input_text2 = batch['encoded_input_text2']\n",
    "        targets = batch['targets'].cuda()\n",
    "\n",
    "        outputs = model.forward(input_text1, input_text2)\n",
    "\n",
    "        _, predicted = torch.max(outputs, 0)\n",
    "\n",
    "        total += targets.size(0)\n",
    "        correct += (predicted == targets).sum().item()\n",
    "\n",
    "accuracy = correct / total\n",
    "print(f'Test Accuracy: {100 * accuracy:.2f}%')"
   ]
  },
  {
   "cell_type": "markdown",
   "metadata": {
    "id": "s0izuOLT-08y"
   },
   "source": [
    "In contrast to the training accuracy, the test accuracy has turned out to be remarkably low, which, again, can be attributed to the training's briefness or underfitting."
   ]
  }
 ],
 "metadata": {
  "accelerator": "GPU",
  "colab": {
   "gpuType": "T4",
   "provenance": []
  },
  "kernelspec": {
   "display_name": "Python 3 (ipykernel)",
   "language": "python",
   "name": "python3"
  },
  "language_info": {
   "codemirror_mode": {
    "name": "ipython",
    "version": 3
   },
   "file_extension": ".py",
   "mimetype": "text/x-python",
   "name": "python",
   "nbconvert_exporter": "python",
   "pygments_lexer": "ipython3",
   "version": "3.10.12"
  },
  "widgets": {
   "application/vnd.jupyter.widget-state+json": {
    "0611954103d64033a3b50c18eb0db35d": {
     "model_module": "@jupyter-widgets/controls",
     "model_module_version": "1.5.0",
     "model_name": "DescriptionStyleModel",
     "state": {
      "_model_module": "@jupyter-widgets/controls",
      "_model_module_version": "1.5.0",
      "_model_name": "DescriptionStyleModel",
      "_view_count": null,
      "_view_module": "@jupyter-widgets/base",
      "_view_module_version": "1.2.0",
      "_view_name": "StyleView",
      "description_width": ""
     }
    },
    "09f9511159cd4fe0a0c3e890a4d63b66": {
     "model_module": "@jupyter-widgets/controls",
     "model_module_version": "1.5.0",
     "model_name": "HTMLModel",
     "state": {
      "_dom_classes": [],
      "_model_module": "@jupyter-widgets/controls",
      "_model_module_version": "1.5.0",
      "_model_name": "HTMLModel",
      "_view_count": null,
      "_view_module": "@jupyter-widgets/controls",
      "_view_module_version": "1.5.0",
      "_view_name": "HTMLView",
      "description": "",
      "description_tooltip": null,
      "layout": "IPY_MODEL_e5e1c05a8f934b4fae87a23dacb0d3a3",
      "placeholder": "​",
      "style": "IPY_MODEL_29b26e1001ce4a539b85f21fb161c228",
      "value": "pytorch_model.bin: 100%"
     }
    },
    "1bec431c168240dd80d0223cd53695a6": {
     "model_module": "@jupyter-widgets/base",
     "model_module_version": "1.2.0",
     "model_name": "LayoutModel",
     "state": {
      "_model_module": "@jupyter-widgets/base",
      "_model_module_version": "1.2.0",
      "_model_name": "LayoutModel",
      "_view_count": null,
      "_view_module": "@jupyter-widgets/base",
      "_view_module_version": "1.2.0",
      "_view_name": "LayoutView",
      "align_content": null,
      "align_items": null,
      "align_self": null,
      "border": null,
      "bottom": null,
      "display": null,
      "flex": null,
      "flex_flow": null,
      "grid_area": null,
      "grid_auto_columns": null,
      "grid_auto_flow": null,
      "grid_auto_rows": null,
      "grid_column": null,
      "grid_gap": null,
      "grid_row": null,
      "grid_template_areas": null,
      "grid_template_columns": null,
      "grid_template_rows": null,
      "height": null,
      "justify_content": null,
      "justify_items": null,
      "left": null,
      "margin": null,
      "max_height": null,
      "max_width": null,
      "min_height": null,
      "min_width": null,
      "object_fit": null,
      "object_position": null,
      "order": null,
      "overflow": null,
      "overflow_x": null,
      "overflow_y": null,
      "padding": null,
      "right": null,
      "top": null,
      "visibility": null,
      "width": null
     }
    },
    "25eeba9e236b415f8fb7621c1e066009": {
     "model_module": "@jupyter-widgets/base",
     "model_module_version": "1.2.0",
     "model_name": "LayoutModel",
     "state": {
      "_model_module": "@jupyter-widgets/base",
      "_model_module_version": "1.2.0",
      "_model_name": "LayoutModel",
      "_view_count": null,
      "_view_module": "@jupyter-widgets/base",
      "_view_module_version": "1.2.0",
      "_view_name": "LayoutView",
      "align_content": null,
      "align_items": null,
      "align_self": null,
      "border": null,
      "bottom": null,
      "display": null,
      "flex": null,
      "flex_flow": null,
      "grid_area": null,
      "grid_auto_columns": null,
      "grid_auto_flow": null,
      "grid_auto_rows": null,
      "grid_column": null,
      "grid_gap": null,
      "grid_row": null,
      "grid_template_areas": null,
      "grid_template_columns": null,
      "grid_template_rows": null,
      "height": null,
      "justify_content": null,
      "justify_items": null,
      "left": null,
      "margin": null,
      "max_height": null,
      "max_width": null,
      "min_height": null,
      "min_width": null,
      "object_fit": null,
      "object_position": null,
      "order": null,
      "overflow": null,
      "overflow_x": null,
      "overflow_y": null,
      "padding": null,
      "right": null,
      "top": null,
      "visibility": null,
      "width": null
     }
    },
    "2749ecaac2a2493ea6f61097aa7232a1": {
     "model_module": "@jupyter-widgets/controls",
     "model_module_version": "1.5.0",
     "model_name": "HTMLModel",
     "state": {
      "_dom_classes": [],
      "_model_module": "@jupyter-widgets/controls",
      "_model_module_version": "1.5.0",
      "_model_name": "HTMLModel",
      "_view_count": null,
      "_view_module": "@jupyter-widgets/controls",
      "_view_module_version": "1.5.0",
      "_view_name": "HTMLView",
      "description": "",
      "description_tooltip": null,
      "layout": "IPY_MODEL_1bec431c168240dd80d0223cd53695a6",
      "placeholder": "​",
      "style": "IPY_MODEL_0611954103d64033a3b50c18eb0db35d",
      "value": " 718/718 [00:00&lt;00:00, 55.2kB/s]"
     }
    },
    "29b26e1001ce4a539b85f21fb161c228": {
     "model_module": "@jupyter-widgets/controls",
     "model_module_version": "1.5.0",
     "model_name": "DescriptionStyleModel",
     "state": {
      "_model_module": "@jupyter-widgets/controls",
      "_model_module_version": "1.5.0",
      "_model_name": "DescriptionStyleModel",
      "_view_count": null,
      "_view_module": "@jupyter-widgets/base",
      "_view_module_version": "1.2.0",
      "_view_name": "StyleView",
      "description_width": ""
     }
    },
    "2fdc8fbf684d43c0be7cfc46b5887d4f": {
     "model_module": "@jupyter-widgets/controls",
     "model_module_version": "1.5.0",
     "model_name": "HBoxModel",
     "state": {
      "_dom_classes": [],
      "_model_module": "@jupyter-widgets/controls",
      "_model_module_version": "1.5.0",
      "_model_name": "HBoxModel",
      "_view_count": null,
      "_view_module": "@jupyter-widgets/controls",
      "_view_module_version": "1.5.0",
      "_view_name": "HBoxView",
      "box_style": "",
      "children": [
       "IPY_MODEL_09f9511159cd4fe0a0c3e890a4d63b66",
       "IPY_MODEL_6a59bff3ec07496db367f0e695aa80c7",
       "IPY_MODEL_c343e14b063d4e88a85db5f176139c01"
      ],
      "layout": "IPY_MODEL_8aab7aca85054efaaa2b02d60fd1ff43"
     }
    },
    "31d2143bb75e4b358e53476569cc14a2": {
     "model_module": "@jupyter-widgets/controls",
     "model_module_version": "1.5.0",
     "model_name": "ProgressStyleModel",
     "state": {
      "_model_module": "@jupyter-widgets/controls",
      "_model_module_version": "1.5.0",
      "_model_name": "ProgressStyleModel",
      "_view_count": null,
      "_view_module": "@jupyter-widgets/base",
      "_view_module_version": "1.2.0",
      "_view_name": "StyleView",
      "bar_color": null,
      "description_width": ""
     }
    },
    "464ba2e0733d43bfb69775d865c3878e": {
     "model_module": "@jupyter-widgets/base",
     "model_module_version": "1.2.0",
     "model_name": "LayoutModel",
     "state": {
      "_model_module": "@jupyter-widgets/base",
      "_model_module_version": "1.2.0",
      "_model_name": "LayoutModel",
      "_view_count": null,
      "_view_module": "@jupyter-widgets/base",
      "_view_module_version": "1.2.0",
      "_view_name": "LayoutView",
      "align_content": null,
      "align_items": null,
      "align_self": null,
      "border": null,
      "bottom": null,
      "display": null,
      "flex": null,
      "flex_flow": null,
      "grid_area": null,
      "grid_auto_columns": null,
      "grid_auto_flow": null,
      "grid_auto_rows": null,
      "grid_column": null,
      "grid_gap": null,
      "grid_row": null,
      "grid_template_areas": null,
      "grid_template_columns": null,
      "grid_template_rows": null,
      "height": null,
      "justify_content": null,
      "justify_items": null,
      "left": null,
      "margin": null,
      "max_height": null,
      "max_width": null,
      "min_height": null,
      "min_width": null,
      "object_fit": null,
      "object_position": null,
      "order": null,
      "overflow": null,
      "overflow_x": null,
      "overflow_y": null,
      "padding": null,
      "right": null,
      "top": null,
      "visibility": null,
      "width": null
     }
    },
    "4fceacbb3b4b4c61b6e0684fef202f35": {
     "model_module": "@jupyter-widgets/controls",
     "model_module_version": "1.5.0",
     "model_name": "HBoxModel",
     "state": {
      "_dom_classes": [],
      "_model_module": "@jupyter-widgets/controls",
      "_model_module_version": "1.5.0",
      "_model_name": "HBoxModel",
      "_view_count": null,
      "_view_module": "@jupyter-widgets/controls",
      "_view_module_version": "1.5.0",
      "_view_name": "HBoxView",
      "box_style": "",
      "children": [
       "IPY_MODEL_c79e4635494a43bfab405a478bd29bb2",
       "IPY_MODEL_ed14ca7515f84a8295238d93f7e9184b",
       "IPY_MODEL_2749ecaac2a2493ea6f61097aa7232a1"
      ],
      "layout": "IPY_MODEL_25eeba9e236b415f8fb7621c1e066009"
     }
    },
    "652f52ab829b45798ae4c05be857a637": {
     "model_module": "@jupyter-widgets/base",
     "model_module_version": "1.2.0",
     "model_name": "LayoutModel",
     "state": {
      "_model_module": "@jupyter-widgets/base",
      "_model_module_version": "1.2.0",
      "_model_name": "LayoutModel",
      "_view_count": null,
      "_view_module": "@jupyter-widgets/base",
      "_view_module_version": "1.2.0",
      "_view_name": "LayoutView",
      "align_content": null,
      "align_items": null,
      "align_self": null,
      "border": null,
      "bottom": null,
      "display": null,
      "flex": null,
      "flex_flow": null,
      "grid_area": null,
      "grid_auto_columns": null,
      "grid_auto_flow": null,
      "grid_auto_rows": null,
      "grid_column": null,
      "grid_gap": null,
      "grid_row": null,
      "grid_template_areas": null,
      "grid_template_columns": null,
      "grid_template_rows": null,
      "height": null,
      "justify_content": null,
      "justify_items": null,
      "left": null,
      "margin": null,
      "max_height": null,
      "max_width": null,
      "min_height": null,
      "min_width": null,
      "object_fit": null,
      "object_position": null,
      "order": null,
      "overflow": null,
      "overflow_x": null,
      "overflow_y": null,
      "padding": null,
      "right": null,
      "top": null,
      "visibility": null,
      "width": null
     }
    },
    "6a59bff3ec07496db367f0e695aa80c7": {
     "model_module": "@jupyter-widgets/controls",
     "model_module_version": "1.5.0",
     "model_name": "FloatProgressModel",
     "state": {
      "_dom_classes": [],
      "_model_module": "@jupyter-widgets/controls",
      "_model_module_version": "1.5.0",
      "_model_name": "FloatProgressModel",
      "_view_count": null,
      "_view_module": "@jupyter-widgets/controls",
      "_view_module_version": "1.5.0",
      "_view_name": "ProgressView",
      "bar_style": "success",
      "description": "",
      "description_tooltip": null,
      "layout": "IPY_MODEL_ff06ee90355b41208c603bc0cbb126cd",
      "max": 498669047,
      "min": 0,
      "orientation": "horizontal",
      "style": "IPY_MODEL_31d2143bb75e4b358e53476569cc14a2",
      "value": 498669047
     }
    },
    "890d8a4328a7420f84ed669d33094c31": {
     "model_module": "@jupyter-widgets/controls",
     "model_module_version": "1.5.0",
     "model_name": "ProgressStyleModel",
     "state": {
      "_model_module": "@jupyter-widgets/controls",
      "_model_module_version": "1.5.0",
      "_model_name": "ProgressStyleModel",
      "_view_count": null,
      "_view_module": "@jupyter-widgets/base",
      "_view_module_version": "1.2.0",
      "_view_name": "StyleView",
      "bar_color": null,
      "description_width": ""
     }
    },
    "8aab7aca85054efaaa2b02d60fd1ff43": {
     "model_module": "@jupyter-widgets/base",
     "model_module_version": "1.2.0",
     "model_name": "LayoutModel",
     "state": {
      "_model_module": "@jupyter-widgets/base",
      "_model_module_version": "1.2.0",
      "_model_name": "LayoutModel",
      "_view_count": null,
      "_view_module": "@jupyter-widgets/base",
      "_view_module_version": "1.2.0",
      "_view_name": "LayoutView",
      "align_content": null,
      "align_items": null,
      "align_self": null,
      "border": null,
      "bottom": null,
      "display": null,
      "flex": null,
      "flex_flow": null,
      "grid_area": null,
      "grid_auto_columns": null,
      "grid_auto_flow": null,
      "grid_auto_rows": null,
      "grid_column": null,
      "grid_gap": null,
      "grid_row": null,
      "grid_template_areas": null,
      "grid_template_columns": null,
      "grid_template_rows": null,
      "height": null,
      "justify_content": null,
      "justify_items": null,
      "left": null,
      "margin": null,
      "max_height": null,
      "max_width": null,
      "min_height": null,
      "min_width": null,
      "object_fit": null,
      "object_position": null,
      "order": null,
      "overflow": null,
      "overflow_x": null,
      "overflow_y": null,
      "padding": null,
      "right": null,
      "top": null,
      "visibility": null,
      "width": null
     }
    },
    "9b96579cf9054c62bb8894317e546f6d": {
     "model_module": "@jupyter-widgets/controls",
     "model_module_version": "1.5.0",
     "model_name": "DescriptionStyleModel",
     "state": {
      "_model_module": "@jupyter-widgets/controls",
      "_model_module_version": "1.5.0",
      "_model_name": "DescriptionStyleModel",
      "_view_count": null,
      "_view_module": "@jupyter-widgets/base",
      "_view_module_version": "1.2.0",
      "_view_name": "StyleView",
      "description_width": ""
     }
    },
    "c343e14b063d4e88a85db5f176139c01": {
     "model_module": "@jupyter-widgets/controls",
     "model_module_version": "1.5.0",
     "model_name": "HTMLModel",
     "state": {
      "_dom_classes": [],
      "_model_module": "@jupyter-widgets/controls",
      "_model_module_version": "1.5.0",
      "_model_name": "HTMLModel",
      "_view_count": null,
      "_view_module": "@jupyter-widgets/controls",
      "_view_module_version": "1.5.0",
      "_view_name": "HTMLView",
      "description": "",
      "description_tooltip": null,
      "layout": "IPY_MODEL_652f52ab829b45798ae4c05be857a637",
      "placeholder": "​",
      "style": "IPY_MODEL_9b96579cf9054c62bb8894317e546f6d",
      "value": " 499M/499M [00:12&lt;00:00, 35.2MB/s]"
     }
    },
    "c79e4635494a43bfab405a478bd29bb2": {
     "model_module": "@jupyter-widgets/controls",
     "model_module_version": "1.5.0",
     "model_name": "HTMLModel",
     "state": {
      "_dom_classes": [],
      "_model_module": "@jupyter-widgets/controls",
      "_model_module_version": "1.5.0",
      "_model_name": "HTMLModel",
      "_view_count": null,
      "_view_module": "@jupyter-widgets/controls",
      "_view_module_version": "1.5.0",
      "_view_name": "HTMLView",
      "description": "",
      "description_tooltip": null,
      "layout": "IPY_MODEL_cbf5394841d24848a6a1b354eb86ce96",
      "placeholder": "​",
      "style": "IPY_MODEL_ce8eac8879cf4384b444e23b8481815c",
      "value": "config.json: 100%"
     }
    },
    "cbf5394841d24848a6a1b354eb86ce96": {
     "model_module": "@jupyter-widgets/base",
     "model_module_version": "1.2.0",
     "model_name": "LayoutModel",
     "state": {
      "_model_module": "@jupyter-widgets/base",
      "_model_module_version": "1.2.0",
      "_model_name": "LayoutModel",
      "_view_count": null,
      "_view_module": "@jupyter-widgets/base",
      "_view_module_version": "1.2.0",
      "_view_name": "LayoutView",
      "align_content": null,
      "align_items": null,
      "align_self": null,
      "border": null,
      "bottom": null,
      "display": null,
      "flex": null,
      "flex_flow": null,
      "grid_area": null,
      "grid_auto_columns": null,
      "grid_auto_flow": null,
      "grid_auto_rows": null,
      "grid_column": null,
      "grid_gap": null,
      "grid_row": null,
      "grid_template_areas": null,
      "grid_template_columns": null,
      "grid_template_rows": null,
      "height": null,
      "justify_content": null,
      "justify_items": null,
      "left": null,
      "margin": null,
      "max_height": null,
      "max_width": null,
      "min_height": null,
      "min_width": null,
      "object_fit": null,
      "object_position": null,
      "order": null,
      "overflow": null,
      "overflow_x": null,
      "overflow_y": null,
      "padding": null,
      "right": null,
      "top": null,
      "visibility": null,
      "width": null
     }
    },
    "ce8eac8879cf4384b444e23b8481815c": {
     "model_module": "@jupyter-widgets/controls",
     "model_module_version": "1.5.0",
     "model_name": "DescriptionStyleModel",
     "state": {
      "_model_module": "@jupyter-widgets/controls",
      "_model_module_version": "1.5.0",
      "_model_name": "DescriptionStyleModel",
      "_view_count": null,
      "_view_module": "@jupyter-widgets/base",
      "_view_module_version": "1.2.0",
      "_view_name": "StyleView",
      "description_width": ""
     }
    },
    "e5e1c05a8f934b4fae87a23dacb0d3a3": {
     "model_module": "@jupyter-widgets/base",
     "model_module_version": "1.2.0",
     "model_name": "LayoutModel",
     "state": {
      "_model_module": "@jupyter-widgets/base",
      "_model_module_version": "1.2.0",
      "_model_name": "LayoutModel",
      "_view_count": null,
      "_view_module": "@jupyter-widgets/base",
      "_view_module_version": "1.2.0",
      "_view_name": "LayoutView",
      "align_content": null,
      "align_items": null,
      "align_self": null,
      "border": null,
      "bottom": null,
      "display": null,
      "flex": null,
      "flex_flow": null,
      "grid_area": null,
      "grid_auto_columns": null,
      "grid_auto_flow": null,
      "grid_auto_rows": null,
      "grid_column": null,
      "grid_gap": null,
      "grid_row": null,
      "grid_template_areas": null,
      "grid_template_columns": null,
      "grid_template_rows": null,
      "height": null,
      "justify_content": null,
      "justify_items": null,
      "left": null,
      "margin": null,
      "max_height": null,
      "max_width": null,
      "min_height": null,
      "min_width": null,
      "object_fit": null,
      "object_position": null,
      "order": null,
      "overflow": null,
      "overflow_x": null,
      "overflow_y": null,
      "padding": null,
      "right": null,
      "top": null,
      "visibility": null,
      "width": null
     }
    },
    "ed14ca7515f84a8295238d93f7e9184b": {
     "model_module": "@jupyter-widgets/controls",
     "model_module_version": "1.5.0",
     "model_name": "FloatProgressModel",
     "state": {
      "_dom_classes": [],
      "_model_module": "@jupyter-widgets/controls",
      "_model_module_version": "1.5.0",
      "_model_name": "FloatProgressModel",
      "_view_count": null,
      "_view_module": "@jupyter-widgets/controls",
      "_view_module_version": "1.5.0",
      "_view_name": "ProgressView",
      "bar_style": "success",
      "description": "",
      "description_tooltip": null,
      "layout": "IPY_MODEL_464ba2e0733d43bfb69775d865c3878e",
      "max": 718,
      "min": 0,
      "orientation": "horizontal",
      "style": "IPY_MODEL_890d8a4328a7420f84ed669d33094c31",
      "value": 718
     }
    },
    "ff06ee90355b41208c603bc0cbb126cd": {
     "model_module": "@jupyter-widgets/base",
     "model_module_version": "1.2.0",
     "model_name": "LayoutModel",
     "state": {
      "_model_module": "@jupyter-widgets/base",
      "_model_module_version": "1.2.0",
      "_model_name": "LayoutModel",
      "_view_count": null,
      "_view_module": "@jupyter-widgets/base",
      "_view_module_version": "1.2.0",
      "_view_name": "LayoutView",
      "align_content": null,
      "align_items": null,
      "align_self": null,
      "border": null,
      "bottom": null,
      "display": null,
      "flex": null,
      "flex_flow": null,
      "grid_area": null,
      "grid_auto_columns": null,
      "grid_auto_flow": null,
      "grid_auto_rows": null,
      "grid_column": null,
      "grid_gap": null,
      "grid_row": null,
      "grid_template_areas": null,
      "grid_template_columns": null,
      "grid_template_rows": null,
      "height": null,
      "justify_content": null,
      "justify_items": null,
      "left": null,
      "margin": null,
      "max_height": null,
      "max_width": null,
      "min_height": null,
      "min_width": null,
      "object_fit": null,
      "object_position": null,
      "order": null,
      "overflow": null,
      "overflow_x": null,
      "overflow_y": null,
      "padding": null,
      "right": null,
      "top": null,
      "visibility": null,
      "width": null
     }
    }
   }
  }
 },
 "nbformat": 4,
 "nbformat_minor": 1
}
