{
  "cells": [
    {
      "cell_type": "code",
      "execution_count": 1,
      "metadata": {
        "id": "2SfH3ulB-08b"
      },
      "outputs": [],
      "source": [
        "%pip install -q torch transformers numpy pandas sentence-transformers -U scikit-learn"
      ]
    },
    {
      "cell_type": "code",
      "source": [
        "%pip install --upgrade numpy\n",
        "%pip install --upgrade scikit-learn"
      ],
      "metadata": {
        "colab": {
          "base_uri": "https://localhost:8080/"
        },
        "id": "ANTtH-GvAOmQ",
        "outputId": "498d3eb7-b98d-4edd-f621-46cfe5d50834"
      },
      "execution_count": 2,
      "outputs": [
        {
          "output_type": "stream",
          "name": "stdout",
          "text": [
            "Requirement already satisfied: numpy in /usr/local/lib/python3.10/dist-packages (1.26.2)\n",
            "Requirement already satisfied: scikit-learn in /usr/local/lib/python3.10/dist-packages (1.3.2)\n",
            "Requirement already satisfied: numpy<2.0,>=1.17.3 in /usr/local/lib/python3.10/dist-packages (from scikit-learn) (1.26.2)\n",
            "Requirement already satisfied: scipy>=1.5.0 in /usr/local/lib/python3.10/dist-packages (from scikit-learn) (1.11.3)\n",
            "Requirement already satisfied: joblib>=1.1.1 in /usr/local/lib/python3.10/dist-packages (from scikit-learn) (1.3.2)\n",
            "Requirement already satisfied: threadpoolctl>=2.0.0 in /usr/local/lib/python3.10/dist-packages (from scikit-learn) (3.2.0)\n"
          ]
        }
      ]
    },
    {
      "cell_type": "code",
      "source": [
        "from google.colab import drive\n",
        "drive.mount('/content/drive')"
      ],
      "metadata": {
        "colab": {
          "base_uri": "https://localhost:8080/"
        },
        "id": "4ACU_WZv_C08",
        "outputId": "dc72ff61-5be7-4678-9c7e-ad8c40c487c1"
      },
      "execution_count": 3,
      "outputs": [
        {
          "output_type": "stream",
          "name": "stdout",
          "text": [
            "Drive already mounted at /content/drive; to attempt to forcibly remount, call drive.mount(\"/content/drive\", force_remount=True).\n"
          ]
        }
      ]
    },
    {
      "cell_type": "code",
      "execution_count": 4,
      "metadata": {
        "id": "cB0eaIQi-08g"
      },
      "outputs": [],
      "source": [
        "import os\n",
        "import json\n",
        "import pandas as pd\n",
        "from typing import List"
      ]
    },
    {
      "cell_type": "code",
      "execution_count": 5,
      "metadata": {
        "id": "q9tsRbi5-08h"
      },
      "outputs": [],
      "source": [
        "import torch\n",
        "import numpy as np\n",
        "import torch.nn as nn\n",
        "import torch.optim as optim\n",
        "from torch.utils.data import DataLoader, Dataset\n",
        "from transformers import AutoModel, AutoTokenizer\n",
        "from sklearn.model_selection import train_test_split"
      ]
    },
    {
      "cell_type": "code",
      "execution_count": 6,
      "metadata": {
        "id": "AJxuSOS2-08i"
      },
      "outputs": [],
      "source": [
        "# PARENT_FOLDER = \"PAN2020-authorship-verification\"\n",
        "# DATASET1_TRAIN = \"pan20-authorship-verification-training-small/pan20-authorship-verification-training-small/pan20-authorship-verification-training-small-truth.jsonl\"\n",
        "# DATASET2_TRAIN = \"pan20-authorship-verification-training-small/pan20-authorship-verification-training-small/pan20-authorship-verification-training-small.jsonl\"\n",
        "# DATASET1_TRAIN = \"pan20-authorship-verification-training-small-truth.jsonl\"\n",
        "# DATASET2_TRAIN = \"pan20-authorship-verification-training-small.jsonl\"\n",
        "DATASET_DRIVE_TRAIN_GROUND = \"./drive/MyDrive/NLP/pan20-authorship-verification-training-small-truth.jsonl\"\n",
        "DATASET_DRIVE_TRAIN = \"./drive/MyDrive/NLP/pan20-authorship-verification-training-small.jsonl\""
      ]
    },
    {
      "cell_type": "code",
      "execution_count": 7,
      "metadata": {
        "id": "oUlVNT1T-08i"
      },
      "outputs": [],
      "source": [
        "def get_dataframe_from_file (file_path : str) -> List:\n",
        "    data = []\n",
        "\n",
        "    with open(file_path, 'r') as file:\n",
        "        for line in file:\n",
        "            try:\n",
        "                parsed_data = json.loads(line)\n",
        "                data.append(parsed_data)\n",
        "            except json.JSONDecodeError as e:\n",
        "                print(f\"Error parsing JSON: {e}\")\n",
        "\n",
        "    return pd.DataFrame(data)"
      ]
    },
    {
      "cell_type": "code",
      "execution_count": 8,
      "metadata": {
        "colab": {
          "base_uri": "https://localhost:8080/"
        },
        "id": "1D8SFaeL-08i",
        "outputId": "d9a3c273-8a53-417e-a119-9e61d8daef9f"
      },
      "outputs": [
        {
          "output_type": "stream",
          "name": "stdout",
          "text": [
            "52623\n"
          ]
        }
      ],
      "source": [
        "df_ground_truth = get_dataframe_from_file(DATASET_DRIVE_TRAIN_GROUND)\n",
        "df_inputs = get_dataframe_from_file(DATASET_DRIVE_TRAIN)\n",
        "\n",
        "df_combined = pd.merge(df_ground_truth, df_inputs, on='id')\n",
        "\n",
        "######################\n",
        "#     CUIDADO!!!!!   #\n",
        "######################\n",
        "#df_combined = df_combined.head(2**10)\n",
        "print(len(df_combined))"
      ]
    },
    {
      "cell_type": "code",
      "execution_count": 9,
      "metadata": {
        "colab": {
          "base_uri": "https://localhost:8080/",
          "height": 206
        },
        "id": "XWgWu8d9-08j",
        "outputId": "c33b504d-26fa-4c1f-be09-de7972c48348"
      },
      "outputs": [
        {
          "output_type": "execute_result",
          "data": {
            "text/plain": [
              "                                     id  same             authors\n",
              "0  6cced668-6e51-5212-873c-717f2bc91ce6  True  [1446633, 1446633]\n",
              "1  3c6c188a-db28-59aa-8c09-3d0f799ff579  True  [1446633, 1446633]\n",
              "2  b0cfa94f-c9ec-5aa5-8331-a5a249b664cf  True  [1446633, 1446633]\n",
              "3  e6e86e73-9a7b-58f2-a652-a17b4a1bcabf  True  [1446633, 1446633]\n",
              "4  4fe541af-912e-5a86-81a5-94c6d3891509  True  [1446633, 1446633]"
            ],
            "text/html": [
              "\n",
              "  <div id=\"df-5e20e378-ecd1-4bcc-93de-f94dbf5a333a\" class=\"colab-df-container\">\n",
              "    <div>\n",
              "<style scoped>\n",
              "    .dataframe tbody tr th:only-of-type {\n",
              "        vertical-align: middle;\n",
              "    }\n",
              "\n",
              "    .dataframe tbody tr th {\n",
              "        vertical-align: top;\n",
              "    }\n",
              "\n",
              "    .dataframe thead th {\n",
              "        text-align: right;\n",
              "    }\n",
              "</style>\n",
              "<table border=\"1\" class=\"dataframe\">\n",
              "  <thead>\n",
              "    <tr style=\"text-align: right;\">\n",
              "      <th></th>\n",
              "      <th>id</th>\n",
              "      <th>same</th>\n",
              "      <th>authors</th>\n",
              "    </tr>\n",
              "  </thead>\n",
              "  <tbody>\n",
              "    <tr>\n",
              "      <th>0</th>\n",
              "      <td>6cced668-6e51-5212-873c-717f2bc91ce6</td>\n",
              "      <td>True</td>\n",
              "      <td>[1446633, 1446633]</td>\n",
              "    </tr>\n",
              "    <tr>\n",
              "      <th>1</th>\n",
              "      <td>3c6c188a-db28-59aa-8c09-3d0f799ff579</td>\n",
              "      <td>True</td>\n",
              "      <td>[1446633, 1446633]</td>\n",
              "    </tr>\n",
              "    <tr>\n",
              "      <th>2</th>\n",
              "      <td>b0cfa94f-c9ec-5aa5-8331-a5a249b664cf</td>\n",
              "      <td>True</td>\n",
              "      <td>[1446633, 1446633]</td>\n",
              "    </tr>\n",
              "    <tr>\n",
              "      <th>3</th>\n",
              "      <td>e6e86e73-9a7b-58f2-a652-a17b4a1bcabf</td>\n",
              "      <td>True</td>\n",
              "      <td>[1446633, 1446633]</td>\n",
              "    </tr>\n",
              "    <tr>\n",
              "      <th>4</th>\n",
              "      <td>4fe541af-912e-5a86-81a5-94c6d3891509</td>\n",
              "      <td>True</td>\n",
              "      <td>[1446633, 1446633]</td>\n",
              "    </tr>\n",
              "  </tbody>\n",
              "</table>\n",
              "</div>\n",
              "    <div class=\"colab-df-buttons\">\n",
              "\n",
              "  <div class=\"colab-df-container\">\n",
              "    <button class=\"colab-df-convert\" onclick=\"convertToInteractive('df-5e20e378-ecd1-4bcc-93de-f94dbf5a333a')\"\n",
              "            title=\"Convert this dataframe to an interactive table.\"\n",
              "            style=\"display:none;\">\n",
              "\n",
              "  <svg xmlns=\"http://www.w3.org/2000/svg\" height=\"24px\" viewBox=\"0 -960 960 960\">\n",
              "    <path d=\"M120-120v-720h720v720H120Zm60-500h600v-160H180v160Zm220 220h160v-160H400v160Zm0 220h160v-160H400v160ZM180-400h160v-160H180v160Zm440 0h160v-160H620v160ZM180-180h160v-160H180v160Zm440 0h160v-160H620v160Z\"/>\n",
              "  </svg>\n",
              "    </button>\n",
              "\n",
              "  <style>\n",
              "    .colab-df-container {\n",
              "      display:flex;\n",
              "      gap: 12px;\n",
              "    }\n",
              "\n",
              "    .colab-df-convert {\n",
              "      background-color: #E8F0FE;\n",
              "      border: none;\n",
              "      border-radius: 50%;\n",
              "      cursor: pointer;\n",
              "      display: none;\n",
              "      fill: #1967D2;\n",
              "      height: 32px;\n",
              "      padding: 0 0 0 0;\n",
              "      width: 32px;\n",
              "    }\n",
              "\n",
              "    .colab-df-convert:hover {\n",
              "      background-color: #E2EBFA;\n",
              "      box-shadow: 0px 1px 2px rgba(60, 64, 67, 0.3), 0px 1px 3px 1px rgba(60, 64, 67, 0.15);\n",
              "      fill: #174EA6;\n",
              "    }\n",
              "\n",
              "    .colab-df-buttons div {\n",
              "      margin-bottom: 4px;\n",
              "    }\n",
              "\n",
              "    [theme=dark] .colab-df-convert {\n",
              "      background-color: #3B4455;\n",
              "      fill: #D2E3FC;\n",
              "    }\n",
              "\n",
              "    [theme=dark] .colab-df-convert:hover {\n",
              "      background-color: #434B5C;\n",
              "      box-shadow: 0px 1px 3px 1px rgba(0, 0, 0, 0.15);\n",
              "      filter: drop-shadow(0px 1px 2px rgba(0, 0, 0, 0.3));\n",
              "      fill: #FFFFFF;\n",
              "    }\n",
              "  </style>\n",
              "\n",
              "    <script>\n",
              "      const buttonEl =\n",
              "        document.querySelector('#df-5e20e378-ecd1-4bcc-93de-f94dbf5a333a button.colab-df-convert');\n",
              "      buttonEl.style.display =\n",
              "        google.colab.kernel.accessAllowed ? 'block' : 'none';\n",
              "\n",
              "      async function convertToInteractive(key) {\n",
              "        const element = document.querySelector('#df-5e20e378-ecd1-4bcc-93de-f94dbf5a333a');\n",
              "        const dataTable =\n",
              "          await google.colab.kernel.invokeFunction('convertToInteractive',\n",
              "                                                    [key], {});\n",
              "        if (!dataTable) return;\n",
              "\n",
              "        const docLinkHtml = 'Like what you see? Visit the ' +\n",
              "          '<a target=\"_blank\" href=https://colab.research.google.com/notebooks/data_table.ipynb>data table notebook</a>'\n",
              "          + ' to learn more about interactive tables.';\n",
              "        element.innerHTML = '';\n",
              "        dataTable['output_type'] = 'display_data';\n",
              "        await google.colab.output.renderOutput(dataTable, element);\n",
              "        const docLink = document.createElement('div');\n",
              "        docLink.innerHTML = docLinkHtml;\n",
              "        element.appendChild(docLink);\n",
              "      }\n",
              "    </script>\n",
              "  </div>\n",
              "\n",
              "\n",
              "<div id=\"df-b1d77f87-0dbb-4abc-bb4d-7261e4ae28a2\">\n",
              "  <button class=\"colab-df-quickchart\" onclick=\"quickchart('df-b1d77f87-0dbb-4abc-bb4d-7261e4ae28a2')\"\n",
              "            title=\"Suggest charts\"\n",
              "            style=\"display:none;\">\n",
              "\n",
              "<svg xmlns=\"http://www.w3.org/2000/svg\" height=\"24px\"viewBox=\"0 0 24 24\"\n",
              "     width=\"24px\">\n",
              "    <g>\n",
              "        <path d=\"M19 3H5c-1.1 0-2 .9-2 2v14c0 1.1.9 2 2 2h14c1.1 0 2-.9 2-2V5c0-1.1-.9-2-2-2zM9 17H7v-7h2v7zm4 0h-2V7h2v10zm4 0h-2v-4h2v4z\"/>\n",
              "    </g>\n",
              "</svg>\n",
              "  </button>\n",
              "\n",
              "<style>\n",
              "  .colab-df-quickchart {\n",
              "      --bg-color: #E8F0FE;\n",
              "      --fill-color: #1967D2;\n",
              "      --hover-bg-color: #E2EBFA;\n",
              "      --hover-fill-color: #174EA6;\n",
              "      --disabled-fill-color: #AAA;\n",
              "      --disabled-bg-color: #DDD;\n",
              "  }\n",
              "\n",
              "  [theme=dark] .colab-df-quickchart {\n",
              "      --bg-color: #3B4455;\n",
              "      --fill-color: #D2E3FC;\n",
              "      --hover-bg-color: #434B5C;\n",
              "      --hover-fill-color: #FFFFFF;\n",
              "      --disabled-bg-color: #3B4455;\n",
              "      --disabled-fill-color: #666;\n",
              "  }\n",
              "\n",
              "  .colab-df-quickchart {\n",
              "    background-color: var(--bg-color);\n",
              "    border: none;\n",
              "    border-radius: 50%;\n",
              "    cursor: pointer;\n",
              "    display: none;\n",
              "    fill: var(--fill-color);\n",
              "    height: 32px;\n",
              "    padding: 0;\n",
              "    width: 32px;\n",
              "  }\n",
              "\n",
              "  .colab-df-quickchart:hover {\n",
              "    background-color: var(--hover-bg-color);\n",
              "    box-shadow: 0 1px 2px rgba(60, 64, 67, 0.3), 0 1px 3px 1px rgba(60, 64, 67, 0.15);\n",
              "    fill: var(--button-hover-fill-color);\n",
              "  }\n",
              "\n",
              "  .colab-df-quickchart-complete:disabled,\n",
              "  .colab-df-quickchart-complete:disabled:hover {\n",
              "    background-color: var(--disabled-bg-color);\n",
              "    fill: var(--disabled-fill-color);\n",
              "    box-shadow: none;\n",
              "  }\n",
              "\n",
              "  .colab-df-spinner {\n",
              "    border: 2px solid var(--fill-color);\n",
              "    border-color: transparent;\n",
              "    border-bottom-color: var(--fill-color);\n",
              "    animation:\n",
              "      spin 1s steps(1) infinite;\n",
              "  }\n",
              "\n",
              "  @keyframes spin {\n",
              "    0% {\n",
              "      border-color: transparent;\n",
              "      border-bottom-color: var(--fill-color);\n",
              "      border-left-color: var(--fill-color);\n",
              "    }\n",
              "    20% {\n",
              "      border-color: transparent;\n",
              "      border-left-color: var(--fill-color);\n",
              "      border-top-color: var(--fill-color);\n",
              "    }\n",
              "    30% {\n",
              "      border-color: transparent;\n",
              "      border-left-color: var(--fill-color);\n",
              "      border-top-color: var(--fill-color);\n",
              "      border-right-color: var(--fill-color);\n",
              "    }\n",
              "    40% {\n",
              "      border-color: transparent;\n",
              "      border-right-color: var(--fill-color);\n",
              "      border-top-color: var(--fill-color);\n",
              "    }\n",
              "    60% {\n",
              "      border-color: transparent;\n",
              "      border-right-color: var(--fill-color);\n",
              "    }\n",
              "    80% {\n",
              "      border-color: transparent;\n",
              "      border-right-color: var(--fill-color);\n",
              "      border-bottom-color: var(--fill-color);\n",
              "    }\n",
              "    90% {\n",
              "      border-color: transparent;\n",
              "      border-bottom-color: var(--fill-color);\n",
              "    }\n",
              "  }\n",
              "</style>\n",
              "\n",
              "  <script>\n",
              "    async function quickchart(key) {\n",
              "      const quickchartButtonEl =\n",
              "        document.querySelector('#' + key + ' button');\n",
              "      quickchartButtonEl.disabled = true;  // To prevent multiple clicks.\n",
              "      quickchartButtonEl.classList.add('colab-df-spinner');\n",
              "      try {\n",
              "        const charts = await google.colab.kernel.invokeFunction(\n",
              "            'suggestCharts', [key], {});\n",
              "      } catch (error) {\n",
              "        console.error('Error during call to suggestCharts:', error);\n",
              "      }\n",
              "      quickchartButtonEl.classList.remove('colab-df-spinner');\n",
              "      quickchartButtonEl.classList.add('colab-df-quickchart-complete');\n",
              "    }\n",
              "    (() => {\n",
              "      let quickchartButtonEl =\n",
              "        document.querySelector('#df-b1d77f87-0dbb-4abc-bb4d-7261e4ae28a2 button');\n",
              "      quickchartButtonEl.style.display =\n",
              "        google.colab.kernel.accessAllowed ? 'block' : 'none';\n",
              "    })();\n",
              "  </script>\n",
              "</div>\n",
              "    </div>\n",
              "  </div>\n"
            ]
          },
          "metadata": {},
          "execution_count": 9
        }
      ],
      "source": [
        "df_ground_truth.head()"
      ]
    },
    {
      "cell_type": "code",
      "execution_count": 10,
      "metadata": {
        "colab": {
          "base_uri": "https://localhost:8080/"
        },
        "id": "xxj8KkwL-08j",
        "outputId": "f638744a-ec29-4414-9fea-641a24caced4"
      },
      "outputs": [
        {
          "output_type": "execute_result",
          "data": {
            "text/plain": [
              "52601"
            ]
          },
          "metadata": {},
          "execution_count": 10
        }
      ],
      "source": [
        "len(df_ground_truth)"
      ]
    },
    {
      "cell_type": "code",
      "execution_count": 11,
      "metadata": {
        "id": "GlXZyaAn-08k"
      },
      "outputs": [],
      "source": [
        "def check_not_nulls(df: pd.DataFrame) -> None:\n",
        "    print(df.isnull().sum())"
      ]
    },
    {
      "cell_type": "code",
      "execution_count": 12,
      "metadata": {
        "id": "t08Nbf9U-08k"
      },
      "outputs": [],
      "source": [
        "def count_duplicate_ids(df: pd.DataFrame) -> pd.Series:\n",
        "    # Find duplicate IDs\n",
        "    duplicate_ids = df[df.duplicated(subset=['id'], keep=False)]\n",
        "\n",
        "    # Calculate the sum of repetitions\n",
        "    sum_repetitions = len(duplicate_ids)\n",
        "\n",
        "    return sum_repetitions"
      ]
    },
    {
      "cell_type": "code",
      "execution_count": 13,
      "metadata": {
        "colab": {
          "base_uri": "https://localhost:8080/"
        },
        "id": "2qC-r8ng-08l",
        "outputId": "1f8286db-4b87-4483-c850-2bf146b65c40"
      },
      "outputs": [
        {
          "output_type": "stream",
          "name": "stdout",
          "text": [
            "id         0\n",
            "same       0\n",
            "authors    0\n",
            "dtype: int64\n"
          ]
        }
      ],
      "source": [
        "check_not_nulls(df_ground_truth)"
      ]
    },
    {
      "cell_type": "code",
      "execution_count": 14,
      "metadata": {
        "colab": {
          "base_uri": "https://localhost:8080/"
        },
        "id": "ihT9xtTV-08l",
        "outputId": "878e9641-e7ba-4411-eb4c-a23aaa470907"
      },
      "outputs": [
        {
          "output_type": "stream",
          "name": "stdout",
          "text": [
            "id         0\n",
            "fandoms    0\n",
            "pair       0\n",
            "dtype: int64\n"
          ]
        }
      ],
      "source": [
        "check_not_nulls(df_inputs)"
      ]
    },
    {
      "cell_type": "markdown",
      "metadata": {
        "id": "3Aeirwcp-08l"
      },
      "source": [
        "Only on training data"
      ]
    },
    {
      "cell_type": "markdown",
      "metadata": {
        "id": "cpSJOm2R-08m"
      },
      "source": [
        "## Generate Dataset\n",
        "\n",
        "- Robust dataset: Separate pairs and with its fandoms. Use fandoms to generate new dataset of pairs."
      ]
    },
    {
      "cell_type": "code",
      "execution_count": 15,
      "metadata": {
        "id": "sp0xjiCL-08m"
      },
      "outputs": [],
      "source": [
        "assert count_duplicate_ids(df_ground_truth) == count_duplicate_ids(df_inputs)"
      ]
    },
    {
      "cell_type": "code",
      "execution_count": 16,
      "metadata": {
        "id": "7DlsFox8-08n"
      },
      "outputs": [],
      "source": [
        "# assert len(df_combined) - len(df_inputs) == 22"
      ]
    },
    {
      "cell_type": "markdown",
      "metadata": {
        "id": "cXe8he-L-08n"
      },
      "source": [
        "Se elimina la columna \"same\" ya que no da información relevante para el entrenamiento del modelo. Debido a que es una comparación entre dos ids que son las salidas del modelo."
      ]
    },
    {
      "cell_type": "code",
      "execution_count": 17,
      "metadata": {
        "id": "wV4WhhPg-08n"
      },
      "outputs": [],
      "source": [
        "df_combined = df_combined.drop(\"authors\", axis=1).drop(\"fandoms\", axis=1)"
      ]
    },
    {
      "cell_type": "markdown",
      "metadata": {
        "id": "53SVfcQV-08n"
      },
      "source": [
        "Rename \"authors\" to \"y\""
      ]
    },
    {
      "cell_type": "code",
      "execution_count": 18,
      "metadata": {
        "id": "yE0B3Vxf-08n"
      },
      "outputs": [],
      "source": [
        "df_combined = df_combined.rename(columns={'same': 'y'})"
      ]
    },
    {
      "cell_type": "code",
      "execution_count": 19,
      "metadata": {
        "colab": {
          "base_uri": "https://localhost:8080/",
          "height": 206
        },
        "id": "nWEViDAc-08n",
        "outputId": "fdd6fa3c-8daf-4ba2-ff47-1518046b0cc9"
      },
      "outputs": [
        {
          "output_type": "execute_result",
          "data": {
            "text/plain": [
              "                                     id     y  \\\n",
              "0  6cced668-6e51-5212-873c-717f2bc91ce6  True   \n",
              "1  3c6c188a-db28-59aa-8c09-3d0f799ff579  True   \n",
              "2  b0cfa94f-c9ec-5aa5-8331-a5a249b664cf  True   \n",
              "3  e6e86e73-9a7b-58f2-a652-a17b4a1bcabf  True   \n",
              "4  4fe541af-912e-5a86-81a5-94c6d3891509  True   \n",
              "\n",
              "                                                pair  \n",
              "0  [I shift a bit, warily letting my eyes dart fr...  \n",
              "1  [I shift a bit, warily letting my eyes dart fr...  \n",
              "2  [A single tear escaped me as I left. I did hav...  \n",
              "3  [\"Ja.\" Ludwig kept his gaze upon her, solidly....  \n",
              "4  [And he did. Slowly, hesitantly...but coming f...  "
            ],
            "text/html": [
              "\n",
              "  <div id=\"df-657787c7-f9cf-4c3d-a030-b8f79e4aa683\" class=\"colab-df-container\">\n",
              "    <div>\n",
              "<style scoped>\n",
              "    .dataframe tbody tr th:only-of-type {\n",
              "        vertical-align: middle;\n",
              "    }\n",
              "\n",
              "    .dataframe tbody tr th {\n",
              "        vertical-align: top;\n",
              "    }\n",
              "\n",
              "    .dataframe thead th {\n",
              "        text-align: right;\n",
              "    }\n",
              "</style>\n",
              "<table border=\"1\" class=\"dataframe\">\n",
              "  <thead>\n",
              "    <tr style=\"text-align: right;\">\n",
              "      <th></th>\n",
              "      <th>id</th>\n",
              "      <th>y</th>\n",
              "      <th>pair</th>\n",
              "    </tr>\n",
              "  </thead>\n",
              "  <tbody>\n",
              "    <tr>\n",
              "      <th>0</th>\n",
              "      <td>6cced668-6e51-5212-873c-717f2bc91ce6</td>\n",
              "      <td>True</td>\n",
              "      <td>[I shift a bit, warily letting my eyes dart fr...</td>\n",
              "    </tr>\n",
              "    <tr>\n",
              "      <th>1</th>\n",
              "      <td>3c6c188a-db28-59aa-8c09-3d0f799ff579</td>\n",
              "      <td>True</td>\n",
              "      <td>[I shift a bit, warily letting my eyes dart fr...</td>\n",
              "    </tr>\n",
              "    <tr>\n",
              "      <th>2</th>\n",
              "      <td>b0cfa94f-c9ec-5aa5-8331-a5a249b664cf</td>\n",
              "      <td>True</td>\n",
              "      <td>[A single tear escaped me as I left. I did hav...</td>\n",
              "    </tr>\n",
              "    <tr>\n",
              "      <th>3</th>\n",
              "      <td>e6e86e73-9a7b-58f2-a652-a17b4a1bcabf</td>\n",
              "      <td>True</td>\n",
              "      <td>[\"Ja.\" Ludwig kept his gaze upon her, solidly....</td>\n",
              "    </tr>\n",
              "    <tr>\n",
              "      <th>4</th>\n",
              "      <td>4fe541af-912e-5a86-81a5-94c6d3891509</td>\n",
              "      <td>True</td>\n",
              "      <td>[And he did. Slowly, hesitantly...but coming f...</td>\n",
              "    </tr>\n",
              "  </tbody>\n",
              "</table>\n",
              "</div>\n",
              "    <div class=\"colab-df-buttons\">\n",
              "\n",
              "  <div class=\"colab-df-container\">\n",
              "    <button class=\"colab-df-convert\" onclick=\"convertToInteractive('df-657787c7-f9cf-4c3d-a030-b8f79e4aa683')\"\n",
              "            title=\"Convert this dataframe to an interactive table.\"\n",
              "            style=\"display:none;\">\n",
              "\n",
              "  <svg xmlns=\"http://www.w3.org/2000/svg\" height=\"24px\" viewBox=\"0 -960 960 960\">\n",
              "    <path d=\"M120-120v-720h720v720H120Zm60-500h600v-160H180v160Zm220 220h160v-160H400v160Zm0 220h160v-160H400v160ZM180-400h160v-160H180v160Zm440 0h160v-160H620v160ZM180-180h160v-160H180v160Zm440 0h160v-160H620v160Z\"/>\n",
              "  </svg>\n",
              "    </button>\n",
              "\n",
              "  <style>\n",
              "    .colab-df-container {\n",
              "      display:flex;\n",
              "      gap: 12px;\n",
              "    }\n",
              "\n",
              "    .colab-df-convert {\n",
              "      background-color: #E8F0FE;\n",
              "      border: none;\n",
              "      border-radius: 50%;\n",
              "      cursor: pointer;\n",
              "      display: none;\n",
              "      fill: #1967D2;\n",
              "      height: 32px;\n",
              "      padding: 0 0 0 0;\n",
              "      width: 32px;\n",
              "    }\n",
              "\n",
              "    .colab-df-convert:hover {\n",
              "      background-color: #E2EBFA;\n",
              "      box-shadow: 0px 1px 2px rgba(60, 64, 67, 0.3), 0px 1px 3px 1px rgba(60, 64, 67, 0.15);\n",
              "      fill: #174EA6;\n",
              "    }\n",
              "\n",
              "    .colab-df-buttons div {\n",
              "      margin-bottom: 4px;\n",
              "    }\n",
              "\n",
              "    [theme=dark] .colab-df-convert {\n",
              "      background-color: #3B4455;\n",
              "      fill: #D2E3FC;\n",
              "    }\n",
              "\n",
              "    [theme=dark] .colab-df-convert:hover {\n",
              "      background-color: #434B5C;\n",
              "      box-shadow: 0px 1px 3px 1px rgba(0, 0, 0, 0.15);\n",
              "      filter: drop-shadow(0px 1px 2px rgba(0, 0, 0, 0.3));\n",
              "      fill: #FFFFFF;\n",
              "    }\n",
              "  </style>\n",
              "\n",
              "    <script>\n",
              "      const buttonEl =\n",
              "        document.querySelector('#df-657787c7-f9cf-4c3d-a030-b8f79e4aa683 button.colab-df-convert');\n",
              "      buttonEl.style.display =\n",
              "        google.colab.kernel.accessAllowed ? 'block' : 'none';\n",
              "\n",
              "      async function convertToInteractive(key) {\n",
              "        const element = document.querySelector('#df-657787c7-f9cf-4c3d-a030-b8f79e4aa683');\n",
              "        const dataTable =\n",
              "          await google.colab.kernel.invokeFunction('convertToInteractive',\n",
              "                                                    [key], {});\n",
              "        if (!dataTable) return;\n",
              "\n",
              "        const docLinkHtml = 'Like what you see? Visit the ' +\n",
              "          '<a target=\"_blank\" href=https://colab.research.google.com/notebooks/data_table.ipynb>data table notebook</a>'\n",
              "          + ' to learn more about interactive tables.';\n",
              "        element.innerHTML = '';\n",
              "        dataTable['output_type'] = 'display_data';\n",
              "        await google.colab.output.renderOutput(dataTable, element);\n",
              "        const docLink = document.createElement('div');\n",
              "        docLink.innerHTML = docLinkHtml;\n",
              "        element.appendChild(docLink);\n",
              "      }\n",
              "    </script>\n",
              "  </div>\n",
              "\n",
              "\n",
              "<div id=\"df-3f2cec9d-dcb3-4901-b2a9-f9e2c73865ac\">\n",
              "  <button class=\"colab-df-quickchart\" onclick=\"quickchart('df-3f2cec9d-dcb3-4901-b2a9-f9e2c73865ac')\"\n",
              "            title=\"Suggest charts\"\n",
              "            style=\"display:none;\">\n",
              "\n",
              "<svg xmlns=\"http://www.w3.org/2000/svg\" height=\"24px\"viewBox=\"0 0 24 24\"\n",
              "     width=\"24px\">\n",
              "    <g>\n",
              "        <path d=\"M19 3H5c-1.1 0-2 .9-2 2v14c0 1.1.9 2 2 2h14c1.1 0 2-.9 2-2V5c0-1.1-.9-2-2-2zM9 17H7v-7h2v7zm4 0h-2V7h2v10zm4 0h-2v-4h2v4z\"/>\n",
              "    </g>\n",
              "</svg>\n",
              "  </button>\n",
              "\n",
              "<style>\n",
              "  .colab-df-quickchart {\n",
              "      --bg-color: #E8F0FE;\n",
              "      --fill-color: #1967D2;\n",
              "      --hover-bg-color: #E2EBFA;\n",
              "      --hover-fill-color: #174EA6;\n",
              "      --disabled-fill-color: #AAA;\n",
              "      --disabled-bg-color: #DDD;\n",
              "  }\n",
              "\n",
              "  [theme=dark] .colab-df-quickchart {\n",
              "      --bg-color: #3B4455;\n",
              "      --fill-color: #D2E3FC;\n",
              "      --hover-bg-color: #434B5C;\n",
              "      --hover-fill-color: #FFFFFF;\n",
              "      --disabled-bg-color: #3B4455;\n",
              "      --disabled-fill-color: #666;\n",
              "  }\n",
              "\n",
              "  .colab-df-quickchart {\n",
              "    background-color: var(--bg-color);\n",
              "    border: none;\n",
              "    border-radius: 50%;\n",
              "    cursor: pointer;\n",
              "    display: none;\n",
              "    fill: var(--fill-color);\n",
              "    height: 32px;\n",
              "    padding: 0;\n",
              "    width: 32px;\n",
              "  }\n",
              "\n",
              "  .colab-df-quickchart:hover {\n",
              "    background-color: var(--hover-bg-color);\n",
              "    box-shadow: 0 1px 2px rgba(60, 64, 67, 0.3), 0 1px 3px 1px rgba(60, 64, 67, 0.15);\n",
              "    fill: var(--button-hover-fill-color);\n",
              "  }\n",
              "\n",
              "  .colab-df-quickchart-complete:disabled,\n",
              "  .colab-df-quickchart-complete:disabled:hover {\n",
              "    background-color: var(--disabled-bg-color);\n",
              "    fill: var(--disabled-fill-color);\n",
              "    box-shadow: none;\n",
              "  }\n",
              "\n",
              "  .colab-df-spinner {\n",
              "    border: 2px solid var(--fill-color);\n",
              "    border-color: transparent;\n",
              "    border-bottom-color: var(--fill-color);\n",
              "    animation:\n",
              "      spin 1s steps(1) infinite;\n",
              "  }\n",
              "\n",
              "  @keyframes spin {\n",
              "    0% {\n",
              "      border-color: transparent;\n",
              "      border-bottom-color: var(--fill-color);\n",
              "      border-left-color: var(--fill-color);\n",
              "    }\n",
              "    20% {\n",
              "      border-color: transparent;\n",
              "      border-left-color: var(--fill-color);\n",
              "      border-top-color: var(--fill-color);\n",
              "    }\n",
              "    30% {\n",
              "      border-color: transparent;\n",
              "      border-left-color: var(--fill-color);\n",
              "      border-top-color: var(--fill-color);\n",
              "      border-right-color: var(--fill-color);\n",
              "    }\n",
              "    40% {\n",
              "      border-color: transparent;\n",
              "      border-right-color: var(--fill-color);\n",
              "      border-top-color: var(--fill-color);\n",
              "    }\n",
              "    60% {\n",
              "      border-color: transparent;\n",
              "      border-right-color: var(--fill-color);\n",
              "    }\n",
              "    80% {\n",
              "      border-color: transparent;\n",
              "      border-right-color: var(--fill-color);\n",
              "      border-bottom-color: var(--fill-color);\n",
              "    }\n",
              "    90% {\n",
              "      border-color: transparent;\n",
              "      border-bottom-color: var(--fill-color);\n",
              "    }\n",
              "  }\n",
              "</style>\n",
              "\n",
              "  <script>\n",
              "    async function quickchart(key) {\n",
              "      const quickchartButtonEl =\n",
              "        document.querySelector('#' + key + ' button');\n",
              "      quickchartButtonEl.disabled = true;  // To prevent multiple clicks.\n",
              "      quickchartButtonEl.classList.add('colab-df-spinner');\n",
              "      try {\n",
              "        const charts = await google.colab.kernel.invokeFunction(\n",
              "            'suggestCharts', [key], {});\n",
              "      } catch (error) {\n",
              "        console.error('Error during call to suggestCharts:', error);\n",
              "      }\n",
              "      quickchartButtonEl.classList.remove('colab-df-spinner');\n",
              "      quickchartButtonEl.classList.add('colab-df-quickchart-complete');\n",
              "    }\n",
              "    (() => {\n",
              "      let quickchartButtonEl =\n",
              "        document.querySelector('#df-3f2cec9d-dcb3-4901-b2a9-f9e2c73865ac button');\n",
              "      quickchartButtonEl.style.display =\n",
              "        google.colab.kernel.accessAllowed ? 'block' : 'none';\n",
              "    })();\n",
              "  </script>\n",
              "</div>\n",
              "    </div>\n",
              "  </div>\n"
            ]
          },
          "metadata": {},
          "execution_count": 19
        }
      ],
      "source": [
        "df_combined.head()"
      ]
    },
    {
      "cell_type": "code",
      "execution_count": 20,
      "metadata": {
        "colab": {
          "base_uri": "https://localhost:8080/"
        },
        "id": "ehU88Okz-08o",
        "outputId": "e50c31cc-52b5-4288-d1d1-db69569a7c06"
      },
      "outputs": [
        {
          "output_type": "execute_result",
          "data": {
            "text/plain": [
              "id                   6cced668-6e51-5212-873c-717f2bc91ce6\n",
              "y                                                    True\n",
              "pair    [I shift a bit, warily letting my eyes dart fr...\n",
              "Name: 0, dtype: object"
            ]
          },
          "metadata": {},
          "execution_count": 20
        }
      ],
      "source": [
        "df_combined.iloc[0]"
      ]
    },
    {
      "cell_type": "code",
      "execution_count": 21,
      "metadata": {
        "id": "O8CUxhel-08o"
      },
      "outputs": [],
      "source": [
        "df_combined[['text1', 'text2']] = df_combined['pair'].apply(pd.Series)\n",
        "df_combined = df_combined.drop(\"pair\", axis=1)"
      ]
    },
    {
      "cell_type": "code",
      "execution_count": 22,
      "metadata": {
        "colab": {
          "base_uri": "https://localhost:8080/",
          "height": 293
        },
        "id": "Vv565kCg-08o",
        "outputId": "9d91b681-9b12-40c3-de91-19968078cefe"
      },
      "outputs": [
        {
          "output_type": "execute_result",
          "data": {
            "text/plain": [
              "                                     id     y  \\\n",
              "0  6cced668-6e51-5212-873c-717f2bc91ce6  True   \n",
              "1  3c6c188a-db28-59aa-8c09-3d0f799ff579  True   \n",
              "2  b0cfa94f-c9ec-5aa5-8331-a5a249b664cf  True   \n",
              "3  e6e86e73-9a7b-58f2-a652-a17b4a1bcabf  True   \n",
              "4  4fe541af-912e-5a86-81a5-94c6d3891509  True   \n",
              "\n",
              "                                               text1  \\\n",
              "0  I shift a bit, warily letting my eyes dart fro...   \n",
              "1  I shift a bit, warily letting my eyes dart fro...   \n",
              "2  A single tear escaped me as I left. I did have...   \n",
              "3  \"Ja.\" Ludwig kept his gaze upon her, solidly. ...   \n",
              "4  And he did. Slowly, hesitantly...but coming fr...   \n",
              "\n",
              "                                               text2  \n",
              "0  \"All will become one with Russia,\" he said, al...  \n",
              "1  Suddenly, a piece of ice falls into the pit of...  \n",
              "2  got the Yang yoyo.\" Kimiko pulled the other ha...  \n",
              "3  SilverGray lll...YellowRagged llll...GrayMilli...  \n",
              "4  \"Let\"s go,\" Raimondo said and then started in ...  "
            ],
            "text/html": [
              "\n",
              "  <div id=\"df-a361cf9b-f285-4746-815d-fba6aea94fe8\" class=\"colab-df-container\">\n",
              "    <div>\n",
              "<style scoped>\n",
              "    .dataframe tbody tr th:only-of-type {\n",
              "        vertical-align: middle;\n",
              "    }\n",
              "\n",
              "    .dataframe tbody tr th {\n",
              "        vertical-align: top;\n",
              "    }\n",
              "\n",
              "    .dataframe thead th {\n",
              "        text-align: right;\n",
              "    }\n",
              "</style>\n",
              "<table border=\"1\" class=\"dataframe\">\n",
              "  <thead>\n",
              "    <tr style=\"text-align: right;\">\n",
              "      <th></th>\n",
              "      <th>id</th>\n",
              "      <th>y</th>\n",
              "      <th>text1</th>\n",
              "      <th>text2</th>\n",
              "    </tr>\n",
              "  </thead>\n",
              "  <tbody>\n",
              "    <tr>\n",
              "      <th>0</th>\n",
              "      <td>6cced668-6e51-5212-873c-717f2bc91ce6</td>\n",
              "      <td>True</td>\n",
              "      <td>I shift a bit, warily letting my eyes dart fro...</td>\n",
              "      <td>\"All will become one with Russia,\" he said, al...</td>\n",
              "    </tr>\n",
              "    <tr>\n",
              "      <th>1</th>\n",
              "      <td>3c6c188a-db28-59aa-8c09-3d0f799ff579</td>\n",
              "      <td>True</td>\n",
              "      <td>I shift a bit, warily letting my eyes dart fro...</td>\n",
              "      <td>Suddenly, a piece of ice falls into the pit of...</td>\n",
              "    </tr>\n",
              "    <tr>\n",
              "      <th>2</th>\n",
              "      <td>b0cfa94f-c9ec-5aa5-8331-a5a249b664cf</td>\n",
              "      <td>True</td>\n",
              "      <td>A single tear escaped me as I left. I did have...</td>\n",
              "      <td>got the Yang yoyo.\" Kimiko pulled the other ha...</td>\n",
              "    </tr>\n",
              "    <tr>\n",
              "      <th>3</th>\n",
              "      <td>e6e86e73-9a7b-58f2-a652-a17b4a1bcabf</td>\n",
              "      <td>True</td>\n",
              "      <td>\"Ja.\" Ludwig kept his gaze upon her, solidly. ...</td>\n",
              "      <td>SilverGray lll...YellowRagged llll...GrayMilli...</td>\n",
              "    </tr>\n",
              "    <tr>\n",
              "      <th>4</th>\n",
              "      <td>4fe541af-912e-5a86-81a5-94c6d3891509</td>\n",
              "      <td>True</td>\n",
              "      <td>And he did. Slowly, hesitantly...but coming fr...</td>\n",
              "      <td>\"Let\"s go,\" Raimondo said and then started in ...</td>\n",
              "    </tr>\n",
              "  </tbody>\n",
              "</table>\n",
              "</div>\n",
              "    <div class=\"colab-df-buttons\">\n",
              "\n",
              "  <div class=\"colab-df-container\">\n",
              "    <button class=\"colab-df-convert\" onclick=\"convertToInteractive('df-a361cf9b-f285-4746-815d-fba6aea94fe8')\"\n",
              "            title=\"Convert this dataframe to an interactive table.\"\n",
              "            style=\"display:none;\">\n",
              "\n",
              "  <svg xmlns=\"http://www.w3.org/2000/svg\" height=\"24px\" viewBox=\"0 -960 960 960\">\n",
              "    <path d=\"M120-120v-720h720v720H120Zm60-500h600v-160H180v160Zm220 220h160v-160H400v160Zm0 220h160v-160H400v160ZM180-400h160v-160H180v160Zm440 0h160v-160H620v160ZM180-180h160v-160H180v160Zm440 0h160v-160H620v160Z\"/>\n",
              "  </svg>\n",
              "    </button>\n",
              "\n",
              "  <style>\n",
              "    .colab-df-container {\n",
              "      display:flex;\n",
              "      gap: 12px;\n",
              "    }\n",
              "\n",
              "    .colab-df-convert {\n",
              "      background-color: #E8F0FE;\n",
              "      border: none;\n",
              "      border-radius: 50%;\n",
              "      cursor: pointer;\n",
              "      display: none;\n",
              "      fill: #1967D2;\n",
              "      height: 32px;\n",
              "      padding: 0 0 0 0;\n",
              "      width: 32px;\n",
              "    }\n",
              "\n",
              "    .colab-df-convert:hover {\n",
              "      background-color: #E2EBFA;\n",
              "      box-shadow: 0px 1px 2px rgba(60, 64, 67, 0.3), 0px 1px 3px 1px rgba(60, 64, 67, 0.15);\n",
              "      fill: #174EA6;\n",
              "    }\n",
              "\n",
              "    .colab-df-buttons div {\n",
              "      margin-bottom: 4px;\n",
              "    }\n",
              "\n",
              "    [theme=dark] .colab-df-convert {\n",
              "      background-color: #3B4455;\n",
              "      fill: #D2E3FC;\n",
              "    }\n",
              "\n",
              "    [theme=dark] .colab-df-convert:hover {\n",
              "      background-color: #434B5C;\n",
              "      box-shadow: 0px 1px 3px 1px rgba(0, 0, 0, 0.15);\n",
              "      filter: drop-shadow(0px 1px 2px rgba(0, 0, 0, 0.3));\n",
              "      fill: #FFFFFF;\n",
              "    }\n",
              "  </style>\n",
              "\n",
              "    <script>\n",
              "      const buttonEl =\n",
              "        document.querySelector('#df-a361cf9b-f285-4746-815d-fba6aea94fe8 button.colab-df-convert');\n",
              "      buttonEl.style.display =\n",
              "        google.colab.kernel.accessAllowed ? 'block' : 'none';\n",
              "\n",
              "      async function convertToInteractive(key) {\n",
              "        const element = document.querySelector('#df-a361cf9b-f285-4746-815d-fba6aea94fe8');\n",
              "        const dataTable =\n",
              "          await google.colab.kernel.invokeFunction('convertToInteractive',\n",
              "                                                    [key], {});\n",
              "        if (!dataTable) return;\n",
              "\n",
              "        const docLinkHtml = 'Like what you see? Visit the ' +\n",
              "          '<a target=\"_blank\" href=https://colab.research.google.com/notebooks/data_table.ipynb>data table notebook</a>'\n",
              "          + ' to learn more about interactive tables.';\n",
              "        element.innerHTML = '';\n",
              "        dataTable['output_type'] = 'display_data';\n",
              "        await google.colab.output.renderOutput(dataTable, element);\n",
              "        const docLink = document.createElement('div');\n",
              "        docLink.innerHTML = docLinkHtml;\n",
              "        element.appendChild(docLink);\n",
              "      }\n",
              "    </script>\n",
              "  </div>\n",
              "\n",
              "\n",
              "<div id=\"df-8a2b8f50-0476-499a-a896-33c819992d58\">\n",
              "  <button class=\"colab-df-quickchart\" onclick=\"quickchart('df-8a2b8f50-0476-499a-a896-33c819992d58')\"\n",
              "            title=\"Suggest charts\"\n",
              "            style=\"display:none;\">\n",
              "\n",
              "<svg xmlns=\"http://www.w3.org/2000/svg\" height=\"24px\"viewBox=\"0 0 24 24\"\n",
              "     width=\"24px\">\n",
              "    <g>\n",
              "        <path d=\"M19 3H5c-1.1 0-2 .9-2 2v14c0 1.1.9 2 2 2h14c1.1 0 2-.9 2-2V5c0-1.1-.9-2-2-2zM9 17H7v-7h2v7zm4 0h-2V7h2v10zm4 0h-2v-4h2v4z\"/>\n",
              "    </g>\n",
              "</svg>\n",
              "  </button>\n",
              "\n",
              "<style>\n",
              "  .colab-df-quickchart {\n",
              "      --bg-color: #E8F0FE;\n",
              "      --fill-color: #1967D2;\n",
              "      --hover-bg-color: #E2EBFA;\n",
              "      --hover-fill-color: #174EA6;\n",
              "      --disabled-fill-color: #AAA;\n",
              "      --disabled-bg-color: #DDD;\n",
              "  }\n",
              "\n",
              "  [theme=dark] .colab-df-quickchart {\n",
              "      --bg-color: #3B4455;\n",
              "      --fill-color: #D2E3FC;\n",
              "      --hover-bg-color: #434B5C;\n",
              "      --hover-fill-color: #FFFFFF;\n",
              "      --disabled-bg-color: #3B4455;\n",
              "      --disabled-fill-color: #666;\n",
              "  }\n",
              "\n",
              "  .colab-df-quickchart {\n",
              "    background-color: var(--bg-color);\n",
              "    border: none;\n",
              "    border-radius: 50%;\n",
              "    cursor: pointer;\n",
              "    display: none;\n",
              "    fill: var(--fill-color);\n",
              "    height: 32px;\n",
              "    padding: 0;\n",
              "    width: 32px;\n",
              "  }\n",
              "\n",
              "  .colab-df-quickchart:hover {\n",
              "    background-color: var(--hover-bg-color);\n",
              "    box-shadow: 0 1px 2px rgba(60, 64, 67, 0.3), 0 1px 3px 1px rgba(60, 64, 67, 0.15);\n",
              "    fill: var(--button-hover-fill-color);\n",
              "  }\n",
              "\n",
              "  .colab-df-quickchart-complete:disabled,\n",
              "  .colab-df-quickchart-complete:disabled:hover {\n",
              "    background-color: var(--disabled-bg-color);\n",
              "    fill: var(--disabled-fill-color);\n",
              "    box-shadow: none;\n",
              "  }\n",
              "\n",
              "  .colab-df-spinner {\n",
              "    border: 2px solid var(--fill-color);\n",
              "    border-color: transparent;\n",
              "    border-bottom-color: var(--fill-color);\n",
              "    animation:\n",
              "      spin 1s steps(1) infinite;\n",
              "  }\n",
              "\n",
              "  @keyframes spin {\n",
              "    0% {\n",
              "      border-color: transparent;\n",
              "      border-bottom-color: var(--fill-color);\n",
              "      border-left-color: var(--fill-color);\n",
              "    }\n",
              "    20% {\n",
              "      border-color: transparent;\n",
              "      border-left-color: var(--fill-color);\n",
              "      border-top-color: var(--fill-color);\n",
              "    }\n",
              "    30% {\n",
              "      border-color: transparent;\n",
              "      border-left-color: var(--fill-color);\n",
              "      border-top-color: var(--fill-color);\n",
              "      border-right-color: var(--fill-color);\n",
              "    }\n",
              "    40% {\n",
              "      border-color: transparent;\n",
              "      border-right-color: var(--fill-color);\n",
              "      border-top-color: var(--fill-color);\n",
              "    }\n",
              "    60% {\n",
              "      border-color: transparent;\n",
              "      border-right-color: var(--fill-color);\n",
              "    }\n",
              "    80% {\n",
              "      border-color: transparent;\n",
              "      border-right-color: var(--fill-color);\n",
              "      border-bottom-color: var(--fill-color);\n",
              "    }\n",
              "    90% {\n",
              "      border-color: transparent;\n",
              "      border-bottom-color: var(--fill-color);\n",
              "    }\n",
              "  }\n",
              "</style>\n",
              "\n",
              "  <script>\n",
              "    async function quickchart(key) {\n",
              "      const quickchartButtonEl =\n",
              "        document.querySelector('#' + key + ' button');\n",
              "      quickchartButtonEl.disabled = true;  // To prevent multiple clicks.\n",
              "      quickchartButtonEl.classList.add('colab-df-spinner');\n",
              "      try {\n",
              "        const charts = await google.colab.kernel.invokeFunction(\n",
              "            'suggestCharts', [key], {});\n",
              "      } catch (error) {\n",
              "        console.error('Error during call to suggestCharts:', error);\n",
              "      }\n",
              "      quickchartButtonEl.classList.remove('colab-df-spinner');\n",
              "      quickchartButtonEl.classList.add('colab-df-quickchart-complete');\n",
              "    }\n",
              "    (() => {\n",
              "      let quickchartButtonEl =\n",
              "        document.querySelector('#df-8a2b8f50-0476-499a-a896-33c819992d58 button');\n",
              "      quickchartButtonEl.style.display =\n",
              "        google.colab.kernel.accessAllowed ? 'block' : 'none';\n",
              "    })();\n",
              "  </script>\n",
              "</div>\n",
              "    </div>\n",
              "  </div>\n"
            ]
          },
          "metadata": {},
          "execution_count": 22
        }
      ],
      "source": [
        "df_combined.head()"
      ]
    },
    {
      "cell_type": "code",
      "execution_count": 23,
      "metadata": {
        "colab": {
          "base_uri": "https://localhost:8080/"
        },
        "id": "U-PrpWAb-08o",
        "outputId": "df3626d2-f03f-48e8-ccbb-05020e32b43d"
      },
      "outputs": [
        {
          "output_type": "execute_result",
          "data": {
            "text/plain": [
              "True"
            ]
          },
          "metadata": {},
          "execution_count": 23
        }
      ],
      "source": [
        "df_combined.iloc[1, 1]"
      ]
    },
    {
      "cell_type": "code",
      "execution_count": 24,
      "metadata": {
        "colab": {
          "base_uri": "https://localhost:8080/"
        },
        "id": "LuoWVIM--08o",
        "outputId": "49cb566f-1dac-47e3-f948-8ed574a72ebc"
      },
      "outputs": [
        {
          "output_type": "execute_result",
          "data": {
            "text/plain": [
              "21441"
            ]
          },
          "metadata": {},
          "execution_count": 24
        }
      ],
      "source": [
        "mean_length = 0\n",
        "for i in range(len(df_combined)):\n",
        "    mean_length += len(df_combined.iloc[i, 2]) + len(df_combined.iloc[i, 3])\n",
        "\n",
        "mean_length /= len(df_combined) * 2\n",
        "mean_length = int(mean_length)\n",
        "mean_length"
      ]
    },
    {
      "cell_type": "code",
      "execution_count": 25,
      "metadata": {
        "id": "4_FoSaGF-08o"
      },
      "outputs": [],
      "source": [
        "class CustomDataset(Dataset):\n",
        "    def __init__(self, df, model_name, max_len=512):\n",
        "        self.tokenizer = AutoTokenizer.from_pretrained(model_name)\n",
        "        self.data = df\n",
        "        self.max_len = max_len\n",
        "\n",
        "    def __len__(self):\n",
        "        return len(self.data)\n",
        "\n",
        "    def __getitem__(self, index):\n",
        "        encoded_input_text1 = self.tokenizer(self.data.iloc[index, 2], max_length=512, padding=True, truncation=True, return_tensors='pt')\n",
        "        encoded_input_text2 = self.tokenizer(self.data.iloc[index, 3], max_length=512, padding=True, truncation=True, return_tensors='pt')\n",
        "\n",
        "        return {\n",
        "            \"encoded_input_text1\": encoded_input_text1,\n",
        "            \"encoded_input_text2\": encoded_input_text2,\n",
        "            \"targets\": torch.tensor(int(self.data.iloc[index, 1]), dtype=torch.float)\n",
        "        }"
      ]
    },
    {
      "cell_type": "markdown",
      "metadata": {
        "id": "ZzZLm5MY-08p"
      },
      "source": [
        "# Model"
      ]
    },
    {
      "cell_type": "code",
      "execution_count": 26,
      "metadata": {
        "id": "WjXHJTIv-08p"
      },
      "outputs": [],
      "source": [
        "# transformer without woth pairs\n",
        "class TransformerModel(nn.Module):\n",
        "    def __init__(self, model_name, freeze_transformer):\n",
        "        super(TransformerModel, self).__init__()\n",
        "        self.transformer = AutoModel.from_pretrained(model_name)\n",
        "\n",
        "        if freeze_transformer:\n",
        "            for param in self.transformer.parameters():\n",
        "                param.requires_grad = False\n",
        "\n",
        "        self.dense1 = nn.Linear(768, 512)\n",
        "        self.dropout = nn.Dropout(0.4)\n",
        "        self.cosine = nn.CosineSimilarity(dim=1)\n",
        "        self.dense = nn.Linear(1, 1)\n",
        "        self.gelu = nn.GELU()\n",
        "        self.sigmoid = nn.Sigmoid()\n",
        "\n",
        "    def forward(self, encoded_input_text1, encoded_input_text2):\n",
        "        input_ids_text1 = encoded_input_text1['input_ids']\n",
        "        attention_mask_text1 = encoded_input_text1['attention_mask']\n",
        "\n",
        "        input_ids_text2 = encoded_input_text2['input_ids']\n",
        "        attention_mask_text2 = encoded_input_text2['attention_mask']\n",
        "\n",
        "        input_ids_text1 = input_ids_text1.cuda()\n",
        "        attention_mask_text1 = attention_mask_text1.cuda()\n",
        "        input_ids_text2 = input_ids_text2.cuda()\n",
        "        attention_mask_text2 = attention_mask_text2.cuda()\n",
        "\n",
        "        # Move tensors to GPU\n",
        "        if torch.cuda.is_available():\n",
        "            input_ids_text1 =\n",
        "            attention_mask_text1\n",
        "\n",
        "        model_output_text1 = self.transformer(\n",
        "            input_ids=input_ids_text1[:, 0, :],\n",
        "            attention_mask=attention_mask_text1[:, 0, :],\n",
        "        ).last_hidden_state[:, 0]\n",
        "        model_output_text2 = self.transformer(\n",
        "            input_ids=input_ids_text2[:, 0, :],\n",
        "            attention_mask=attention_mask_text2[:, 0, :],\n",
        "        ).last_hidden_state[:, 0]\n",
        "\n",
        "        x_a, x_b = self.dense1(model_output_text1), self.dense1(model_output_text2)\n",
        "        x_a, x_b = self.gelu(self.dropout(x_a)), self.gelu(self.dropout(x_b))\n",
        "        sem_sim = self.cosine(x_a, x_b)\n",
        "\n",
        "        return self.sigmoid(sem_sim)"
      ]
    },
    {
      "cell_type": "markdown",
      "metadata": {
        "id": "sRpp9jAo-08p"
      },
      "source": [
        "## Test mio para comprobar que funciona y corre el modelo"
      ]
    },
    {
      "cell_type": "code",
      "execution_count": 27,
      "metadata": {
        "id": "hK2pqBV6-08p"
      },
      "outputs": [],
      "source": [
        "model_name = 'AnnaWegmann/Style-Embedding' # 'bert-base-uncased'  # Choose the appropriate pretrained model #'AnnaWegmann/Style-Embedding'"
      ]
    },
    {
      "cell_type": "code",
      "execution_count": 28,
      "metadata": {
        "id": "QHZ4gf5P-08p"
      },
      "outputs": [],
      "source": [
        "train_df, val_df = train_test_split(df_combined, test_size=0.2, random_state=42)\n",
        "train_dataset = CustomDataset(train_df, model_name, max_len=mean_length)\n",
        "train_data_loader = DataLoader(train_dataset, batch_size=1, pin_memory=True, shuffle=True)"
      ]
    },
    {
      "cell_type": "code",
      "execution_count": 29,
      "metadata": {
        "colab": {
          "base_uri": "https://localhost:8080/"
        },
        "id": "evK5mrHN-08p",
        "outputId": "30cdf73d-9911-42c6-8c5d-60aa7730dde5"
      },
      "outputs": [
        {
          "output_type": "stream",
          "name": "stdout",
          "text": [
            "Index([29857, 11475, 43247, 22425,  4589, 49882, 36655,  8592, 34320, 33051,\n",
            "       ...\n",
            "       47191, 21962, 37194, 16850,  6265, 11284, 44732, 38158,   860, 15795],\n",
            "      dtype='int64', length=42098)\n"
          ]
        }
      ],
      "source": [
        "print(train_df.index)"
      ]
    },
    {
      "cell_type": "markdown",
      "metadata": {
        "id": "TzGy67Hp-08p"
      },
      "source": [
        "Small test to see that everything works"
      ]
    },
    {
      "cell_type": "code",
      "execution_count": 30,
      "metadata": {
        "colab": {
          "base_uri": "https://localhost:8080/"
        },
        "id": "Mj3O1bDA-08p",
        "outputId": "e355cbae-30ff-47a3-a01e-cb1362563d69"
      },
      "outputs": [
        {
          "output_type": "stream",
          "name": "stdout",
          "text": [
            "tensor([0.5861], device='cuda:0', grad_fn=<SigmoidBackward0>)\n"
          ]
        }
      ],
      "source": [
        "# anna weinman style embeddings - hard negative mininng\n",
        "model = TransformerModel(model_name=model_name, freeze_transformer=True)\n",
        "\n",
        "if torch.cuda.is_available():\n",
        "    model.cuda()\n",
        "\n",
        "model.train()\n",
        "\n",
        "for batch in train_data_loader:\n",
        "    encoded_input_text1 = batch[\"encoded_input_text1\"]\n",
        "    encoded_input_text2 = batch[\"encoded_input_text2\"]\n",
        "\n",
        "    x = model.forward(encoded_input_text1, encoded_input_text2)\n",
        "    print(x)\n",
        "    break\n"
      ]
    },
    {
      "cell_type": "code",
      "source": [
        "print(torch.cuda.current_device())\n",
        "print(torch.cuda.get_device_name(torch.cuda.current_device()))"
      ],
      "metadata": {
        "colab": {
          "base_uri": "https://localhost:8080/"
        },
        "id": "2FyFcnfPDhym",
        "outputId": "4959d8f1-cba0-40f9-8446-cb541f77ef5d"
      },
      "execution_count": 31,
      "outputs": [
        {
          "output_type": "stream",
          "name": "stdout",
          "text": [
            "0\n",
            "Tesla T4\n"
          ]
        }
      ]
    },
    {
      "cell_type": "markdown",
      "metadata": {
        "id": "XLeEkXGm-08p"
      },
      "source": [
        "# Training model\n",
        "\n",
        "See diapos a partir de la 152 y usar anotación de la diapos (ejemplo: bs_sl -> Batch size - Sequence Length)"
      ]
    },
    {
      "cell_type": "code",
      "source": [
        "def evaluate(model, data_loader):\n",
        "    model.eval()\n",
        "    total_loss = 0\n",
        "    correct_predictions = 0\n",
        "    total_samples = 0\n",
        "\n",
        "    with torch.no_grad():\n",
        "        for batch in data_loader:\n",
        "            encoded_input_text1 = batch['encoded_input_text1'].cuda()\n",
        "            encoded_input_text2 = batch['encoded_input_text2'].cuda()\n",
        "            targets = batch['targets'].cuda()\n",
        "\n",
        "            y_pred = model.forward(encoded_input_text1, encoded_input_text2)\n",
        "\n",
        "            # Calculate loss\n",
        "            loss = criterion(y_pred, targets)\n",
        "            total_loss += loss.item()\n",
        "\n",
        "            # Calculate accuracy\n",
        "            predictions = (y_pred > 0.5).float()  # Assuming a binary classification task\n",
        "            correct_predictions += (predictions == targets).sum().item()\n",
        "            total_samples += targets.size(0)\n",
        "\n",
        "    accuracy = correct_predictions / total_samples\n",
        "    average_loss = total_loss / len(data_loader)\n",
        "\n",
        "    print(f\"predictions (real): {y_pred}\")\n",
        "    print(f\"predictions: {predictions}\")\n",
        "    print(f\"ground_truth: {targets}\")\n",
        "\n",
        "    return average_loss, accuracy"
      ],
      "metadata": {
        "id": "-M16X-p_JJFE"
      },
      "execution_count": 32,
      "outputs": []
    },
    {
      "cell_type": "code",
      "source": [
        "def training_step(encoded_input_text1, encoded_input_text2, targets, model, optimizer, criterion):\n",
        "    # !!!! necessary to set the model to training mode before\n",
        "\n",
        "    # forward pass\n",
        "    y_pred = model.forward(encoded_input_text1, encoded_input_text2)\n",
        "\n",
        "    loss = criterion(y_pred, targets.cuda())\n",
        "\n",
        "    # baccpropagate\n",
        "    optimizer.zero_grad()\n",
        "    loss.backward()\n",
        "    optimizer.step()\n",
        "\n",
        "    return loss.item()"
      ],
      "metadata": {
        "id": "svJU6mZkJN2f"
      },
      "execution_count": 33,
      "outputs": []
    },
    {
      "cell_type": "code",
      "execution_count": null,
      "metadata": {
        "colab": {
          "base_uri": "https://localhost:8080/"
        },
        "id": "eaOTFqoa-08q",
        "outputId": "56ce74d4-44a5-421b-f1f5-cde0f6221ec5"
      },
      "outputs": [
        {
          "output_type": "stream",
          "name": "stdout",
          "text": [
            "Epoch [1/10], Step [100/1316], Loss: 0.6712942403554917\n",
            "Epoch [1/10], Step [200/1316], Loss: 0.6747627449035645\n",
            "Epoch [1/10], Step [300/1316], Loss: 0.6723224359750748\n",
            "Epoch [1/10], Step [400/1316], Loss: 0.6653332728147506\n",
            "Epoch [1/10], Step [500/1316], Loss: 0.6660202199220657\n"
          ]
        }
      ],
      "source": [
        "model = TransformerModel(model_name=model_name, freeze_transformer=True)\n",
        "\n",
        "if torch.cuda.is_available():\n",
        "    model.cuda()\n",
        "\n",
        "# Define your loss function (customize based on your task)\n",
        "criterion = nn.BCELoss()  # Example: Binary Cross Entropy\n",
        "\n",
        "# Define optimizer (e.g., Adam)\n",
        "optimizer = optim.Adam(model.parameters(), lr=0.001)\n",
        "\n",
        "# Split your data into training and validation sets\n",
        "train_df, val_df = train_test_split(df_combined, test_size=0.2, random_state=42)\n",
        "\n",
        "# Training loop\n",
        "NUM_EPOCHS = 10\n",
        "BATCH_SIZE = 32\n",
        "\n",
        "train_dataset = CustomDataset(train_df, model_name)\n",
        "validate_dataset = CustomDataset(val_df, model_name)\n",
        "\n",
        "train_data_loader = DataLoader(train_dataset, batch_size=BATCH_SIZE, shuffle=True)\n",
        "val_data_loader = DataLoader(validate_dataset, batch_size=BATCH_SIZE, shuffle=True)\n",
        "\n",
        "i = 0\n",
        "\n",
        "for epoch in range(NUM_EPOCHS):\n",
        "    model.train()\n",
        "    running_loss = 0.0\n",
        "\n",
        "    for i, batch in enumerate(train_data_loader):\n",
        "        input_text1 = batch['encoded_input_text1']\n",
        "        input_text2 = batch['encoded_input_text2']\n",
        "        targets = batch['targets']\n",
        "\n",
        "        loss = training_step(input_text1, input_text2, targets, model, optimizer, criterion)\n",
        "        running_loss += loss\n",
        "\n",
        "        if i % 100 == 99:  # Print every 100 mini-batches\n",
        "            print(f\"Epoch [{epoch + 1}/{NUM_EPOCHS}], \"\n",
        "                  f\"Step [{i + 1}/{len(train_data_loader)}], \"\n",
        "                  f\"Loss: {running_loss / 100}\")\n",
        "            running_loss = 0.0\n",
        "\n",
        "    # Save the model weights after each epoch\n",
        "    checkpoint_path = f\"model_epoch_{epoch + 1}.pt\"\n",
        "\n",
        "    # Evaluate the model on the validation set after each epoch\n",
        "    val_loss, val_accuracy = evaluate(model, val_data_loader)\n",
        "    print(f'Epoch [{epoch + 1}/{NUM_EPOCHS}], Validation Loss: {val_loss}, Accuracy: {val_accuracy}')\n",
        "\n",
        "torch.save(model.state_dict(), checkpoint_path)\n",
        "print('Finished Training')"
      ]
    },
    {
      "cell_type": "markdown",
      "metadata": {
        "id": "fKqIhBTs-08q"
      },
      "source": [
        "QUEDA:\n",
        "\n",
        "1. El validate-test serían pasar en un bucle el forward del otro zip y capturar resultados para conseguir las métricas\n",
        "2. Fine tunning (mínimo)\n",
        "3. Escribir cosas\n",
        "\n",
        "PD: Quitar el print de los shape"
      ]
    },
    {
      "cell_type": "code",
      "source": [
        "raise ValueError('FALTA HACER LA PARTE DE VALIDACIÓN, PONER LAS COSAS BIEN!!!! (SOBRE TODO LOS FOLDER)')"
      ],
      "metadata": {
        "id": "Ws4_9btaeE2Z"
      },
      "execution_count": null,
      "outputs": []
    },
    {
      "cell_type": "code",
      "execution_count": null,
      "metadata": {
        "id": "8BotYRHh-08q"
      },
      "outputs": [],
      "source": [
        "FOLDER = f\"{PARENT_FOLDER}/pan20-authorship-verification-test/pan20-authorship-verification-test\"\n",
        "VALUES_FILE = \"pan20-authorship-verification-test.jsonl\"\n",
        "GROUND_TRUTH = \"pan20-authorship-verification-test-truth.jsonl\""
      ]
    },
    {
      "cell_type": "code",
      "execution_count": null,
      "metadata": {
        "id": "Peb9jbiL-08w"
      },
      "outputs": [],
      "source": [
        "df_ground_truth = get_dataframe_from_file(f\"{FOLDER}/{GROUND_TRUTH}\")\n",
        "df_inputs = get_dataframe_from_file(f\"{FOLDER}/{VALUES_FILE}\")\n",
        "\n",
        "df_combined_val = pd.merge(df_ground_truth, df_inputs, on='id')"
      ]
    },
    {
      "cell_type": "code",
      "execution_count": null,
      "metadata": {
        "id": "j92ZUBCi-08w"
      },
      "outputs": [],
      "source": [
        "df_combined_val = df_combined.drop(\"authors\", axis=1).drop(\"fandoms\", axis=1)\n",
        "df_combined_val = df_combined_val.rename(columns={'same': 'y'})"
      ]
    },
    {
      "cell_type": "code",
      "execution_count": null,
      "metadata": {
        "id": "dRadeYu3-08x"
      },
      "outputs": [],
      "source": [
        "df_combined_val.head()"
      ]
    },
    {
      "cell_type": "code",
      "execution_count": null,
      "metadata": {
        "id": "xaBOcxIs-08x"
      },
      "outputs": [],
      "source": [
        "df_combined_val.iloc[0]"
      ]
    },
    {
      "cell_type": "code",
      "execution_count": null,
      "metadata": {
        "id": "B3ODA9sY-08x"
      },
      "outputs": [],
      "source": [
        "df_combined_val[['text1', 'text2']] = df_combined_val['pair'].apply(pd.Series)\n",
        "df_combined_val = df_combined_val.drop(\"pair\", axis=1)"
      ]
    },
    {
      "cell_type": "code",
      "execution_count": null,
      "metadata": {
        "id": "ufOp9b9x-08y"
      },
      "outputs": [],
      "source": [
        "model.load_state_dict(torch.load(\"model_epoch_10.pt\"))\n",
        "model.eval()\n",
        "\n",
        "correct = 0\n",
        "total = 0\n",
        "\n",
        "test_dataset = CustomDataset(train_df, model_name)\n",
        "validate_dataset = CustomDataset(val_df, model_name)\n",
        "\n",
        "test_data_loader = DataLoader(test_dataset, batch_size=batch_size, shuffle=True)\n",
        "val_data_loader = DataLoader(validate_dataset, batch_size=batch_size, shuffle=True)\n",
        "\n",
        "with torch.no_grad():\n",
        "    for i, batch in enumerate(test_data_loader):\n",
        "        input_text1 = batch['encoded_input_text1']\n",
        "        input_text2 = batch['encoded_input_text2']\n",
        "        targets = batch['targets']\n",
        "\n",
        "        outputs = model.forward(input_text1, input_text2)\n",
        "        _, predicted = torch.max(outputs.data, 1)\n",
        "        total += targets.size(0)\n",
        "        correct += (predicted == targets).sum().item()\n",
        "\n",
        "accuracy = correct / total\n",
        "print(f'Test Accuracy: {100 * accuracy:.2f}%')\n"
      ]
    },
    {
      "cell_type": "code",
      "execution_count": null,
      "metadata": {
        "id": "s0izuOLT-08y"
      },
      "outputs": [],
      "source": []
    }
  ],
  "metadata": {
    "kernelspec": {
      "display_name": "Python 3",
      "name": "python3"
    },
    "language_info": {
      "codemirror_mode": {
        "name": "ipython",
        "version": 3
      },
      "file_extension": ".py",
      "mimetype": "text/x-python",
      "name": "python",
      "nbconvert_exporter": "python",
      "pygments_lexer": "ipython3",
      "version": "3.11.6"
    },
    "colab": {
      "provenance": [],
      "gpuType": "T4"
    },
    "accelerator": "GPU"
  },
  "nbformat": 4,
  "nbformat_minor": 0
}