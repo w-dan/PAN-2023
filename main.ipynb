{
 "cells": [
  {
   "cell_type": "code",
   "execution_count": null,
   "metadata": {},
   "outputs": [],
   "source": [
    "# !python3 -m pip install -q torch transformers numpy pandas sentence-transformers -U scikit-learn"
   ]
  },
  {
   "cell_type": "code",
   "execution_count": 1,
   "metadata": {},
   "outputs": [],
   "source": [
    "import os\n",
    "import json\n",
    "import pandas as pd\n",
    "from typing import List"
   ]
  },
  {
   "cell_type": "code",
   "execution_count": 2,
   "metadata": {},
   "outputs": [],
   "source": [
    "PARENT_FOLDER = \"PAN2020-authorship-verification\"\n",
    "DATASET1_TRAIN = \"pan20-authorship-verification-training-small/pan20-authorship-verification-training-small-truth.jsonl\"\n",
    "DATASET2_TRAIN = \"pan20-authorship-verification-training-small/pan20-authorship-verification-training-small.jsonl\"\n",
    "FILE_PATH_1 = f'{PARENT_FOLDER}/{DATASET1_TRAIN}'\n",
    "FILE_PATH_2 = f'{PARENT_FOLDER}/{DATASET2_TRAIN}'"
   ]
  },
  {
   "cell_type": "code",
   "execution_count": 3,
   "metadata": {},
   "outputs": [],
   "source": [
    "def get_dataframe_from_file (file_path : str) -> List:\n",
    "    data = []\n",
    "\n",
    "    with open(file_path, 'r') as file:\n",
    "        for line in file:\n",
    "            try:\n",
    "                parsed_data = json.loads(line)\n",
    "                data.append(parsed_data)\n",
    "            except json.JSONDecodeError as e:\n",
    "                print(f\"Error parsing JSON: {e}\")\n",
    "\n",
    "    return pd.DataFrame(data)"
   ]
  },
  {
   "cell_type": "code",
   "execution_count": 4,
   "metadata": {},
   "outputs": [],
   "source": [
    "df_ground_truth = get_dataframe_from_file(FILE_PATH_1)\n",
    "df_inputs = get_dataframe_from_file(FILE_PATH_2)\n",
    "\n",
    "df_combined = pd.merge(df_ground_truth, df_inputs, on='id')"
   ]
  },
  {
   "cell_type": "code",
   "execution_count": 5,
   "metadata": {},
   "outputs": [
    {
     "data": {
      "text/html": [
       "<div>\n",
       "<style scoped>\n",
       "    .dataframe tbody tr th:only-of-type {\n",
       "        vertical-align: middle;\n",
       "    }\n",
       "\n",
       "    .dataframe tbody tr th {\n",
       "        vertical-align: top;\n",
       "    }\n",
       "\n",
       "    .dataframe thead th {\n",
       "        text-align: right;\n",
       "    }\n",
       "</style>\n",
       "<table border=\"1\" class=\"dataframe\">\n",
       "  <thead>\n",
       "    <tr style=\"text-align: right;\">\n",
       "      <th></th>\n",
       "      <th>id</th>\n",
       "      <th>same</th>\n",
       "      <th>authors</th>\n",
       "    </tr>\n",
       "  </thead>\n",
       "  <tbody>\n",
       "    <tr>\n",
       "      <th>0</th>\n",
       "      <td>6cced668-6e51-5212-873c-717f2bc91ce6</td>\n",
       "      <td>True</td>\n",
       "      <td>[1446633, 1446633]</td>\n",
       "    </tr>\n",
       "    <tr>\n",
       "      <th>1</th>\n",
       "      <td>3c6c188a-db28-59aa-8c09-3d0f799ff579</td>\n",
       "      <td>True</td>\n",
       "      <td>[1446633, 1446633]</td>\n",
       "    </tr>\n",
       "    <tr>\n",
       "      <th>2</th>\n",
       "      <td>b0cfa94f-c9ec-5aa5-8331-a5a249b664cf</td>\n",
       "      <td>True</td>\n",
       "      <td>[1446633, 1446633]</td>\n",
       "    </tr>\n",
       "    <tr>\n",
       "      <th>3</th>\n",
       "      <td>e6e86e73-9a7b-58f2-a652-a17b4a1bcabf</td>\n",
       "      <td>True</td>\n",
       "      <td>[1446633, 1446633]</td>\n",
       "    </tr>\n",
       "    <tr>\n",
       "      <th>4</th>\n",
       "      <td>4fe541af-912e-5a86-81a5-94c6d3891509</td>\n",
       "      <td>True</td>\n",
       "      <td>[1446633, 1446633]</td>\n",
       "    </tr>\n",
       "  </tbody>\n",
       "</table>\n",
       "</div>"
      ],
      "text/plain": [
       "                                     id  same             authors\n",
       "0  6cced668-6e51-5212-873c-717f2bc91ce6  True  [1446633, 1446633]\n",
       "1  3c6c188a-db28-59aa-8c09-3d0f799ff579  True  [1446633, 1446633]\n",
       "2  b0cfa94f-c9ec-5aa5-8331-a5a249b664cf  True  [1446633, 1446633]\n",
       "3  e6e86e73-9a7b-58f2-a652-a17b4a1bcabf  True  [1446633, 1446633]\n",
       "4  4fe541af-912e-5a86-81a5-94c6d3891509  True  [1446633, 1446633]"
      ]
     },
     "execution_count": 5,
     "metadata": {},
     "output_type": "execute_result"
    }
   ],
   "source": [
    "df_ground_truth.head()"
   ]
  },
  {
   "cell_type": "code",
   "execution_count": 6,
   "metadata": {},
   "outputs": [
    {
     "data": {
      "text/plain": [
       "52601"
      ]
     },
     "execution_count": 6,
     "metadata": {},
     "output_type": "execute_result"
    }
   ],
   "source": [
    "len(df_ground_truth)"
   ]
  },
  {
   "cell_type": "code",
   "execution_count": 7,
   "metadata": {},
   "outputs": [],
   "source": [
    "def check_not_nulls(df: pd.DataFrame) -> None:\n",
    "    print(df.isnull().sum())"
   ]
  },
  {
   "cell_type": "code",
   "execution_count": 8,
   "metadata": {},
   "outputs": [],
   "source": [
    "def count_duplicate_ids(df: pd.DataFrame) -> pd.Series:\n",
    "    # Find duplicate IDs\n",
    "    duplicate_ids = df[df.duplicated(subset=['id'], keep=False)]\n",
    "\n",
    "    # Calculate the sum of repetitions\n",
    "    sum_repetitions = len(duplicate_ids)\n",
    "\n",
    "    return sum_repetitions"
   ]
  },
  {
   "cell_type": "code",
   "execution_count": 9,
   "metadata": {},
   "outputs": [
    {
     "name": "stdout",
     "output_type": "stream",
     "text": [
      "id         0\n",
      "same       0\n",
      "authors    0\n",
      "dtype: int64\n"
     ]
    }
   ],
   "source": [
    "check_not_nulls(df_ground_truth)"
   ]
  },
  {
   "cell_type": "code",
   "execution_count": 10,
   "metadata": {},
   "outputs": [
    {
     "name": "stdout",
     "output_type": "stream",
     "text": [
      "id         0\n",
      "fandoms    0\n",
      "pair       0\n",
      "dtype: int64\n"
     ]
    }
   ],
   "source": [
    "check_not_nulls(df_inputs)"
   ]
  },
  {
   "cell_type": "markdown",
   "metadata": {},
   "source": [
    "Only on training data"
   ]
  },
  {
   "cell_type": "code",
   "execution_count": 11,
   "metadata": {},
   "outputs": [],
   "source": [
    "assert count_duplicate_ids(df_ground_truth) == count_duplicate_ids(df_inputs)"
   ]
  },
  {
   "cell_type": "code",
   "execution_count": 12,
   "metadata": {},
   "outputs": [],
   "source": [
    "assert len(df_combined) - len(df_inputs) == 22"
   ]
  },
  {
   "cell_type": "markdown",
   "metadata": {},
   "source": [
    "Se elimina la columna \"same\" ya que no da información relevante para el entrenamiento del modelo. Debido a que es una comparación entre dos ids que son las salidas del modelo."
   ]
  },
  {
   "cell_type": "code",
   "execution_count": 13,
   "metadata": {},
   "outputs": [],
   "source": [
    "df_combined = df_combined.drop(\"same\", axis=1)"
   ]
  },
  {
   "cell_type": "markdown",
   "metadata": {},
   "source": [
    "Rename \"authors\" to \"y\""
   ]
  },
  {
   "cell_type": "code",
   "execution_count": 14,
   "metadata": {},
   "outputs": [],
   "source": [
    "df_combined = df_combined.rename(columns={'authors': 'y'})"
   ]
  },
  {
   "cell_type": "code",
   "execution_count": 15,
   "metadata": {},
   "outputs": [
    {
     "data": {
      "text/html": [
       "<div>\n",
       "<style scoped>\n",
       "    .dataframe tbody tr th:only-of-type {\n",
       "        vertical-align: middle;\n",
       "    }\n",
       "\n",
       "    .dataframe tbody tr th {\n",
       "        vertical-align: top;\n",
       "    }\n",
       "\n",
       "    .dataframe thead th {\n",
       "        text-align: right;\n",
       "    }\n",
       "</style>\n",
       "<table border=\"1\" class=\"dataframe\">\n",
       "  <thead>\n",
       "    <tr style=\"text-align: right;\">\n",
       "      <th></th>\n",
       "      <th>id</th>\n",
       "      <th>y</th>\n",
       "      <th>fandoms</th>\n",
       "      <th>pair</th>\n",
       "    </tr>\n",
       "  </thead>\n",
       "  <tbody>\n",
       "    <tr>\n",
       "      <th>0</th>\n",
       "      <td>6cced668-6e51-5212-873c-717f2bc91ce6</td>\n",
       "      <td>[1446633, 1446633]</td>\n",
       "      <td>[Guardians of Ga'Hoole, Hetalia - Axis Powers]</td>\n",
       "      <td>[I shift a bit, warily letting my eyes dart fr...</td>\n",
       "    </tr>\n",
       "    <tr>\n",
       "      <th>1</th>\n",
       "      <td>3c6c188a-db28-59aa-8c09-3d0f799ff579</td>\n",
       "      <td>[1446633, 1446633]</td>\n",
       "      <td>[Guardians of Ga'Hoole, Warriors]</td>\n",
       "      <td>[I shift a bit, warily letting my eyes dart fr...</td>\n",
       "    </tr>\n",
       "    <tr>\n",
       "      <th>2</th>\n",
       "      <td>b0cfa94f-c9ec-5aa5-8331-a5a249b664cf</td>\n",
       "      <td>[1446633, 1446633]</td>\n",
       "      <td>[Guardians of Ga'Hoole, Xiaolin Showdown]</td>\n",
       "      <td>[A single tear escaped me as I left. I did hav...</td>\n",
       "    </tr>\n",
       "    <tr>\n",
       "      <th>3</th>\n",
       "      <td>e6e86e73-9a7b-58f2-a652-a17b4a1bcabf</td>\n",
       "      <td>[1446633, 1446633]</td>\n",
       "      <td>[Hetalia - Axis Powers, Warriors]</td>\n",
       "      <td>[\"Ja.\" Ludwig kept his gaze upon her, solidly....</td>\n",
       "    </tr>\n",
       "    <tr>\n",
       "      <th>4</th>\n",
       "      <td>4fe541af-912e-5a86-81a5-94c6d3891509</td>\n",
       "      <td>[1446633, 1446633]</td>\n",
       "      <td>[Hetalia - Axis Powers, Xiaolin Showdown]</td>\n",
       "      <td>[And he did. Slowly, hesitantly...but coming f...</td>\n",
       "    </tr>\n",
       "  </tbody>\n",
       "</table>\n",
       "</div>"
      ],
      "text/plain": [
       "                                     id                   y  \\\n",
       "0  6cced668-6e51-5212-873c-717f2bc91ce6  [1446633, 1446633]   \n",
       "1  3c6c188a-db28-59aa-8c09-3d0f799ff579  [1446633, 1446633]   \n",
       "2  b0cfa94f-c9ec-5aa5-8331-a5a249b664cf  [1446633, 1446633]   \n",
       "3  e6e86e73-9a7b-58f2-a652-a17b4a1bcabf  [1446633, 1446633]   \n",
       "4  4fe541af-912e-5a86-81a5-94c6d3891509  [1446633, 1446633]   \n",
       "\n",
       "                                          fandoms  \\\n",
       "0  [Guardians of Ga'Hoole, Hetalia - Axis Powers]   \n",
       "1               [Guardians of Ga'Hoole, Warriors]   \n",
       "2       [Guardians of Ga'Hoole, Xiaolin Showdown]   \n",
       "3               [Hetalia - Axis Powers, Warriors]   \n",
       "4       [Hetalia - Axis Powers, Xiaolin Showdown]   \n",
       "\n",
       "                                                pair  \n",
       "0  [I shift a bit, warily letting my eyes dart fr...  \n",
       "1  [I shift a bit, warily letting my eyes dart fr...  \n",
       "2  [A single tear escaped me as I left. I did hav...  \n",
       "3  [\"Ja.\" Ludwig kept his gaze upon her, solidly....  \n",
       "4  [And he did. Slowly, hesitantly...but coming f...  "
      ]
     },
     "execution_count": 15,
     "metadata": {},
     "output_type": "execute_result"
    }
   ],
   "source": [
    "df_combined.head()"
   ]
  },
  {
   "cell_type": "code",
   "execution_count": 16,
   "metadata": {},
   "outputs": [
    {
     "data": {
      "text/plain": [
       "id                      6cced668-6e51-5212-873c-717f2bc91ce6\n",
       "y                                         [1446633, 1446633]\n",
       "fandoms       [Guardians of Ga'Hoole, Hetalia - Axis Powers]\n",
       "pair       [I shift a bit, warily letting my eyes dart fr...\n",
       "Name: 0, dtype: object"
      ]
     },
     "execution_count": 16,
     "metadata": {},
     "output_type": "execute_result"
    }
   ],
   "source": [
    "df_combined.iloc[0]"
   ]
  },
  {
   "cell_type": "markdown",
   "metadata": {},
   "source": [
    "## Generate Dataset\n",
    "\n",
    "- Robust dataset: Separate pairs and with its fandoms. Use fandoms to generate new dataset of pairs."
   ]
  },
  {
   "cell_type": "code",
   "execution_count": 17,
   "metadata": {},
   "outputs": [],
   "source": [
    "def generate_dataset(df: pd.DataFrame):\n",
    "    dataset = {}\n",
    "\n",
    "    for index, row in df.iterrows():\n",
    "        fandoms = row['fandoms']\n",
    "        \n",
    "        if dataset.get(fandoms[0]) is None:\n",
    "            dataset[fandoms[0]] = []\n",
    "        else:\n",
    "            if row['pair'] not in dataset[fandoms[0]]:\n",
    "                dataset[fandoms[0]].append((row['pair'][0], row['y'], row['id']))\n",
    "\n",
    "    return dataset"
   ]
  },
  {
   "cell_type": "code",
   "execution_count": 18,
   "metadata": {},
   "outputs": [
    {
     "ename": "",
     "evalue": "",
     "output_type": "error",
     "traceback": [
      "\u001b[1;31mThe Kernel crashed while executing code in the the current cell or a previous cell. Please review the code in the cell(s) to identify a possible cause of the failure. Click <a href='https://aka.ms/vscodeJupyterKernelCrash'>here</a> for more info. View Jupyter <a href='command:jupyter.viewOutput'>log</a> for further details."
     ]
    }
   ],
   "source": [
    "generate_dataset(df_combined)"
   ]
  },
  {
   "cell_type": "markdown",
   "metadata": {},
   "source": [
    "# Model"
   ]
  },
  {
   "cell_type": "code",
   "execution_count": null,
   "metadata": {},
   "outputs": [],
   "source": [
    "import torch\n",
    "import numpy as np\n",
    "import torch.nn as nn\n",
    "import torch.optim as optim\n",
    "from torch.utils.data import DataLoader, Dataset\n",
    "from transformers import AutoModel, AutoTokenizer\n",
    "from sklearn.model_selection import train_test_split"
   ]
  },
  {
   "cell_type": "code",
   "execution_count": null,
   "metadata": {},
   "outputs": [],
   "source": [
    "accumulator = 0\n",
    "for row in df_combined['pair']:\n",
    "    accumulator += len(row[0]) + len(row[1])\n",
    "\n",
    "mean = int(accumulator / len(df_combined['pair']))\n",
    "mean"
   ]
  },
  {
   "cell_type": "code",
   "execution_count": null,
   "metadata": {},
   "outputs": [],
   "source": [
    "class CustomDataset(Dataset):\n",
    "    def __init__(self, df, model_name, max_len=512):\n",
    "        self.tokenizer = AutoTokenizer.from_pretrained(model_name)\n",
    "        self.data = df\n",
    "        self.targets = self.data['y']\n",
    "        self.max_len = max_len\n",
    "\n",
    "    def __len__(self):\n",
    "        return len(self.data)\n",
    "    \n",
    "    def __getitem__(self, index):\n",
    "        # text_1 = str(self.data.iloc[index, 3][0])\n",
    "        # text_1 = \" \".join(text_1.split())\n",
    "        # text_2 = str(self.data.iloc[index, 3][1])\n",
    "        # text_2 = \" \".join(text_2.split())\n",
    "        # input_1 = self.tokenizer(text_1,\n",
    "        #                         # max_length=self.max_len,\n",
    "        #                         padding=True,\n",
    "        #                         truncation=True,\n",
    "        #                         return_token_type_ids=True,\n",
    "        #                         return_tensors='pt')\n",
    "        # input_2 = self.tokenizer(text_2,\n",
    "        #                         # max_length=self.max_len,\n",
    "        #                         padding=True, #'max_length',\n",
    "        #                         truncation=True,\n",
    "        #                         return_token_type_ids=True,\n",
    "        #                         return_tensors='pt')\n",
    "\n",
    "        # return {\n",
    "        #     'ids_1': torch.tensor(input_1.input_ids, dtype=torch.long),\n",
    "        #     'mask_1': torch.tensor(input_1.attention_mask, dtype=torch.long),\n",
    "        #     'token_type_ids_1': torch.tensor(input_1.token_type_ids, dtype=torch.long),\n",
    "        #     'ids_2': torch.tensor(input_2.input_ids, dtype=torch.long),\n",
    "        #     'mask_2': torch.tensor(input_2.attention_mask, dtype=torch.long),\n",
    "        #     'token_type_ids_2': torch.tensor(input_2.token_type_ids, dtype=torch.long),\n",
    "        #     'targets': torch.tensor(int(self.targets[index][0]), dtype=torch.float)\n",
    "        # }\n",
    "\n",
    "        print(\"Index: \" + str(index))\n",
    "        print(\"Text: \" + str(self.data.iloc[index, 3]))\n",
    "\n",
    "        encoded_input = self.tokenizer(self.data.iloc[index, 3], max_length=512, padding=True, truncation=True, return_tensors='pt')\n",
    "        # input_2 = self.tokenizer(text_2, max_length=self.max_len, padding='max_length', truncation=True, return_tensors='pt')\n",
    "        # input_2 = self.tokenizer(text_2, padding=True, truncation=True, return_tensors='pt')\n",
    "\n",
    "        return {\n",
    "            \"encoded_input\": encoded_input,\n",
    "            # \"encoded_input_2\": input_2,\n",
    "            \"targets\": torch.tensor(int(self.targets.iloc[index, 0]), dtype=torch.float)\n",
    "        }"
   ]
  },
  {
   "cell_type": "code",
   "execution_count": null,
   "metadata": {},
   "outputs": [],
   "source": [
    "# transformer without woth pairs\n",
    "class TransformerModel(nn.Module):\n",
    "    def __init__(self, max_len=512):\n",
    "        super(TransformerModel, self).__init__()\n",
    "        self.transformer = AutoModel.from_pretrained('AnnaWegmann/Style-Embedding')\n",
    "        self.dense1 = nn.Linear(512, 768)\n",
    "        self.dropout = nn.Dropout(0.1)\n",
    "        self.cosine = nn.CosineSimilarity(dim=1)\n",
    "        self.dense = nn.Linear(1, 1)\n",
    "        self.gelu = nn.GELU()\n",
    "\n",
    "    def forward(self, encoded_input):\n",
    "        # x_a, x_b = self.dense1(last_hidden_state_a), self.dense1(last_hidden_state_b)\n",
    "        # x_a, x_b = self.gelu(self.dropout(x_a)), self.gelu(self.dropout(x_b))\n",
    "        # sem_sim = self.cosine(x_a, x_b)\n",
    "        # weighted_sem_sim = self.dense(sem_sim)\n",
    "        with torch.no_grad():\n",
    "            model_output = self.transformer(input_ids=encoded_input['input_ids'], attention_mask=encoded_input['attention_mask'])\n",
    "\n",
    "        return model_output\n",
    "    # def forward(self, input1):\n",
    "    #     self.transformer.train()\n",
    "        \n",
    "    #     with torch.no_grad():\n",
    "    #         model_output = self.transformer(**input1)\n",
    "    #     return model_output.last_hidden_state[:, 0]"
   ]
  },
  {
   "cell_type": "markdown",
   "metadata": {},
   "source": [
    "## Test mio para comprobar que funciona y corre el modelo"
   ]
  },
  {
   "cell_type": "code",
   "execution_count": null,
   "metadata": {},
   "outputs": [],
   "source": [
    "num_fandoms = len(df_combined['fandoms'].explode().unique())\n",
    "model_name = 'AnnaWegmann/Style-Embedding' # 'bert-base-uncased'  # Choose the appropriate pretrained model\n",
    "# anna weinman style embeddings - hard negative mininng\n",
    "# model = TransformerModel(num_fandoms, model_name)\n",
    "model = TransformerModel(max_len=514)"
   ]
  },
  {
   "cell_type": "code",
   "execution_count": null,
   "metadata": {},
   "outputs": [],
   "source": [
    "model.train() # tell model we are going to train -> https://stackoverflow.com/questions/51433378/what-does-model-train-do-in-pytorch\n",
    "train_df, val_df = train_test_split(df_combined, test_size=0.2, random_state=42)\n",
    "train_dataset = CustomDataset(train_df, model_name, max_len=514)\n",
    "train_data_loader = DataLoader(train_dataset, batch_size=1, shuffle=True)"
   ]
  },
  {
   "cell_type": "code",
   "execution_count": null,
   "metadata": {},
   "outputs": [],
   "source": [
    "train_df['pair'][0]"
   ]
  },
  {
   "cell_type": "code",
   "execution_count": null,
   "metadata": {},
   "outputs": [],
   "source": [
    "print(train_df.index)"
   ]
  },
  {
   "cell_type": "code",
   "execution_count": null,
   "metadata": {},
   "outputs": [],
   "source": [
    "from transformers import AutoTokenizer, AutoModel\n",
    "import torch\n",
    "\n",
    "MODEL_NAME = 'AnnaWegmann/Style-Embedding'\n",
    "\n",
    "# Sentences we want sentence embeddings for\n",
    "sentences = train_df['pair'][0]\n",
    "\n",
    "# Load model from HuggingFace Hub\n",
    "tokenizer = AutoTokenizer.from_pretrained(MODEL_NAME)\n",
    "model = AutoModel.from_pretrained(MODEL_NAME)\n",
    "\n",
    "# Tokenize sentences\n",
    "encoded_input = tokenizer(sentences, max_length=512, padding=True, truncation=True, return_tensors='pt')\n",
    "print(encoded_input)\n",
    "\n",
    "for batch in train_data_loader:            # \"encoded_input_2\": input_2,\n",
    "\n",
    "    # Print the shape of the input tensor\n",
    "    print(\"Input Shape:\", batch['encoded_input']['input_ids'].shape)\n",
    "\n",
    "    # Compute token embeddings\n",
    "    encoded_input = batch['encoded_input']\n",
    "    with torch.no_grad():\n",
    "        model_output = model(input_ids=encoded_input['input_ids'], attention_mask=encoded_input['attention_mask'])\n",
    "\n",
    "    break\n",
    "\n",
    "print(model_output)"
   ]
  },
  {
   "cell_type": "code",
   "execution_count": null,
   "metadata": {},
   "outputs": [],
   "source": [
    "# model_1 = AutoModel.from_pretrained('AnnaWegmann/Style-Embedding')\n",
    "# model_1.train()\n",
    "\n",
    "# encoded_input = tokenizer(train_df['pair'][0], max_length=512, padding='max_length', truncation=True, return_tensors='pt')\n",
    "\n",
    "# with torch.no_grad():\n",
    "#     model_output = model_1(**encoded_input)\n",
    "\n",
    "# print(model_output.last_hidden_state[:, 0])\n",
    "\n",
    "for batch in train_data_loader:\n",
    "    # ids, masks, token_type_ids, targets = batch['ids_1'], batch['mask_1'], batch['token_type_ids_1'], batch['targets']\n",
    "    # ids2, masks2, token_type_ids2 = batch['ids_2'], batch['mask_2'], batch['token_type_ids_2']\n",
    "    encoded_input = batch[\"encoded_input\"]\n",
    "    print(batch)\n",
    "    print(encoded_input.keys())\n",
    "    print(encoded_input)\n",
    "    x = model.forward(encoded_input)\n",
    "    print(x)\n",
    "    break"
   ]
  },
  {
   "cell_type": "markdown",
   "metadata": {},
   "source": [
    "# Training model\n",
    "\n",
    "See diapos a partir de la 152 y usar anotación de la diapos (ejemplo: bs_sl -> Batch size - Sequence Length)"
   ]
  },
  {
   "cell_type": "code",
   "execution_count": null,
   "metadata": {},
   "outputs": [],
   "source": [
    "# Define your loss function (customize based on your task)\n",
    "criterion = nn.MSELoss()  # Example: Mean Squared Error\n",
    "\n",
    "# Define optimizer (e.g., Adam)\n",
    "optimizer = optim.Adam(model.parameters(), lr=0.001)\n",
    "\n",
    "# Split your data into training and validation sets\n",
    "train_df, val_df = train_test_split(df_combined, test_size=0.2, random_state=42)\n",
    "\n",
    "# Define a function to compute accuracy or other evaluation metrics\n",
    "def evaluate(model, data_loader):\n",
    "    model.eval()\n",
    "    total_loss = 0\n",
    "    with torch.no_grad():\n",
    "        for batch in data_loader:\n",
    "            pairs = batch['pairs']\n",
    "            fandoms = batch['fandoms']\n",
    "            y = batch['y']\n",
    "\n",
    "            # Forward pass\n",
    "            y_pred = model(pairs, fandoms)\n",
    "\n",
    "            # Calculate loss (customize based on your task)\n",
    "            loss = criterion(y_pred, y)\n",
    "\n",
    "            total_loss += loss.item()\n",
    "\n",
    "    return total_loss / len(data_loader)\n",
    "\n",
    "# Training loop\n",
    "num_epochs = 10\n",
    "batch_size = 32\n",
    "\n",
    "train_dataset = CustomDataset(train_df)\n",
    "validate_dataset = CustomDataset(val_df)\n",
    "\n",
    "for epoch in range(num_epochs):\n",
    "    model.train()\n",
    "    running_loss = 0.0\n",
    "\n",
    "    # Create a DataLoader for training and validation data\n",
    "    # You'll need to customize this part based on your dataset and preprocessing\n",
    "    train_data_loader = DataLoader(train_dataset, batch_size=batch_size, shuffle=True)\n",
    "    val_data_loader = DataLoader(validate_dataset, batch_size=batch_size, shuffle=True)\n",
    "\n",
    "    for batch in train_data_loader:\n",
    "        print(batch)\n",
    "        pairs = batch['pairs']\n",
    "        fandoms = batch['fandoms']\n",
    "        y = batch['y']\n",
    "\n",
    "        # Zero the parameter gradients\n",
    "        optimizer.zero_grad()\n",
    "\n",
    "        # Forward pass\n",
    "        y_pred = model.forward(pairs, fandoms)\n",
    "\n",
    "        # Calculate loss\n",
    "        loss = criterion(y_pred, y)\n",
    "\n",
    "        # Backpropagation and optimization\n",
    "        loss.backward()\n",
    "        optimizer.step()\n",
    "\n",
    "        running_loss += loss.item()\n",
    "\n",
    "    # Evaluate the model on the validation set\n",
    "    val_loss = evaluate(model, val_data_loader)\n",
    "\n",
    "    print(f'Epoch {epoch + 1}, Loss: {running_loss / len(train_data_loader)}, Val Loss: {val_loss}')\n",
    "\n",
    "print('Finished Training')"
   ]
  }
 ],
 "metadata": {
  "kernelspec": {
   "display_name": ".venv",
   "language": "python",
   "name": "python3"
  },
  "language_info": {
   "codemirror_mode": {
    "name": "ipython",
    "version": 3
   },
   "file_extension": ".py",
   "mimetype": "text/x-python",
   "name": "python",
   "nbconvert_exporter": "python",
   "pygments_lexer": "ipython3",
   "version": "3.11.2"
  }
 },
 "nbformat": 4,
 "nbformat_minor": 2
}
